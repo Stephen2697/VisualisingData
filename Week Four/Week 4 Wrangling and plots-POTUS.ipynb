{
 "cells": [
  {
   "cell_type": "markdown",
   "metadata": {},
   "source": [
    "# Wrangling data and plotting"
   ]
  },
  {
   "cell_type": "markdown",
   "metadata": {},
   "source": [
    "Based on the dataset \n",
    "https://docs.google.com/spreadsheets/d/1iEl565M1mICTubTtoxXMdxzaHzAcPTnb3kpRndsrfyY/edit?ts=5bd7f609#gid=671375968"
   ]
  },
  {
   "cell_type": "markdown",
   "metadata": {},
   "source": [
    "## tidyverse\n",
    "\n",
    "This package contains both dplyr and ggplot2, so it is very useful\n",
    "\n",
    "### Piping\n",
    "\n",
    "The sequence %>% is used to pipe commands together\n",
    "\n",
    "### Projection\n",
    "\n",
    "To select:\n",
    " - data %>% select(vbl1, vbl2,..., vbln)\n",
    " \n",
    "### Selection\n",
    " \n",
    " To select:\n",
    " \n",
    " - data %>% filter(vbl1 == value)\n",
    " \n",
    " To extract 1 column, use 'pull'"
   ]
  },
  {
   "cell_type": "code",
   "execution_count": 1,
   "metadata": {},
   "outputs": [
    {
     "name": "stderr",
     "output_type": "stream",
     "text": [
      "── \u001b[1mAttaching packages\u001b[22m ─────────────────────────────────────── tidyverse 1.3.0 ──\n",
      "\n",
      "\u001b[32m✔\u001b[39m \u001b[34mggplot2\u001b[39m 3.3.3     \u001b[32m✔\u001b[39m \u001b[34mpurrr  \u001b[39m 0.3.4\n",
      "\u001b[32m✔\u001b[39m \u001b[34mtibble \u001b[39m 3.0.1     \u001b[32m✔\u001b[39m \u001b[34mdplyr  \u001b[39m 0.8.5\n",
      "\u001b[32m✔\u001b[39m \u001b[34mtidyr  \u001b[39m 1.0.3     \u001b[32m✔\u001b[39m \u001b[34mstringr\u001b[39m 1.4.0\n",
      "\u001b[32m✔\u001b[39m \u001b[34mreadr  \u001b[39m 1.3.1     \u001b[32m✔\u001b[39m \u001b[34mforcats\u001b[39m 0.5.0\n",
      "\n",
      "Warning message:\n",
      "“package ‘ggplot2’ was built under R version 3.6.2”\n",
      "Warning message:\n",
      "“package ‘tibble’ was built under R version 3.6.2”\n",
      "Warning message:\n",
      "“package ‘tidyr’ was built under R version 3.6.2”\n",
      "Warning message:\n",
      "“package ‘purrr’ was built under R version 3.6.2”\n",
      "── \u001b[1mConflicts\u001b[22m ────────────────────────────────────────── tidyverse_conflicts() ──\n",
      "\u001b[31m✖\u001b[39m \u001b[34mdplyr\u001b[39m::\u001b[32mfilter()\u001b[39m masks \u001b[34mstats\u001b[39m::filter()\n",
      "\u001b[31m✖\u001b[39m \u001b[34mdplyr\u001b[39m::\u001b[32mlag()\u001b[39m    masks \u001b[34mstats\u001b[39m::lag()\n",
      "\n",
      "Warning message:\n",
      "“package ‘lubridate’ was built under R version 3.6.2”\n",
      "\n",
      "Attaching package: ‘lubridate’\n",
      "\n",
      "\n",
      "The following objects are masked from ‘package:dplyr’:\n",
      "\n",
      "    intersect, setdiff, union\n",
      "\n",
      "\n",
      "The following objects are masked from ‘package:base’:\n",
      "\n",
      "    date, intersect, setdiff, union\n",
      "\n",
      "\n",
      "Warning message:\n",
      "“package ‘zoo’ was built under R version 3.6.2”\n",
      "\n",
      "Attaching package: ‘zoo’\n",
      "\n",
      "\n",
      "The following objects are masked from ‘package:base’:\n",
      "\n",
      "    as.Date, as.Date.numeric\n",
      "\n",
      "\n"
     ]
    }
   ],
   "source": [
    "library(tidyverse)\n",
    "library(lubridate)\n",
    "library(zoo)"
   ]
  },
  {
   "cell_type": "code",
   "execution_count": 2,
   "metadata": {},
   "outputs": [],
   "source": [
    "dfsource<-\"./data/POTUS_approval.csv\"\n",
    "polls <- read.csv(dfsource, stringsAsFactors = F)"
   ]
  },
  {
   "cell_type": "code",
   "execution_count": 3,
   "metadata": {},
   "outputs": [
    {
     "data": {
      "text/html": [
       "<table>\n",
       "<caption>A data.frame: 6 × 6</caption>\n",
       "<thead>\n",
       "\t<tr><th></th><th scope=col>President</th><th scope=col>Start.Date</th><th scope=col>End.Date</th><th scope=col>Approving</th><th scope=col>Disapproving</th><th scope=col>Unsure.NoData</th></tr>\n",
       "\t<tr><th></th><th scope=col>&lt;chr&gt;</th><th scope=col>&lt;chr&gt;</th><th scope=col>&lt;chr&gt;</th><th scope=col>&lt;int&gt;</th><th scope=col>&lt;int&gt;</th><th scope=col>&lt;int&gt;</th></tr>\n",
       "</thead>\n",
       "<tbody>\n",
       "\t<tr><th scope=row>1</th><td>Barack Obama</td><td>16/01/2017</td><td>19/01/2017</td><td>59</td><td>37</td><td>4</td></tr>\n",
       "\t<tr><th scope=row>2</th><td>Barack Obama</td><td>09/01/2017</td><td>15/01/2017</td><td>57</td><td>39</td><td>4</td></tr>\n",
       "\t<tr><th scope=row>3</th><td>Barack Obama</td><td>02/01/2017</td><td>08/01/2017</td><td>55</td><td>42</td><td>3</td></tr>\n",
       "\t<tr><th scope=row>4</th><td>Barack Obama</td><td>26/12/2016</td><td>01/01/2017</td><td>55</td><td>40</td><td>5</td></tr>\n",
       "\t<tr><th scope=row>5</th><td>Barack Obama</td><td>19/12/2016</td><td>25/12/2016</td><td>56</td><td>40</td><td>4</td></tr>\n",
       "\t<tr><th scope=row>6</th><td>Barack Obama</td><td>12/12/2016</td><td>18/12/2016</td><td>56</td><td>40</td><td>4</td></tr>\n",
       "</tbody>\n",
       "</table>\n"
      ],
      "text/latex": [
       "A data.frame: 6 × 6\n",
       "\\begin{tabular}{r|llllll}\n",
       "  & President & Start.Date & End.Date & Approving & Disapproving & Unsure.NoData\\\\\n",
       "  & <chr> & <chr> & <chr> & <int> & <int> & <int>\\\\\n",
       "\\hline\n",
       "\t1 & Barack Obama & 16/01/2017 & 19/01/2017 & 59 & 37 & 4\\\\\n",
       "\t2 & Barack Obama & 09/01/2017 & 15/01/2017 & 57 & 39 & 4\\\\\n",
       "\t3 & Barack Obama & 02/01/2017 & 08/01/2017 & 55 & 42 & 3\\\\\n",
       "\t4 & Barack Obama & 26/12/2016 & 01/01/2017 & 55 & 40 & 5\\\\\n",
       "\t5 & Barack Obama & 19/12/2016 & 25/12/2016 & 56 & 40 & 4\\\\\n",
       "\t6 & Barack Obama & 12/12/2016 & 18/12/2016 & 56 & 40 & 4\\\\\n",
       "\\end{tabular}\n"
      ],
      "text/markdown": [
       "\n",
       "A data.frame: 6 × 6\n",
       "\n",
       "| <!--/--> | President &lt;chr&gt; | Start.Date &lt;chr&gt; | End.Date &lt;chr&gt; | Approving &lt;int&gt; | Disapproving &lt;int&gt; | Unsure.NoData &lt;int&gt; |\n",
       "|---|---|---|---|---|---|---|\n",
       "| 1 | Barack Obama | 16/01/2017 | 19/01/2017 | 59 | 37 | 4 |\n",
       "| 2 | Barack Obama | 09/01/2017 | 15/01/2017 | 57 | 39 | 4 |\n",
       "| 3 | Barack Obama | 02/01/2017 | 08/01/2017 | 55 | 42 | 3 |\n",
       "| 4 | Barack Obama | 26/12/2016 | 01/01/2017 | 55 | 40 | 5 |\n",
       "| 5 | Barack Obama | 19/12/2016 | 25/12/2016 | 56 | 40 | 4 |\n",
       "| 6 | Barack Obama | 12/12/2016 | 18/12/2016 | 56 | 40 | 4 |\n",
       "\n"
      ],
      "text/plain": [
       "  President    Start.Date End.Date   Approving Disapproving Unsure.NoData\n",
       "1 Barack Obama 16/01/2017 19/01/2017 59        37           4            \n",
       "2 Barack Obama 09/01/2017 15/01/2017 57        39           4            \n",
       "3 Barack Obama 02/01/2017 08/01/2017 55        42           3            \n",
       "4 Barack Obama 26/12/2016 01/01/2017 55        40           5            \n",
       "5 Barack Obama 19/12/2016 25/12/2016 56        40           4            \n",
       "6 Barack Obama 12/12/2016 18/12/2016 56        40           4            "
      ]
     },
     "metadata": {},
     "output_type": "display_data"
    }
   ],
   "source": [
    "head(polls)"
   ]
  },
  {
   "cell_type": "code",
   "execution_count": 4,
   "metadata": {},
   "outputs": [],
   "source": [
    "polls<-polls %>% \n",
    "  rename(\n",
    "    Date = Start.Date,\n",
    "    EndDate = End.Date,\n",
    "    Approve = Approving,\n",
    "    Disapprove = Disapproving\n",
    "    )"
   ]
  },
  {
   "cell_type": "code",
   "execution_count": 5,
   "metadata": {},
   "outputs": [
    {
     "name": "stdout",
     "output_type": "stream",
     "text": [
      "'data.frame':\t1305 obs. of  6 variables:\n",
      " $ President    : chr  \"Barack Obama\" \"Barack Obama\" \"Barack Obama\" \"Barack Obama\" ...\n",
      " $ Date         : chr  \"16/01/2017\" \"09/01/2017\" \"02/01/2017\" \"26/12/2016\" ...\n",
      " $ EndDate      : chr  \"19/01/2017\" \"15/01/2017\" \"08/01/2017\" \"01/01/2017\" ...\n",
      " $ Approve      : int  59 57 55 55 56 56 57 54 56 56 ...\n",
      " $ Disapprove   : int  37 39 42 40 40 40 40 43 40 41 ...\n",
      " $ Unsure.NoData: int  4 4 3 5 4 4 3 3 4 3 ...\n"
     ]
    }
   ],
   "source": [
    "str(polls)"
   ]
  },
  {
   "cell_type": "code",
   "execution_count": 6,
   "metadata": {},
   "outputs": [],
   "source": [
    "polls$Date<-dmy(polls$Date)"
   ]
  },
  {
   "cell_type": "code",
   "execution_count": 7,
   "metadata": {},
   "outputs": [
    {
     "name": "stdout",
     "output_type": "stream",
     "text": [
      "'data.frame':\t1305 obs. of  6 variables:\n",
      " $ President    : chr  \"Barack Obama\" \"Barack Obama\" \"Barack Obama\" \"Barack Obama\" ...\n",
      " $ Date         : Date, format: \"2017-01-16\" \"2017-01-09\" ...\n",
      " $ EndDate      : chr  \"19/01/2017\" \"15/01/2017\" \"08/01/2017\" \"01/01/2017\" ...\n",
      " $ Approve      : int  59 57 55 55 56 56 57 54 56 56 ...\n",
      " $ Disapprove   : int  37 39 42 40 40 40 40 43 40 41 ...\n",
      " $ Unsure.NoData: int  4 4 3 5 4 4 3 3 4 3 ...\n"
     ]
    }
   ],
   "source": [
    "str(polls)"
   ]
  },
  {
   "cell_type": "code",
   "execution_count": 8,
   "metadata": {},
   "outputs": [],
   "source": [
    "TrumpApprove <- polls %>% \n",
    "  select(President, Date, Approve) %>%\n",
    "  filter (President == \"Donald Trump\")"
   ]
  },
  {
   "cell_type": "markdown",
   "metadata": {},
   "source": [
    "## Aggregation\n",
    "\n",
    "grouping is done using group_by(variable)\n",
    "\n",
    "Summarising functions include mean(), median()"
   ]
  },
  {
   "cell_type": "code",
   "execution_count": 9,
   "metadata": {},
   "outputs": [
    {
     "data": {
      "text/html": [
       "<table>\n",
       "<caption>A tibble: 6 × 2</caption>\n",
       "<thead>\n",
       "\t<tr><th scope=col>President</th><th scope=col>MeanApproval</th></tr>\n",
       "\t<tr><th scope=col>&lt;chr&gt;</th><th scope=col>&lt;dbl&gt;</th></tr>\n",
       "</thead>\n",
       "<tbody>\n",
       "\t<tr><td>Barack Obama      </td><td>47.96890</td></tr>\n",
       "\t<tr><td>Donald Trump      </td><td>40.38298</td></tr>\n",
       "\t<tr><td>George Bush       </td><td>61.41593</td></tr>\n",
       "\t<tr><td>George W. Bush    </td><td>51.34752</td></tr>\n",
       "\t<tr><td>Ronald Reagan     </td><td>52.23704</td></tr>\n",
       "\t<tr><td>William J. Clinton</td><td>55.49074</td></tr>\n",
       "</tbody>\n",
       "</table>\n"
      ],
      "text/latex": [
       "A tibble: 6 × 2\n",
       "\\begin{tabular}{ll}\n",
       " President & MeanApproval\\\\\n",
       " <chr> & <dbl>\\\\\n",
       "\\hline\n",
       "\t Barack Obama       & 47.96890\\\\\n",
       "\t Donald Trump       & 40.38298\\\\\n",
       "\t George Bush        & 61.41593\\\\\n",
       "\t George W. Bush     & 51.34752\\\\\n",
       "\t Ronald Reagan      & 52.23704\\\\\n",
       "\t William J. Clinton & 55.49074\\\\\n",
       "\\end{tabular}\n"
      ],
      "text/markdown": [
       "\n",
       "A tibble: 6 × 2\n",
       "\n",
       "| President &lt;chr&gt; | MeanApproval &lt;dbl&gt; |\n",
       "|---|---|\n",
       "| Barack Obama       | 47.96890 |\n",
       "| Donald Trump       | 40.38298 |\n",
       "| George Bush        | 61.41593 |\n",
       "| George W. Bush     | 51.34752 |\n",
       "| Ronald Reagan      | 52.23704 |\n",
       "| William J. Clinton | 55.49074 |\n",
       "\n"
      ],
      "text/plain": [
       "  President          MeanApproval\n",
       "1 Barack Obama       47.96890    \n",
       "2 Donald Trump       40.38298    \n",
       "3 George Bush        61.41593    \n",
       "4 George W. Bush     51.34752    \n",
       "5 Ronald Reagan      52.23704    \n",
       "6 William J. Clinton 55.49074    "
      ]
     },
     "metadata": {},
     "output_type": "display_data"
    }
   ],
   "source": [
    "polls %>% \n",
    "    group_by(President) %>%\n",
    "    summarise(MeanApproval = mean(Approve))"
   ]
  },
  {
   "cell_type": "code",
   "execution_count": 10,
   "metadata": {},
   "outputs": [
    {
     "data": {
      "text/html": [
       "1305"
      ],
      "text/latex": [
       "1305"
      ],
      "text/markdown": [
       "1305"
      ],
      "text/plain": [
       "[1] 1305"
      ]
     },
     "metadata": {},
     "output_type": "display_data"
    }
   ],
   "source": [
    "nrow(polls)"
   ]
  },
  {
   "cell_type": "code",
   "execution_count": 11,
   "metadata": {},
   "outputs": [],
   "source": [
    "polls <- drop_na(polls)"
   ]
  },
  {
   "cell_type": "code",
   "execution_count": 12,
   "metadata": {},
   "outputs": [
    {
     "data": {
      "text/html": [
       "1305"
      ],
      "text/latex": [
       "1305"
      ],
      "text/markdown": [
       "1305"
      ],
      "text/plain": [
       "[1] 1305"
      ]
     },
     "metadata": {},
     "output_type": "display_data"
    }
   ],
   "source": [
    "nrow(polls)"
   ]
  },
  {
   "cell_type": "code",
   "execution_count": 13,
   "metadata": {},
   "outputs": [
    {
     "data": {
      "text/html": [
       "<table>\n",
       "<caption>A tibble: 6 × 2</caption>\n",
       "<thead>\n",
       "\t<tr><th scope=col>President</th><th scope=col>MeanApproval</th></tr>\n",
       "\t<tr><th scope=col>&lt;chr&gt;</th><th scope=col>&lt;dbl&gt;</th></tr>\n",
       "</thead>\n",
       "<tbody>\n",
       "\t<tr><td>Barack Obama      </td><td>47.96890</td></tr>\n",
       "\t<tr><td>Donald Trump      </td><td>40.38298</td></tr>\n",
       "\t<tr><td>George Bush       </td><td>61.41593</td></tr>\n",
       "\t<tr><td>George W. Bush    </td><td>51.34752</td></tr>\n",
       "\t<tr><td>Ronald Reagan     </td><td>52.23704</td></tr>\n",
       "\t<tr><td>William J. Clinton</td><td>55.49074</td></tr>\n",
       "</tbody>\n",
       "</table>\n"
      ],
      "text/latex": [
       "A tibble: 6 × 2\n",
       "\\begin{tabular}{ll}\n",
       " President & MeanApproval\\\\\n",
       " <chr> & <dbl>\\\\\n",
       "\\hline\n",
       "\t Barack Obama       & 47.96890\\\\\n",
       "\t Donald Trump       & 40.38298\\\\\n",
       "\t George Bush        & 61.41593\\\\\n",
       "\t George W. Bush     & 51.34752\\\\\n",
       "\t Ronald Reagan      & 52.23704\\\\\n",
       "\t William J. Clinton & 55.49074\\\\\n",
       "\\end{tabular}\n"
      ],
      "text/markdown": [
       "\n",
       "A tibble: 6 × 2\n",
       "\n",
       "| President &lt;chr&gt; | MeanApproval &lt;dbl&gt; |\n",
       "|---|---|\n",
       "| Barack Obama       | 47.96890 |\n",
       "| Donald Trump       | 40.38298 |\n",
       "| George Bush        | 61.41593 |\n",
       "| George W. Bush     | 51.34752 |\n",
       "| Ronald Reagan      | 52.23704 |\n",
       "| William J. Clinton | 55.49074 |\n",
       "\n"
      ],
      "text/plain": [
       "  President          MeanApproval\n",
       "1 Barack Obama       47.96890    \n",
       "2 Donald Trump       40.38298    \n",
       "3 George Bush        61.41593    \n",
       "4 George W. Bush     51.34752    \n",
       "5 Ronald Reagan      52.23704    \n",
       "6 William J. Clinton 55.49074    "
      ]
     },
     "metadata": {},
     "output_type": "display_data"
    }
   ],
   "source": [
    "#To extract this as vector \n",
    "Avgpolls <- polls%>% \n",
    "    group_by(President) %>%\n",
    "    summarise(MeanApproval = mean(Approve)) \n",
    "Avgpolls"
   ]
  },
  {
   "cell_type": "code",
   "execution_count": 14,
   "metadata": {},
   "outputs": [
    {
     "data": {
      "text/html": [
       "<style>\n",
       ".list-inline {list-style: none; margin:0; padding: 0}\n",
       ".list-inline>li {display: inline-block}\n",
       ".list-inline>li:not(:last-child)::after {content: \"\\00b7\"; padding: 0 .5ex}\n",
       "</style>\n",
       "<ol class=list-inline><li>47.9688995215311</li><li>40.3829787234043</li><li>61.4159292035398</li><li>51.3475177304965</li><li>52.237037037037</li><li>55.4907407407407</li></ol>\n"
      ],
      "text/latex": [
       "\\begin{enumerate*}\n",
       "\\item 47.9688995215311\n",
       "\\item 40.3829787234043\n",
       "\\item 61.4159292035398\n",
       "\\item 51.3475177304965\n",
       "\\item 52.237037037037\n",
       "\\item 55.4907407407407\n",
       "\\end{enumerate*}\n"
      ],
      "text/markdown": [
       "1. 47.9688995215311\n",
       "2. 40.3829787234043\n",
       "3. 61.4159292035398\n",
       "4. 51.3475177304965\n",
       "5. 52.237037037037\n",
       "6. 55.4907407407407\n",
       "\n",
       "\n"
      ],
      "text/plain": [
       "[1] 47.96890 40.38298 61.41593 51.34752 52.23704 55.49074"
      ]
     },
     "metadata": {},
     "output_type": "display_data"
    }
   ],
   "source": [
    "Avgpolls %>%     pull(MeanApproval)"
   ]
  },
  {
   "cell_type": "code",
   "execution_count": 15,
   "metadata": {},
   "outputs": [
    {
     "data": {
      "text/html": [
       "<style>\n",
       ".list-inline {list-style: none; margin:0; padding: 0}\n",
       ".list-inline>li {display: inline-block}\n",
       ".list-inline>li:not(:last-child)::after {content: \"\\00b7\"; padding: 0 .5ex}\n",
       "</style>\n",
       "<ol class=list-inline><li>47.9688995215311</li><li>40.3829787234043</li><li>61.4159292035398</li><li>51.3475177304965</li><li>52.237037037037</li><li>55.4907407407407</li></ol>\n"
      ],
      "text/latex": [
       "\\begin{enumerate*}\n",
       "\\item 47.9688995215311\n",
       "\\item 40.3829787234043\n",
       "\\item 61.4159292035398\n",
       "\\item 51.3475177304965\n",
       "\\item 52.237037037037\n",
       "\\item 55.4907407407407\n",
       "\\end{enumerate*}\n"
      ],
      "text/markdown": [
       "1. 47.9688995215311\n",
       "2. 40.3829787234043\n",
       "3. 61.4159292035398\n",
       "4. 51.3475177304965\n",
       "5. 52.237037037037\n",
       "6. 55.4907407407407\n",
       "\n",
       "\n"
      ],
      "text/plain": [
       "[1] 47.96890 40.38298 61.41593 51.34752 52.23704 55.49074"
      ]
     },
     "metadata": {},
     "output_type": "display_data"
    }
   ],
   "source": [
    "Avgpolls$MeanApproval"
   ]
  },
  {
   "cell_type": "markdown",
   "metadata": {},
   "source": [
    "### Getting moving averages\n",
    "\n",
    "This is an average over a time frame time.  For this, we need the lubridate package"
   ]
  },
  {
   "cell_type": "code",
   "execution_count": 16,
   "metadata": {},
   "outputs": [
    {
     "data": {
      "text/html": [
       "<time datetime=\"2021-02-17\">2021-02-17</time>"
      ],
      "text/latex": [
       "2021-02-17"
      ],
      "text/markdown": [
       "2021-02-17"
      ],
      "text/plain": [
       "[1] \"2021-02-17\""
      ]
     },
     "metadata": {},
     "output_type": "display_data"
    },
    {
     "data": {
      "text/html": [
       "2"
      ],
      "text/latex": [
       "2"
      ],
      "text/markdown": [
       "2"
      ],
      "text/plain": [
       "[1] 2"
      ]
     },
     "metadata": {},
     "output_type": "display_data"
    },
    {
     "data": {
      "text/html": [
       "Feb\n",
       "<details>\n",
       "\t<summary style=display:list-item;cursor:pointer>\n",
       "\t\t<strong>Levels</strong>:\n",
       "\t</summary>\n",
       "\t<style>\n",
       "\t.list-inline {list-style: none; margin:0; padding: 0}\n",
       "\t.list-inline>li {display: inline-block}\n",
       "\t.list-inline>li:not(:last-child)::after {content: \"\\00b7\"; padding: 0 .5ex}\n",
       "\t</style>\n",
       "\t<ol class=list-inline><li>'Jan'</li><li>'Feb'</li><li>'Mar'</li><li>'Apr'</li><li>'May'</li><li>'Jun'</li><li>'Jul'</li><li>'Aug'</li><li>'Sep'</li><li>'Oct'</li><li>'Nov'</li><li>'Dec'</li></ol>\n",
       "</details>"
      ],
      "text/latex": [
       "Feb\n",
       "\\emph{Levels}: \\begin{enumerate*}\n",
       "\\item 'Jan'\n",
       "\\item 'Feb'\n",
       "\\item 'Mar'\n",
       "\\item 'Apr'\n",
       "\\item 'May'\n",
       "\\item 'Jun'\n",
       "\\item 'Jul'\n",
       "\\item 'Aug'\n",
       "\\item 'Sep'\n",
       "\\item 'Oct'\n",
       "\\item 'Nov'\n",
       "\\item 'Dec'\n",
       "\\end{enumerate*}\n"
      ],
      "text/markdown": [
       "Feb\n",
       "**Levels**: 1. 'Jan'\n",
       "2. 'Feb'\n",
       "3. 'Mar'\n",
       "4. 'Apr'\n",
       "5. 'May'\n",
       "6. 'Jun'\n",
       "7. 'Jul'\n",
       "8. 'Aug'\n",
       "9. 'Sep'\n",
       "10. 'Oct'\n",
       "11. 'Nov'\n",
       "12. 'Dec'\n",
       "\n",
       "\n"
      ],
      "text/plain": [
       "[1] Feb\n",
       "12 Levels: Jan < Feb < Mar < Apr < May < Jun < Jul < Aug < Sep < ... < Dec"
      ]
     },
     "metadata": {},
     "output_type": "display_data"
    }
   ],
   "source": [
    "library(lubridate)\n",
    "date <-ymd(\"2021-02-17\")\n",
    "date\n",
    "month(date)\n",
    "month(date, label=T)"
   ]
  },
  {
   "cell_type": "raw",
   "metadata": {},
   "source": [
    "To compute moving averages, sort the data by date. Then  take the mean of all the previous data within a certain window — say, 10 polls. Then, do the same for every observation  between starting day x and end day y. \n",
    "\n",
    "The zoo package provides the rollmean() function, which iterates over every row in your data and averages the last x observations of variable y. In this case, the rollmean() function would take an average of the president's approval for every previous x, polls. We specify the variable we want, in this case, named Approve, the number of observations to average, whether or not to fill the rows between one and x variables with NA, and whether or not we should average \"up\" or \"down\" the data frame.\n"
   ]
  },
  {
   "cell_type": "code",
   "execution_count": 17,
   "metadata": {},
   "outputs": [
    {
     "data": {
      "text/html": [
       "<table>\n",
       "<caption>A data.frame: 6 × 4</caption>\n",
       "<thead>\n",
       "\t<tr><th></th><th scope=col>President</th><th scope=col>Date</th><th scope=col>Approve</th><th scope=col>Disapprove</th></tr>\n",
       "\t<tr><th></th><th scope=col>&lt;chr&gt;</th><th scope=col>&lt;date&gt;</th><th scope=col>&lt;int&gt;</th><th scope=col>&lt;int&gt;</th></tr>\n",
       "</thead>\n",
       "<tbody>\n",
       "\t<tr><th scope=row>1</th><td>Donald Trump</td><td>2017-01-20</td><td>45</td><td>47</td></tr>\n",
       "\t<tr><th scope=row>2</th><td>Donald Trump</td><td>2017-01-30</td><td>43</td><td>52</td></tr>\n",
       "\t<tr><th scope=row>3</th><td>Donald Trump</td><td>2017-02-06</td><td>41</td><td>53</td></tr>\n",
       "\t<tr><th scope=row>4</th><td>Donald Trump</td><td>2017-02-13</td><td>40</td><td>54</td></tr>\n",
       "\t<tr><th scope=row>5</th><td>Donald Trump</td><td>2017-02-20</td><td>42</td><td>53</td></tr>\n",
       "\t<tr><th scope=row>6</th><td>Donald Trump</td><td>2017-02-27</td><td>43</td><td>51</td></tr>\n",
       "</tbody>\n",
       "</table>\n"
      ],
      "text/latex": [
       "A data.frame: 6 × 4\n",
       "\\begin{tabular}{r|llll}\n",
       "  & President & Date & Approve & Disapprove\\\\\n",
       "  & <chr> & <date> & <int> & <int>\\\\\n",
       "\\hline\n",
       "\t1 & Donald Trump & 2017-01-20 & 45 & 47\\\\\n",
       "\t2 & Donald Trump & 2017-01-30 & 43 & 52\\\\\n",
       "\t3 & Donald Trump & 2017-02-06 & 41 & 53\\\\\n",
       "\t4 & Donald Trump & 2017-02-13 & 40 & 54\\\\\n",
       "\t5 & Donald Trump & 2017-02-20 & 42 & 53\\\\\n",
       "\t6 & Donald Trump & 2017-02-27 & 43 & 51\\\\\n",
       "\\end{tabular}\n"
      ],
      "text/markdown": [
       "\n",
       "A data.frame: 6 × 4\n",
       "\n",
       "| <!--/--> | President &lt;chr&gt; | Date &lt;date&gt; | Approve &lt;int&gt; | Disapprove &lt;int&gt; |\n",
       "|---|---|---|---|---|\n",
       "| 1 | Donald Trump | 2017-01-20 | 45 | 47 |\n",
       "| 2 | Donald Trump | 2017-01-30 | 43 | 52 |\n",
       "| 3 | Donald Trump | 2017-02-06 | 41 | 53 |\n",
       "| 4 | Donald Trump | 2017-02-13 | 40 | 54 |\n",
       "| 5 | Donald Trump | 2017-02-20 | 42 | 53 |\n",
       "| 6 | Donald Trump | 2017-02-27 | 43 | 51 |\n",
       "\n"
      ],
      "text/plain": [
       "  President    Date       Approve Disapprove\n",
       "1 Donald Trump 2017-01-20 45      47        \n",
       "2 Donald Trump 2017-01-30 43      52        \n",
       "3 Donald Trump 2017-02-06 41      53        \n",
       "4 Donald Trump 2017-02-13 40      54        \n",
       "5 Donald Trump 2017-02-20 42      53        \n",
       "6 Donald Trump 2017-02-27 43      51        "
      ]
     },
     "metadata": {},
     "output_type": "display_data"
    }
   ],
   "source": [
    "TrumpPolls <-polls %>%\n",
    "    select(President, Date, Approve, Disapprove) %>%\n",
    "    filter (President == \"Donald Trump\") %>%\n",
    "  arrange(Date) \n",
    "head(TrumpPolls)"
   ]
  },
  {
   "cell_type": "code",
   "execution_count": 18,
   "metadata": {},
   "outputs": [],
   "source": [
    "TrumpApprove<-TrumpPolls %>%\n",
    "    mutate(AvgApprove = rollmean(Approve, 10, na.pad=TRUE, align=\"right\"))\n"
   ]
  },
  {
   "cell_type": "code",
   "execution_count": 19,
   "metadata": {},
   "outputs": [
    {
     "data": {
      "text/html": [
       "<table>\n",
       "<caption>A data.frame: 6 × 5</caption>\n",
       "<thead>\n",
       "\t<tr><th></th><th scope=col>President</th><th scope=col>Date</th><th scope=col>Approve</th><th scope=col>Disapprove</th><th scope=col>AvgApprove</th></tr>\n",
       "\t<tr><th></th><th scope=col>&lt;chr&gt;</th><th scope=col>&lt;date&gt;</th><th scope=col>&lt;int&gt;</th><th scope=col>&lt;int&gt;</th><th scope=col>&lt;dbl&gt;</th></tr>\n",
       "</thead>\n",
       "<tbody>\n",
       "\t<tr><th scope=row>1</th><td>Donald Trump</td><td>2017-01-20</td><td>45</td><td>47</td><td>NA</td></tr>\n",
       "\t<tr><th scope=row>2</th><td>Donald Trump</td><td>2017-01-30</td><td>43</td><td>52</td><td>NA</td></tr>\n",
       "\t<tr><th scope=row>3</th><td>Donald Trump</td><td>2017-02-06</td><td>41</td><td>53</td><td>NA</td></tr>\n",
       "\t<tr><th scope=row>4</th><td>Donald Trump</td><td>2017-02-13</td><td>40</td><td>54</td><td>NA</td></tr>\n",
       "\t<tr><th scope=row>5</th><td>Donald Trump</td><td>2017-02-20</td><td>42</td><td>53</td><td>NA</td></tr>\n",
       "\t<tr><th scope=row>6</th><td>Donald Trump</td><td>2017-02-27</td><td>43</td><td>51</td><td>NA</td></tr>\n",
       "</tbody>\n",
       "</table>\n"
      ],
      "text/latex": [
       "A data.frame: 6 × 5\n",
       "\\begin{tabular}{r|lllll}\n",
       "  & President & Date & Approve & Disapprove & AvgApprove\\\\\n",
       "  & <chr> & <date> & <int> & <int> & <dbl>\\\\\n",
       "\\hline\n",
       "\t1 & Donald Trump & 2017-01-20 & 45 & 47 & NA\\\\\n",
       "\t2 & Donald Trump & 2017-01-30 & 43 & 52 & NA\\\\\n",
       "\t3 & Donald Trump & 2017-02-06 & 41 & 53 & NA\\\\\n",
       "\t4 & Donald Trump & 2017-02-13 & 40 & 54 & NA\\\\\n",
       "\t5 & Donald Trump & 2017-02-20 & 42 & 53 & NA\\\\\n",
       "\t6 & Donald Trump & 2017-02-27 & 43 & 51 & NA\\\\\n",
       "\\end{tabular}\n"
      ],
      "text/markdown": [
       "\n",
       "A data.frame: 6 × 5\n",
       "\n",
       "| <!--/--> | President &lt;chr&gt; | Date &lt;date&gt; | Approve &lt;int&gt; | Disapprove &lt;int&gt; | AvgApprove &lt;dbl&gt; |\n",
       "|---|---|---|---|---|---|\n",
       "| 1 | Donald Trump | 2017-01-20 | 45 | 47 | NA |\n",
       "| 2 | Donald Trump | 2017-01-30 | 43 | 52 | NA |\n",
       "| 3 | Donald Trump | 2017-02-06 | 41 | 53 | NA |\n",
       "| 4 | Donald Trump | 2017-02-13 | 40 | 54 | NA |\n",
       "| 5 | Donald Trump | 2017-02-20 | 42 | 53 | NA |\n",
       "| 6 | Donald Trump | 2017-02-27 | 43 | 51 | NA |\n",
       "\n"
      ],
      "text/plain": [
       "  President    Date       Approve Disapprove AvgApprove\n",
       "1 Donald Trump 2017-01-20 45      47         NA        \n",
       "2 Donald Trump 2017-01-30 43      52         NA        \n",
       "3 Donald Trump 2017-02-06 41      53         NA        \n",
       "4 Donald Trump 2017-02-13 40      54         NA        \n",
       "5 Donald Trump 2017-02-20 42      53         NA        \n",
       "6 Donald Trump 2017-02-27 43      51         NA        "
      ]
     },
     "metadata": {},
     "output_type": "display_data"
    }
   ],
   "source": [
    "\n",
    "head(TrumpApprove)"
   ]
  },
  {
   "cell_type": "code",
   "execution_count": 20,
   "metadata": {},
   "outputs": [
    {
     "name": "stderr",
     "output_type": "stream",
     "text": [
      "Warning message:\n",
      "“Removed 9 row(s) containing missing values (geom_path).”\n"
     ]
    },
    {
     "data": {
      "image/png": "[encoded data removed]",
      "text/plain": [
       "plot without title"
      ]
     },
     "metadata": {
      "image/png": {
       "height": 420,
       "width": 420
      },
      "text/plain": {
       "height": 420,
       "width": 420
      }
     },
     "output_type": "display_data"
    }
   ],
   "source": [
    "ggplot(data = TrumpApprove, aes(x=Date,y=AvgApprove)) + \n",
    "  geom_line()"
   ]
  }
 ],
 "metadata": {
  "kernelspec": {
   "display_name": "R",
   "language": "R",
   "name": "ir"
  },
  "language_info": {
   "codemirror_mode": "r",
   "file_extension": ".r",
   "mimetype": "text/x-r-source",
   "name": "R",
   "pygments_lexer": "r",
   "version": "3.6.2"
  }
 },
 "nbformat": 4,
 "nbformat_minor": 2
}
