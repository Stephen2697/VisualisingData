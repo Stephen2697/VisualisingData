{
 "cells": [
  {
   "cell_type": "markdown",
   "metadata": {},
   "source": [
    "# Wrangling data and plotting"
   ]
  },
  {
   "cell_type": "markdown",
   "metadata": {},
   "source": [
    "Based on the dataset \n",
    "https://docs.google.com/spreadsheets/d/1iEl565M1mICTubTtoxXMdxzaHzAcPTnb3kpRndsrfyY/edit?ts=5bd7f609#gid=671375968"
   ]
  },
  {
   "cell_type": "markdown",
   "metadata": {},
   "source": [
    "##  Packages in this notebook\n",
    "### tidyverse\n",
    "\n",
    "This package contains both dplyr and ggplot2, so it is very useful\n",
    "\n",
    "#### Piping\n",
    "\n",
    "The sequence %>% is used to pipe commands together\n",
    "\n",
    "#### Projection\n",
    "\n",
    "To select:\n",
    " - data %>% select(vbl1, vbl2,..., vbln)\n",
    " \n",
    "#### Selection\n",
    " \n",
    " To select:\n",
    " \n",
    " - data %>% filter(vbl1 == value)\n",
    " \n",
    " To extract 1 column, use 'pull'\n",
    " ### lubridate\n",
    " \n",
    " This package allows us to manipulate dates.  From this we will use ymd() \n",
    " \n",
    " ### zoo\n",
    " This package gives us methods such as rollmean, that will allow us to look at rolling averages over time. From this we will use rollmean()"
   ]
  },
  {
   "cell_type": "code",
   "execution_count": 1,
   "metadata": {},
   "outputs": [
    {
     "name": "stderr",
     "output_type": "stream",
     "text": [
      "── \u001b[1mAttaching packages\u001b[22m ─────────────────────────────────────── tidyverse 1.3.0 ──\n",
      "\n",
      "\u001b[32m✔\u001b[39m \u001b[34mggplot2\u001b[39m 3.3.3     \u001b[32m✔\u001b[39m \u001b[34mpurrr  \u001b[39m 0.3.4\n",
      "\u001b[32m✔\u001b[39m \u001b[34mtibble \u001b[39m 3.0.6     \u001b[32m✔\u001b[39m \u001b[34mdplyr  \u001b[39m 1.0.4\n",
      "\u001b[32m✔\u001b[39m \u001b[34mtidyr  \u001b[39m 1.0.2     \u001b[32m✔\u001b[39m \u001b[34mstringr\u001b[39m 1.4.0\n",
      "\u001b[32m✔\u001b[39m \u001b[34mreadr  \u001b[39m 1.4.0     \u001b[32m✔\u001b[39m \u001b[34mforcats\u001b[39m 0.5.0\n",
      "\n",
      "── \u001b[1mConflicts\u001b[22m ────────────────────────────────────────── tidyverse_conflicts() ──\n",
      "\u001b[31m✖\u001b[39m \u001b[34mdplyr\u001b[39m::\u001b[32mfilter()\u001b[39m masks \u001b[34mstats\u001b[39m::filter()\n",
      "\u001b[31m✖\u001b[39m \u001b[34mdplyr\u001b[39m::\u001b[32mlag()\u001b[39m    masks \u001b[34mstats\u001b[39m::lag()\n",
      "\n",
      "\n",
      "Attaching package: ‘lubridate’\n",
      "\n",
      "\n",
      "The following objects are masked from ‘package:base’:\n",
      "\n",
      "    date, intersect, setdiff, union\n",
      "\n",
      "\n"
     ]
    },
    {
     "ename": "ERROR",
     "evalue": "Error in library(zoo): there is no package called ‘zoo’\n",
     "output_type": "error",
     "traceback": [
      "Error in library(zoo): there is no package called ‘zoo’\nTraceback:\n",
      "1. library(zoo)"
     ]
    }
   ],
   "source": [
    "library(tidyverse)\n",
    "library(lubridate)\n",
    "library(zoo)"
   ]
  },
  {
   "cell_type": "markdown",
   "metadata": {},
   "source": [
    "## Dataset\n",
    "\n",
    "This dataset is cleaned from the source mentioned in the header and is available on Brightspace.  "
   ]
  },
  {
   "cell_type": "code",
   "execution_count": 16,
   "metadata": {},
   "outputs": [],
   "source": [
    "dfsource<-\"./data/POTUS_approval.csv\"\n",
    "polls <- read.csv(dfsource, stringsAsFactors = F)"
   ]
  },
  {
   "cell_type": "code",
   "execution_count": 17,
   "metadata": {},
   "outputs": [
    {
     "data": {
      "text/html": [
       "<table class=\"dataframe\">\n",
       "<caption>A data.frame: 6 × 6</caption>\n",
       "<thead>\n",
       "\t<tr><th></th><th scope=col>President</th><th scope=col>Start.Date</th><th scope=col>End.Date</th><th scope=col>Approving</th><th scope=col>Disapproving</th><th scope=col>Unsure.NoData</th></tr>\n",
       "\t<tr><th></th><th scope=col>&lt;chr&gt;</th><th scope=col>&lt;chr&gt;</th><th scope=col>&lt;chr&gt;</th><th scope=col>&lt;int&gt;</th><th scope=col>&lt;int&gt;</th><th scope=col>&lt;int&gt;</th></tr>\n",
       "</thead>\n",
       "<tbody>\n",
       "\t<tr><th scope=row>1</th><td>Barack Obama</td><td>16/01/2017</td><td>19/01/2017</td><td>59</td><td>37</td><td>4</td></tr>\n",
       "\t<tr><th scope=row>2</th><td>Barack Obama</td><td>09/01/2017</td><td>15/01/2017</td><td>57</td><td>39</td><td>4</td></tr>\n",
       "\t<tr><th scope=row>3</th><td>Barack Obama</td><td>02/01/2017</td><td>08/01/2017</td><td>55</td><td>42</td><td>3</td></tr>\n",
       "\t<tr><th scope=row>4</th><td>Barack Obama</td><td>26/12/2016</td><td>01/01/2017</td><td>55</td><td>40</td><td>5</td></tr>\n",
       "\t<tr><th scope=row>5</th><td>Barack Obama</td><td>19/12/2016</td><td>25/12/2016</td><td>56</td><td>40</td><td>4</td></tr>\n",
       "\t<tr><th scope=row>6</th><td>Barack Obama</td><td>12/12/2016</td><td>18/12/2016</td><td>56</td><td>40</td><td>4</td></tr>\n",
       "</tbody>\n",
       "</table>\n"
      ],
      "text/latex": [
       "A data.frame: 6 × 6\n",
       "\\begin{tabular}{r|llllll}\n",
       "  & President & Start.Date & End.Date & Approving & Disapproving & Unsure.NoData\\\\\n",
       "  & <chr> & <chr> & <chr> & <int> & <int> & <int>\\\\\n",
       "\\hline\n",
       "\t1 & Barack Obama & 16/01/2017 & 19/01/2017 & 59 & 37 & 4\\\\\n",
       "\t2 & Barack Obama & 09/01/2017 & 15/01/2017 & 57 & 39 & 4\\\\\n",
       "\t3 & Barack Obama & 02/01/2017 & 08/01/2017 & 55 & 42 & 3\\\\\n",
       "\t4 & Barack Obama & 26/12/2016 & 01/01/2017 & 55 & 40 & 5\\\\\n",
       "\t5 & Barack Obama & 19/12/2016 & 25/12/2016 & 56 & 40 & 4\\\\\n",
       "\t6 & Barack Obama & 12/12/2016 & 18/12/2016 & 56 & 40 & 4\\\\\n",
       "\\end{tabular}\n"
      ],
      "text/markdown": [
       "\n",
       "A data.frame: 6 × 6\n",
       "\n",
       "| <!--/--> | President &lt;chr&gt; | Start.Date &lt;chr&gt; | End.Date &lt;chr&gt; | Approving &lt;int&gt; | Disapproving &lt;int&gt; | Unsure.NoData &lt;int&gt; |\n",
       "|---|---|---|---|---|---|---|\n",
       "| 1 | Barack Obama | 16/01/2017 | 19/01/2017 | 59 | 37 | 4 |\n",
       "| 2 | Barack Obama | 09/01/2017 | 15/01/2017 | 57 | 39 | 4 |\n",
       "| 3 | Barack Obama | 02/01/2017 | 08/01/2017 | 55 | 42 | 3 |\n",
       "| 4 | Barack Obama | 26/12/2016 | 01/01/2017 | 55 | 40 | 5 |\n",
       "| 5 | Barack Obama | 19/12/2016 | 25/12/2016 | 56 | 40 | 4 |\n",
       "| 6 | Barack Obama | 12/12/2016 | 18/12/2016 | 56 | 40 | 4 |\n",
       "\n"
      ],
      "text/plain": [
       "  President    Start.Date End.Date   Approving Disapproving Unsure.NoData\n",
       "1 Barack Obama 16/01/2017 19/01/2017 59        37           4            \n",
       "2 Barack Obama 09/01/2017 15/01/2017 57        39           4            \n",
       "3 Barack Obama 02/01/2017 08/01/2017 55        42           3            \n",
       "4 Barack Obama 26/12/2016 01/01/2017 55        40           5            \n",
       "5 Barack Obama 19/12/2016 25/12/2016 56        40           4            \n",
       "6 Barack Obama 12/12/2016 18/12/2016 56        40           4            "
      ]
     },
     "metadata": {},
     "output_type": "display_data"
    }
   ],
   "source": [
    "head(polls)"
   ]
  },
  {
   "cell_type": "markdown",
   "metadata": {},
   "source": [
    "Some of the column names are either too long or have dots in them (spaces are converted to dots when a csv file is read into a dataframe.)"
   ]
  },
  {
   "cell_type": "code",
   "execution_count": 3,
   "metadata": {},
   "outputs": [
    {
     "ename": "ERROR",
     "evalue": "Error in rename(., Date = Start.Date, EndDate = End.Date, Approve = Approving, : object 'polls' not found\n",
     "output_type": "error",
     "traceback": [
      "Error in rename(., Date = Start.Date, EndDate = End.Date, Approve = Approving, : object 'polls' not found\nTraceback:\n",
      "1. polls %>% rename(Date = Start.Date, EndDate = End.Date, Approve = Approving, \n .     Disapprove = Disapproving)",
      "2. rename(., Date = Start.Date, EndDate = End.Date, Approve = Approving, \n .     Disapprove = Disapproving)"
     ]
    }
   ],
   "source": [
    "polls<-polls %>% \n",
    "  rename(\n",
    "    Date = Start.Date,\n",
    "    EndDate = End.Date,\n",
    "    Approve = Approving,\n",
    "    Disapprove = Disapproving\n",
    "    )"
   ]
  },
  {
   "cell_type": "code",
   "execution_count": 4,
   "metadata": {},
   "outputs": [
    {
     "ename": "ERROR",
     "evalue": "Error in lapply(list(...), .num_to_date): object 'polls' not found\n",
     "output_type": "error",
     "traceback": [
      "Error in lapply(list(...), .num_to_date): object 'polls' not found\nTraceback:\n",
      "1. dmy(polls$Date)",
      "2. .parse_xxx(..., orders = \"dmy\", quiet = quiet, tz = tz, locale = locale, \n .     truncated = truncated)",
      "3. unlist(lapply(list(...), .num_to_date), use.names = FALSE)",
      "4. lapply(list(...), .num_to_date)"
     ]
    }
   ],
   "source": [
    "polls$Date<-dmy(polls$Date) # Formats the date\n",
    "\n",
    "str(polls)"
   ]
  },
  {
   "cell_type": "markdown",
   "metadata": {},
   "source": [
    "Let's see what Trump's approval rate was on different dates "
   ]
  },
  {
   "cell_type": "code",
   "execution_count": 5,
   "metadata": {},
   "outputs": [
    {
     "ename": "ERROR",
     "evalue": "Error in select(., President, Date, Approve): object 'polls' not found\n",
     "output_type": "error",
     "traceback": [
      "Error in select(., President, Date, Approve): object 'polls' not found\nTraceback:\n",
      "1. polls %>% select(President, Date, Approve) %>% filter(President == \n .     \"Donald Trump\")",
      "2. filter(., President == \"Donald Trump\")",
      "3. select(., President, Date, Approve)"
     ]
    }
   ],
   "source": [
    "TrumpApprove <- polls %>% \n",
    "  select(President, Date, Approve) %>%\n",
    "  filter (President == \"Donald Trump\")"
   ]
  },
  {
   "cell_type": "markdown",
   "metadata": {},
   "source": [
    "## Aggregation\n",
    "\n",
    "grouping is done using group_by(variable)\n",
    "\n",
    "Summarising functions include mean(), median()"
   ]
  },
  {
   "cell_type": "markdown",
   "metadata": {},
   "source": [
    "Display the mean approval percentage for each president over all polls taken during their presidency."
   ]
  },
  {
   "cell_type": "code",
   "execution_count": 6,
   "metadata": {},
   "outputs": [
    {
     "ename": "ERROR",
     "evalue": "Error in group_by(., President): object 'polls' not found\n",
     "output_type": "error",
     "traceback": [
      "Error in group_by(., President): object 'polls' not found\nTraceback:\n",
      "1. polls %>% group_by(President) %>% summarise(MeanApproval = mean(Approve))",
      "2. summarise(., MeanApproval = mean(Approve))",
      "3. group_by(., President)"
     ]
    }
   ],
   "source": [
    "polls %>% \n",
    "    group_by(President) %>%\n",
    "    summarise(MeanApproval = mean(Approve))"
   ]
  },
  {
   "cell_type": "markdown",
   "metadata": {},
   "source": [
    "There must be a NA in there. Check how many rows are dropped when we drop NAs"
   ]
  },
  {
   "cell_type": "code",
   "execution_count": 7,
   "metadata": {},
   "outputs": [
    {
     "ename": "ERROR",
     "evalue": "Error in nrow(polls): object 'polls' not found\n",
     "output_type": "error",
     "traceback": [
      "Error in nrow(polls): object 'polls' not found\nTraceback:\n",
      "1. nrow(polls)"
     ]
    }
   ],
   "source": [
    "nrow(polls)\n",
    "polls <- drop_na(polls)\n",
    "nrow(polls)"
   ]
  },
  {
   "cell_type": "code",
   "execution_count": 8,
   "metadata": {},
   "outputs": [
    {
     "ename": "ERROR",
     "evalue": "Error in group_by(., President): object 'polls' not found\n",
     "output_type": "error",
     "traceback": [
      "Error in group_by(., President): object 'polls' not found\nTraceback:\n",
      "1. polls %>% group_by(President) %>% summarise(MeanApproval = mean(Approve))",
      "2. summarise(., MeanApproval = mean(Approve))",
      "3. group_by(., President)"
     ]
    }
   ],
   "source": [
    "#To extract  as vector \n",
    "Avgpolls <- polls%>% \n",
    "    group_by(President) %>%\n",
    "    summarise(MeanApproval = mean(Approve)) \n",
    "Avgpolls"
   ]
  },
  {
   "cell_type": "code",
   "execution_count": 9,
   "metadata": {},
   "outputs": [
    {
     "ename": "ERROR",
     "evalue": "Error in pull(., MeanApproval): object 'Avgpolls' not found\n",
     "output_type": "error",
     "traceback": [
      "Error in pull(., MeanApproval): object 'Avgpolls' not found\nTraceback:\n",
      "1. Avgpolls %>% pull(MeanApproval)",
      "2. pull(., MeanApproval)"
     ]
    }
   ],
   "source": [
    "Avgpolls %>%     pull(MeanApproval)"
   ]
  },
  {
   "cell_type": "code",
   "execution_count": 10,
   "metadata": {},
   "outputs": [
    {
     "ename": "ERROR",
     "evalue": "Error in eval(expr, envir, enclos): object 'Avgpolls' not found\n",
     "output_type": "error",
     "traceback": [
      "Error in eval(expr, envir, enclos): object 'Avgpolls' not found\nTraceback:\n"
     ]
    }
   ],
   "source": [
    "Avgpolls$MeanApproval"
   ]
  },
  {
   "cell_type": "markdown",
   "metadata": {},
   "source": [
    "### Getting moving averages\n",
    "\n",
    "This is an average over a time frame time.  For this, we need the lubridate package"
   ]
  },
  {
   "cell_type": "code",
   "execution_count": 11,
   "metadata": {},
   "outputs": [
    {
     "data": {
      "text/html": [
       "<time datetime=\"2021-02-17\">2021-02-17</time>"
      ],
      "text/latex": [
       "2021-02-17"
      ],
      "text/markdown": [
       "2021-02-17"
      ],
      "text/plain": [
       "[1] \"2021-02-17\""
      ]
     },
     "metadata": {},
     "output_type": "display_data"
    },
    {
     "data": {
      "text/html": [
       "2"
      ],
      "text/latex": [
       "2"
      ],
      "text/markdown": [
       "2"
      ],
      "text/plain": [
       "[1] 2"
      ]
     },
     "metadata": {},
     "output_type": "display_data"
    },
    {
     "data": {
      "text/html": [
       "Feb\n",
       "<details>\n",
       "\t<summary style=display:list-item;cursor:pointer>\n",
       "\t\t<strong>Levels</strong>:\n",
       "\t</summary>\n",
       "\t<style>\n",
       "\t.list-inline {list-style: none; margin:0; padding: 0}\n",
       "\t.list-inline>li {display: inline-block}\n",
       "\t.list-inline>li:not(:last-child)::after {content: \"\\00b7\"; padding: 0 .5ex}\n",
       "\t</style>\n",
       "\t<ol class=list-inline><li>'Jan'</li><li>'Feb'</li><li>'Mar'</li><li>'Apr'</li><li>'May'</li><li>'Jun'</li><li>'Jul'</li><li>'Aug'</li><li>'Sep'</li><li>'Oct'</li><li>'Nov'</li><li>'Dec'</li></ol>\n",
       "</details>"
      ],
      "text/latex": [
       "Feb\n",
       "\\emph{Levels}: \\begin{enumerate*}\n",
       "\\item 'Jan'\n",
       "\\item 'Feb'\n",
       "\\item 'Mar'\n",
       "\\item 'Apr'\n",
       "\\item 'May'\n",
       "\\item 'Jun'\n",
       "\\item 'Jul'\n",
       "\\item 'Aug'\n",
       "\\item 'Sep'\n",
       "\\item 'Oct'\n",
       "\\item 'Nov'\n",
       "\\item 'Dec'\n",
       "\\end{enumerate*}\n"
      ],
      "text/markdown": [
       "Feb\n",
       "**Levels**: 1. 'Jan'\n",
       "2. 'Feb'\n",
       "3. 'Mar'\n",
       "4. 'Apr'\n",
       "5. 'May'\n",
       "6. 'Jun'\n",
       "7. 'Jul'\n",
       "8. 'Aug'\n",
       "9. 'Sep'\n",
       "10. 'Oct'\n",
       "11. 'Nov'\n",
       "12. 'Dec'\n",
       "\n",
       "\n"
      ],
      "text/plain": [
       "[1] Feb\n",
       "12 Levels: Jan < Feb < Mar < Apr < May < Jun < Jul < Aug < Sep < ... < Dec"
      ]
     },
     "metadata": {},
     "output_type": "display_data"
    }
   ],
   "source": [
    "library(lubridate)\n",
    "date <-ymd(\"2021-02-17\")\n",
    "date\n",
    "month(date)\n",
    "month(date, label=T)"
   ]
  },
  {
   "cell_type": "raw",
   "metadata": {},
   "source": [
    "To compute moving averages, sort the data by date. Then  take the mean of all the previous data within a certain window — say, 10 polls. Then, do the same for every observation  between starting day x and end day y. \n",
    "\n",
    "The zoo package provides the rollmean() function, which iterates over every row in your data and averages the last x observations of variable y. In this case, the rollmean() function would take an average of the president's approval for every previous x, polls. We specify the variable we want, in this case, named Approve, the number of observations to average, whether or not to fill the rows between one and x variables with NA, and whether or not we should average \"up\" or \"down\" the data frame.\n"
   ]
  },
  {
   "cell_type": "code",
   "execution_count": 12,
   "metadata": {},
   "outputs": [
    {
     "ename": "ERROR",
     "evalue": "Error in select(., President, Date, Approve, Disapprove): object 'polls' not found\n",
     "output_type": "error",
     "traceback": [
      "Error in select(., President, Date, Approve, Disapprove): object 'polls' not found\nTraceback:\n",
      "1. polls %>% select(President, Date, Approve, Disapprove) %>% filter(President == \n .     \"Donald Trump\") %>% arrange(Date)",
      "2. arrange(., Date)",
      "3. filter(., President == \"Donald Trump\")",
      "4. select(., President, Date, Approve, Disapprove)"
     ]
    }
   ],
   "source": [
    "TrumpPolls <-polls %>%\n",
    "    select(President, Date, Approve, Disapprove) %>%\n",
    "    filter (President == \"Donald Trump\") %>%\n",
    "  arrange(Date) \n",
    "head(TrumpPolls)"
   ]
  },
  {
   "cell_type": "code",
   "execution_count": 13,
   "metadata": {},
   "outputs": [
    {
     "ename": "ERROR",
     "evalue": "Error in mutate(., AvgApprove = rollmean(Approve, 10, na.pad = TRUE, align = \"right\")): object 'TrumpPolls' not found\n",
     "output_type": "error",
     "traceback": [
      "Error in mutate(., AvgApprove = rollmean(Approve, 10, na.pad = TRUE, align = \"right\")): object 'TrumpPolls' not found\nTraceback:\n",
      "1. TrumpPolls %>% mutate(AvgApprove = rollmean(Approve, 10, na.pad = TRUE, \n .     align = \"right\"))",
      "2. mutate(., AvgApprove = rollmean(Approve, 10, na.pad = TRUE, align = \"right\"))"
     ]
    }
   ],
   "source": [
    "TrumpApprove<-TrumpPolls %>%\n",
    "    mutate(AvgApprove = rollmean(Approve, 10, na.pad=TRUE, align=\"right\"))"
   ]
  },
  {
   "cell_type": "code",
   "execution_count": 14,
   "metadata": {},
   "outputs": [
    {
     "ename": "ERROR",
     "evalue": "Error in summary(TrumpApprove): object 'TrumpApprove' not found\n",
     "output_type": "error",
     "traceback": [
      "Error in summary(TrumpApprove): object 'TrumpApprove' not found\nTraceback:\n",
      "1. summary(TrumpApprove)"
     ]
    }
   ],
   "source": [
    "summary(TrumpApprove)"
   ]
  },
  {
   "cell_type": "markdown",
   "metadata": {},
   "source": [
    "Plotting a line chart of Trump's rolling average approval"
   ]
  },
  {
   "cell_type": "code",
   "execution_count": 15,
   "metadata": {},
   "outputs": [
    {
     "ename": "ERROR",
     "evalue": "Error in ggplot(data = TrumpApprove, aes(x = Date, y = AvgApprove)): object 'TrumpApprove' not found\n",
     "output_type": "error",
     "traceback": [
      "Error in ggplot(data = TrumpApprove, aes(x = Date, y = AvgApprove)): object 'TrumpApprove' not found\nTraceback:\n",
      "1. ggplot(data = TrumpApprove, aes(x = Date, y = AvgApprove))"
     ]
    }
   ],
   "source": [
    "ggplot(data = TrumpApprove, aes(x=Date,y=AvgApprove)) + \n",
    "  geom_line()"
   ]
  },
  {
   "cell_type": "markdown",
   "metadata": {},
   "source": [
    "# For the exercise"
   ]
  },
  {
   "cell_type": "markdown",
   "metadata": {},
   "source": [
    "  1 - Create a new attribute in the polls dataframe, calling it inaugurated.  Initialize it to 1st Jan 1970 for every row.  Using Google search, find out the first inauguration date of each of the former presidents, back to Ronald Reagan.  Update each row with the inauguration date for that president.\n",
    "\n",
    " 2 - Create a new attribute Days, giving it a value of Date - inaugurated.  Check to see if the data makes sense.  Do you need to change the data type?\n",
    "\n",
    " 3 - Using a rolling mean, get the rolling average approval of each president over their presidency and store it as an extra column AvgApprove in the dataframe.\n",
    " \n",
    "  4 - Start plotting your data.  Make a ggplot, create a multi-line plot, with a line for each president.  The x-axis should show the number of days since the start of the presidency and the y-axis should show the rolling approval rating at that time.  You may need to change the size of your plot, so you can see it!  Try the function options(), adjusting the repr.plot.width and  repr.plot.height to your satisfaction.  Save your plot in a variable (e.g. p)\n",
    "  \n",
    "   5 - Enhance your plot - suggestions below:\n",
    "     - Add a title, x-axis label and y-axis label\n",
    "     - Make your plot readable to colourblind people by creating a palette suitable for them, and using it.\n",
    "     - increase the size of the colour block in your legend\n",
    "     - Modify the look and style of your title, axis labels and legend labels\n",
    "     - Modify the ticks on your x-axis, depending on the range of values.\n",
    " \n",
    "  6 - Add a geom_line for one of the presidents, for whom you think their line tells a story, making it thicker than the previous line, but using the same colour."
   ]
  },
  {
   "cell_type": "code",
   "execution_count": null,
   "metadata": {},
   "outputs": [],
   "source": []
  },
  {
   "cell_type": "code",
   "execution_count": null,
   "metadata": {},
   "outputs": [],
   "source": []
  },
  {
   "cell_type": "code",
   "execution_count": null,
   "metadata": {},
   "outputs": [],
   "source": []
  },
  {
   "cell_type": "code",
   "execution_count": null,
   "metadata": {},
   "outputs": [],
   "source": []
  }
 ],
 "metadata": {
  "kernelspec": {
   "display_name": "R",
   "language": "R",
   "name": "ir"
  },
  "language_info": {
   "codemirror_mode": "r",
   "file_extension": ".r",
   "mimetype": "text/x-r-source",
   "name": "R",
   "pygments_lexer": "r",
   "version": "3.6.2"
  }
 },
 "nbformat": 4,
 "nbformat_minor": 2
}
