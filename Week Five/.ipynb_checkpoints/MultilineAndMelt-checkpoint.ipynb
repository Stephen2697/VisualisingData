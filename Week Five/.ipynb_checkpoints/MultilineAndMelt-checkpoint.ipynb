{
 "cells": [
  {
   "cell_type": "code",
   "execution_count": null,
   "metadata": {},
   "outputs": [],
   "source": [
    "library(reshape2)\n",
    "library(tidyverse)\n",
    "data <- read.csv('data/data.csv')\n",
    "head(data)"
   ]
  },
  {
   "cell_type": "code",
   "execution_count": null,
   "metadata": {},
   "outputs": [],
   "source": [
    "chart_data <- melt(data, id='x')\n",
    "chart_data"
   ]
  },
  {
   "cell_type": "markdown",
   "metadata": {},
   "source": [
    "Save your plot in a variable"
   ]
  },
  {
   "cell_type": "code",
   "execution_count": null,
   "metadata": {},
   "outputs": [],
   "source": [
    "names(chart_data) <- c('x', 'func', 'value')\n",
    "\n",
    "p<- ggplot() +\n",
    "  geom_line(data = chart_data, aes(x = x, y = value, color = func), size = 1)+\n",
    "  xlab(\"x axis\") +\n",
    "  ylab(\"y axis\")\n",
    "p"
   ]
  },
  {
   "cell_type": "markdown",
   "metadata": {},
   "source": [
    "Adjust the plot size, add a title, x-axis label and y-axis label and get rid of the background"
   ]
  },
  {
   "cell_type": "code",
   "execution_count": null,
   "metadata": {},
   "outputs": [],
   "source": [
    "options(repr.plot.width=8, repr.plot.height=8) \n",
    "p = p + labs( \n",
    "    x=\"Base value\", \n",
    "    y=\"Powered value\",\n",
    "    title=\"Integers as line, exponent and cube\") + \n",
    "    theme_classic() #White background\n",
    "p"
   ]
  },
  {
   "cell_type": "markdown",
   "metadata": {},
   "source": [
    "Make your plot readable to colourblind people by creating a palette suitable for them, and using it."
   ]
  },
  {
   "cell_type": "code",
   "execution_count": null,
   "metadata": {},
   "outputs": [],
   "source": [
    "cbPalette <- c( \"#E69F00\", \"#56B4E9\", \"#009E73\", \"#F0E442\", \"#0072B2\", \"#D55E00\", \"#CC79A7\")\n",
    "p = p +  scale_colour_manual(values=cbPalette)\n",
    "p"
   ]
  },
  {
   "cell_type": "markdown",
   "metadata": {},
   "source": [
    "Increase the size of the colour block in your legend"
   ]
  },
  {
   "cell_type": "code",
   "execution_count": null,
   "metadata": {},
   "outputs": [],
   "source": [
    "p = p + guides(color = guide_legend(override.aes = list(size = 3)))\n",
    "p"
   ]
  },
  {
   "cell_type": "markdown",
   "metadata": {},
   "source": [
    "Modify the look and style of your title, axis labels and legend labels"
   ]
  },
  {
   "cell_type": "code",
   "execution_count": null,
   "metadata": {},
   "outputs": [],
   "source": [
    "p =p + theme(\n",
    "    axis.text.x  = element_text(face=\"bold\", size=14, angle=45),\n",
    "    axis.text.y  = element_text(face=\"bold\", size=16, angle=0),\n",
    "    axis.title   = element_text(size=20,face=\"bold\"),\n",
    "    plot.title   = element_text(size=30, hjust=0.5),\n",
    "    legend.title = element_text(color = \"blue\", size = 14),\n",
    "    legend.text  = element_text(color = \"black\", size = 12),\n",
    "    axis.line    = element_blank()\n",
    "        )\n",
    "p"
   ]
  },
  {
   "cell_type": "code",
   "execution_count": null,
   "metadata": {},
   "outputs": [],
   "source": [
    "p =  p + scale_x_continuous(breaks=seq(0,10,2))\n",
    "p"
   ]
  },
  {
   "cell_type": "code",
   "execution_count": null,
   "metadata": {},
   "outputs": [],
   "source": [
    "chart_data"
   ]
  },
  {
   "cell_type": "code",
   "execution_count": null,
   "metadata": {},
   "outputs": [],
   "source": [
    "cube_data <-chart_data %>%\n",
    "    select (x, func, value) %>%\n",
    "    filter (func==\"cubic\")\n",
    "p = p + geom_line(data=cube_data, aes(x = x, y = value, color = func), size = 3)\n",
    "p"
   ]
  },
  {
   "cell_type": "code",
   "execution_count": null,
   "metadata": {},
   "outputs": [],
   "source": [
    "p"
   ]
  },
  {
   "cell_type": "code",
   "execution_count": null,
   "metadata": {},
   "outputs": [],
   "source": [
    "p + annotate(\"label\", x=3, y=500, label = \"I love power!\", size=8) "
   ]
  }
 ],
 "metadata": {
  "kernelspec": {
   "display_name": "R",
   "language": "R",
   "name": "ir"
  },
  "language_info": {
   "codemirror_mode": "r",
   "file_extension": ".r",
   "mimetype": "text/x-r-source",
   "name": "R",
   "pygments_lexer": "r",
   "version": "3.6.2"
  }
 },
 "nbformat": 4,
 "nbformat_minor": 2
}
