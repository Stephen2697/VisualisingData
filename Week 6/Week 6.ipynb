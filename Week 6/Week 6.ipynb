{
 "cells": [
  {
   "cell_type": "markdown",
   "id": "blank-provincial",
   "metadata": {},
   "source": [
    "# Data Truth & Joining Datasets\n",
    "### Stephen Alger \n",
    "### March 5 2021\n",
    "---\n",
    "### Visualisation Objective: Irish General Election Results 2016\n",
    "> Data Source(s): <br>\n",
    "> https://data.gov.ie/dataset/candidate-details-for-general-election-2016 <br>\n",
    "> https://data.gov.ie/dataset/general-election-2016-constituency-details <br>\n",
    "> https://data.gov.ie/dataset/general-election-2016-count-details <br>\n",
    "---\n"
   ]
  },
  {
   "cell_type": "code",
   "execution_count": 162,
   "id": "outside-address",
   "metadata": {},
   "outputs": [
    {
     "name": "stdout",
     "output_type": "stream",
     "text": [
      "\n",
      "The downloaded binary packages are in\n",
      "\t/var/folders/tj/n0crv2hj7zj5vxqbn5kjllf80000gn/T//Rtmp7WHzWS/downloaded_packages\n",
      "\n",
      "The downloaded binary packages are in\n",
      "\t/var/folders/tj/n0crv2hj7zj5vxqbn5kjllf80000gn/T//Rtmp7WHzWS/downloaded_packages\n",
      "\n",
      "The downloaded binary packages are in\n",
      "\t/var/folders/tj/n0crv2hj7zj5vxqbn5kjllf80000gn/T//Rtmp7WHzWS/downloaded_packages\n",
      "\n",
      "The downloaded binary packages are in\n",
      "\t/var/folders/tj/n0crv2hj7zj5vxqbn5kjllf80000gn/T//Rtmp7WHzWS/downloaded_packages\n"
     ]
    }
   ],
   "source": [
    "#Dependency Installation & Loading\n",
    "install.packages(\"sqldf\")\n",
    "install.packages(\"cowplot\")\n",
    "install.packages(\"viridis\")\n",
    "install.packages(\"tidyverse\")\n",
    "\n",
    "library(viridis)\n",
    "library(tidyverse)\n",
    "library(cowplot)\n",
    "library(sqldf)\n",
    "\n",
    "#Set Environment Plot Size:\n",
    "options(repr.plot.width=25, repr.plot.height=10)\n",
    "\n",
    "#Define my Own Theme                           \n",
    "my_Theme <- theme(plot.title = element_text(face=\"bold\",size=40),\n",
    "                  plot.subtitle = element_text(face=\"italic\", size = 20),\n",
    "                  axis.title = element_text(face=\"bold\",size=20),\n",
    "                  axis.text = element_text(size=20),\n",
    "                  plot.caption = element_text(size = 16),\n",
    "                  legend.title = element_text(size = 16),\n",
    "                  legend.text  = element_text(size = 14))"
   ]
  },
  {
   "cell_type": "markdown",
   "id": "convinced-gates",
   "metadata": {},
   "source": [
    "---\n",
    "# Utility Work: Load Data & Investigate The Dataset Charavcteristics\n"
   ]
  },
  {
   "cell_type": "code",
   "execution_count": 163,
   "id": "intensive-greek",
   "metadata": {},
   "outputs": [],
   "source": [
    "# Input File Names:\n",
    "candidateFilePath = \"./data/GE2016-candidate-details.csv\"\n",
    "constituencyFilePath = \"./data/GE2016constituencydetails.csv\"\n",
    "electionCountFilePath = \"./data/GE2016-count-details.csv\""
   ]
  },
  {
   "cell_type": "code",
   "execution_count": 164,
   "id": "affected-diamond",
   "metadata": {},
   "outputs": [
    {
     "data": {
      "text/html": [
       "<table class=\"dataframe\">\n",
       "<caption>A data.frame: 6 × 14</caption>\n",
       "<thead>\n",
       "\t<tr><th></th><th scope=col>Constituency</th><th scope=col>Surname</th><th scope=col>First.Name</th><th scope=col>Gender</th><th scope=col>Party</th><th scope=col>Party.Abbreviation</th><th scope=col>Count.Number</th><th scope=col>Required.To.Reach.Quota</th><th scope=col>Required.To.Save.Deposit</th><th scope=col>Votes</th><th scope=col>Result</th><th scope=col>Candidate.Id</th><th scope=col>Constituency.Number</th><th scope=col>Constituency.Ainm</th></tr>\n",
       "\t<tr><th></th><th scope=col>&lt;fct&gt;</th><th scope=col>&lt;fct&gt;</th><th scope=col>&lt;fct&gt;</th><th scope=col>&lt;fct&gt;</th><th scope=col>&lt;fct&gt;</th><th scope=col>&lt;fct&gt;</th><th scope=col>&lt;int&gt;</th><th scope=col>&lt;int&gt;</th><th scope=col>&lt;int&gt;</th><th scope=col>&lt;int&gt;</th><th scope=col>&lt;fct&gt;</th><th scope=col>&lt;int&gt;</th><th scope=col>&lt;int&gt;</th><th scope=col>&lt;fct&gt;</th></tr>\n",
       "</thead>\n",
       "<tbody>\n",
       "\t<tr><th scope=row>1</th><td>Galway West    </td><td> Ó Cuív </td><td>Éamon          </td><td>M</td><td>Fianna Fáil</td><td>F.F.  </td><td>14</td><td>   0</td><td>   0</td><td> 9539</td><td>Elected </td><td>165</td><td> 23</td><td>Gaillimh Thiar              </td></tr>\n",
       "\t<tr><th scope=row>2</th><td>Louth          </td><td>Adams   </td><td>Gerry          </td><td>M</td><td>Sinn Féin  </td><td>S.F.  </td><td>11</td><td>   0</td><td>   0</td><td>10661</td><td>Elected </td><td>160</td><td> 31</td><td>Lú                          </td></tr>\n",
       "\t<tr><th scope=row>3</th><td>Cork  East     </td><td>Ahern   </td><td>Barbara        </td><td>F</td><td>Fianna Fáil</td><td>F.F.  </td><td>10</td><td>3781</td><td>   0</td><td> 4594</td><td>        </td><td>169</td><td>  4</td><td>Corcaigh Thoir              </td></tr>\n",
       "\t<tr><th scope=row>4</th><td>Waterford      </td><td>Ahmed   </td><td>Sheik Mohiuddin</td><td>M</td><td>Non-Party  </td><td>NON-P.</td><td> 9</td><td>   0</td><td>2443</td><td>  140</td><td>Excluded</td><td>160</td><td> 38</td><td>Port  Lairge                </td></tr>\n",
       "\t<tr><th scope=row>5</th><td>Dublin Mid-West</td><td>Akpoveta</td><td>Patrick        </td><td>M</td><td>Non-Party  </td><td>NON-P.</td><td>12</td><td>   0</td><td>1813</td><td>  288</td><td>Excluded</td><td>187</td><td>643</td><td>Baile Átha Cliath Thiar-Meán</td></tr>\n",
       "\t<tr><th scope=row>6</th><td>Tipperary      </td><td>Ambrose </td><td>Siobhán        </td><td>F</td><td>Fianna Fáil</td><td>F.F.  </td><td> 7</td><td>   0</td><td>   0</td><td> 4472</td><td>Excluded</td><td>160</td><td> 36</td><td>Tiobraid Árann              </td></tr>\n",
       "</tbody>\n",
       "</table>\n"
      ],
      "text/latex": [
       "A data.frame: 6 × 14\n",
       "\\begin{tabular}{r|llllllllllllll}\n",
       "  & Constituency & Surname & First.Name & Gender & Party & Party.Abbreviation & Count.Number & Required.To.Reach.Quota & Required.To.Save.Deposit & Votes & Result & Candidate.Id & Constituency.Number & Constituency.Ainm\\\\\n",
       "  & <fct> & <fct> & <fct> & <fct> & <fct> & <fct> & <int> & <int> & <int> & <int> & <fct> & <int> & <int> & <fct>\\\\\n",
       "\\hline\n",
       "\t1 & Galway West     &  Ó Cuív  & Éamon           & M & Fianna Fáil & F.F.   & 14 &    0 &    0 &  9539 & Elected  & 165 &  23 & Gaillimh Thiar              \\\\\n",
       "\t2 & Louth           & Adams    & Gerry           & M & Sinn Féin   & S.F.   & 11 &    0 &    0 & 10661 & Elected  & 160 &  31 & Lú                          \\\\\n",
       "\t3 & Cork  East      & Ahern    & Barbara         & F & Fianna Fáil & F.F.   & 10 & 3781 &    0 &  4594 &          & 169 &   4 & Corcaigh Thoir              \\\\\n",
       "\t4 & Waterford       & Ahmed    & Sheik Mohiuddin & M & Non-Party   & NON-P. &  9 &    0 & 2443 &   140 & Excluded & 160 &  38 & Port  Lairge                \\\\\n",
       "\t5 & Dublin Mid-West & Akpoveta & Patrick         & M & Non-Party   & NON-P. & 12 &    0 & 1813 &   288 & Excluded & 187 & 643 & Baile Átha Cliath Thiar-Meán\\\\\n",
       "\t6 & Tipperary       & Ambrose  & Siobhán         & F & Fianna Fáil & F.F.   &  7 &    0 &    0 &  4472 & Excluded & 160 &  36 & Tiobraid Árann              \\\\\n",
       "\\end{tabular}\n"
      ],
      "text/markdown": [
       "\n",
       "A data.frame: 6 × 14\n",
       "\n",
       "| <!--/--> | Constituency &lt;fct&gt; | Surname &lt;fct&gt; | First.Name &lt;fct&gt; | Gender &lt;fct&gt; | Party &lt;fct&gt; | Party.Abbreviation &lt;fct&gt; | Count.Number &lt;int&gt; | Required.To.Reach.Quota &lt;int&gt; | Required.To.Save.Deposit &lt;int&gt; | Votes &lt;int&gt; | Result &lt;fct&gt; | Candidate.Id &lt;int&gt; | Constituency.Number &lt;int&gt; | Constituency.Ainm &lt;fct&gt; |\n",
       "|---|---|---|---|---|---|---|---|---|---|---|---|---|---|---|\n",
       "| 1 | Galway West     |  Ó Cuív  | Éamon           | M | Fianna Fáil | F.F.   | 14 |    0 |    0 |  9539 | Elected  | 165 |  23 | Gaillimh Thiar               |\n",
       "| 2 | Louth           | Adams    | Gerry           | M | Sinn Féin   | S.F.   | 11 |    0 |    0 | 10661 | Elected  | 160 |  31 | Lú                           |\n",
       "| 3 | Cork  East      | Ahern    | Barbara         | F | Fianna Fáil | F.F.   | 10 | 3781 |    0 |  4594 | <!----> | 169 |   4 | Corcaigh Thoir               |\n",
       "| 4 | Waterford       | Ahmed    | Sheik Mohiuddin | M | Non-Party   | NON-P. |  9 |    0 | 2443 |   140 | Excluded | 160 |  38 | Port  Lairge                 |\n",
       "| 5 | Dublin Mid-West | Akpoveta | Patrick         | M | Non-Party   | NON-P. | 12 |    0 | 1813 |   288 | Excluded | 187 | 643 | Baile Átha Cliath Thiar-Meán |\n",
       "| 6 | Tipperary       | Ambrose  | Siobhán         | F | Fianna Fáil | F.F.   |  7 |    0 |    0 |  4472 | Excluded | 160 |  36 | Tiobraid Árann               |\n",
       "\n"
      ],
      "text/plain": [
       "  Constituency    Surname  First.Name      Gender Party      \n",
       "1 Galway West      Ó Cuív  Éamon           M      Fianna Fáil\n",
       "2 Louth           Adams    Gerry           M      Sinn Féin  \n",
       "3 Cork  East      Ahern    Barbara         F      Fianna Fáil\n",
       "4 Waterford       Ahmed    Sheik Mohiuddin M      Non-Party  \n",
       "5 Dublin Mid-West Akpoveta Patrick         M      Non-Party  \n",
       "6 Tipperary       Ambrose  Siobhán         F      Fianna Fáil\n",
       "  Party.Abbreviation Count.Number Required.To.Reach.Quota\n",
       "1 F.F.               14              0                   \n",
       "2 S.F.               11              0                   \n",
       "3 F.F.               10           3781                   \n",
       "4 NON-P.              9              0                   \n",
       "5 NON-P.             12              0                   \n",
       "6 F.F.                7              0                   \n",
       "  Required.To.Save.Deposit Votes Result   Candidate.Id Constituency.Number\n",
       "1    0                      9539 Elected  165           23                \n",
       "2    0                     10661 Elected  160           31                \n",
       "3    0                      4594          169            4                \n",
       "4 2443                       140 Excluded 160           38                \n",
       "5 1813                       288 Excluded 187          643                \n",
       "6    0                      4472 Excluded 160           36                \n",
       "  Constituency.Ainm           \n",
       "1 Gaillimh Thiar              \n",
       "2 Lú                          \n",
       "3 Corcaigh Thoir              \n",
       "4 Port  Lairge                \n",
       "5 Baile Átha Cliath Thiar-Meán\n",
       "6 Tiobraid Árann              "
      ]
     },
     "metadata": {},
     "output_type": "display_data"
    },
    {
     "data": {
      "text/html": [],
      "text/latex": [],
      "text/markdown": [],
      "text/plain": [
       "integer(0)"
      ]
     },
     "metadata": {},
     "output_type": "display_data"
    }
   ],
   "source": [
    "#Candidate Data Set CSV into canddf - candidate dataframe\n",
    "canddf <- read.csv(candidateFilePath, sep = \",\", fileEncoding=\"latin1\")\n",
    "head(canddf)\n",
    "\n",
    "#Check for NA Values - None Returned\n",
    "which(is.na(canddf)) "
   ]
  },
  {
   "cell_type": "markdown",
   "id": "heard-baseline",
   "metadata": {},
   "source": [
    "---\n",
    "# Part One - Candidate Data Observation"
   ]
  },
  {
   "cell_type": "code",
   "execution_count": 165,
   "id": "stunning-cambodia",
   "metadata": {
    "scrolled": false
   },
   "outputs": [
    {
     "data": {
      "text/html": [
       "<table class=\"dataframe\">\n",
       "<caption>A data.frame: 17 × 3</caption>\n",
       "<thead>\n",
       "\t<tr><th scope=col>Constituency</th><th scope=col>Surname</th><th scope=col>First.Name</th></tr>\n",
       "\t<tr><th scope=col>&lt;fct&gt;</th><th scope=col>&lt;fct&gt;</th><th scope=col>&lt;fct&gt;</th></tr>\n",
       "</thead>\n",
       "<tbody>\n",
       "\t<tr><td>Wexford</td><td>Browne </td><td>James   </td></tr>\n",
       "\t<tr><td>Wexford</td><td>Byrne  </td><td>Aoife   </td></tr>\n",
       "\t<tr><td>Wexford</td><td>Byrne  </td><td>Malcolm </td></tr>\n",
       "\t<tr><td>Wexford</td><td>Carthy </td><td>Ger     </td></tr>\n",
       "\t<tr><td>Wexford</td><td>D'arcy </td><td>Michael </td></tr>\n",
       "\t<tr><td>Wexford</td><td>Dwyer  </td><td>John    </td></tr>\n",
       "\t<tr><td>Wexford</td><td>Foxe   </td><td>Caroline</td></tr>\n",
       "\t<tr><td>Wexford</td><td>Hogan  </td><td>Julie   </td></tr>\n",
       "\t<tr><td>Wexford</td><td>Howlin </td><td>Brendan </td></tr>\n",
       "\t<tr><td>Wexford</td><td>Kehoe  </td><td>Paul    </td></tr>\n",
       "\t<tr><td>Wexford</td><td>Kelly  </td><td>Leonard </td></tr>\n",
       "\t<tr><td>Wexford</td><td>Lloyd  </td><td>David   </td></tr>\n",
       "\t<tr><td>Wexford</td><td>Maloney</td><td>David   </td></tr>\n",
       "\t<tr><td>Wexford</td><td>Mythen </td><td>John    </td></tr>\n",
       "\t<tr><td>Wexford</td><td>Wadding</td><td>Deirdre </td></tr>\n",
       "\t<tr><td>Wexford</td><td>Wallace</td><td>Mick    </td></tr>\n",
       "\t<tr><td>Wexford</td><td>Walsh  </td><td>Ann     </td></tr>\n",
       "</tbody>\n",
       "</table>\n"
      ],
      "text/latex": [
       "A data.frame: 17 × 3\n",
       "\\begin{tabular}{lll}\n",
       " Constituency & Surname & First.Name\\\\\n",
       " <fct> & <fct> & <fct>\\\\\n",
       "\\hline\n",
       "\t Wexford & Browne  & James   \\\\\n",
       "\t Wexford & Byrne   & Aoife   \\\\\n",
       "\t Wexford & Byrne   & Malcolm \\\\\n",
       "\t Wexford & Carthy  & Ger     \\\\\n",
       "\t Wexford & D'arcy  & Michael \\\\\n",
       "\t Wexford & Dwyer   & John    \\\\\n",
       "\t Wexford & Foxe    & Caroline\\\\\n",
       "\t Wexford & Hogan   & Julie   \\\\\n",
       "\t Wexford & Howlin  & Brendan \\\\\n",
       "\t Wexford & Kehoe   & Paul    \\\\\n",
       "\t Wexford & Kelly   & Leonard \\\\\n",
       "\t Wexford & Lloyd   & David   \\\\\n",
       "\t Wexford & Maloney & David   \\\\\n",
       "\t Wexford & Mythen  & John    \\\\\n",
       "\t Wexford & Wadding & Deirdre \\\\\n",
       "\t Wexford & Wallace & Mick    \\\\\n",
       "\t Wexford & Walsh   & Ann     \\\\\n",
       "\\end{tabular}\n"
      ],
      "text/markdown": [
       "\n",
       "A data.frame: 17 × 3\n",
       "\n",
       "| Constituency &lt;fct&gt; | Surname &lt;fct&gt; | First.Name &lt;fct&gt; |\n",
       "|---|---|---|\n",
       "| Wexford | Browne  | James    |\n",
       "| Wexford | Byrne   | Aoife    |\n",
       "| Wexford | Byrne   | Malcolm  |\n",
       "| Wexford | Carthy  | Ger      |\n",
       "| Wexford | D'arcy  | Michael  |\n",
       "| Wexford | Dwyer   | John     |\n",
       "| Wexford | Foxe    | Caroline |\n",
       "| Wexford | Hogan   | Julie    |\n",
       "| Wexford | Howlin  | Brendan  |\n",
       "| Wexford | Kehoe   | Paul     |\n",
       "| Wexford | Kelly   | Leonard  |\n",
       "| Wexford | Lloyd   | David    |\n",
       "| Wexford | Maloney | David    |\n",
       "| Wexford | Mythen  | John     |\n",
       "| Wexford | Wadding | Deirdre  |\n",
       "| Wexford | Wallace | Mick     |\n",
       "| Wexford | Walsh   | Ann      |\n",
       "\n"
      ],
      "text/plain": [
       "   Constituency Surname First.Name\n",
       "1  Wexford      Browne  James     \n",
       "2  Wexford      Byrne   Aoife     \n",
       "3  Wexford      Byrne   Malcolm   \n",
       "4  Wexford      Carthy  Ger       \n",
       "5  Wexford      D'arcy  Michael   \n",
       "6  Wexford      Dwyer   John      \n",
       "7  Wexford      Foxe    Caroline  \n",
       "8  Wexford      Hogan   Julie     \n",
       "9  Wexford      Howlin  Brendan   \n",
       "10 Wexford      Kehoe   Paul      \n",
       "11 Wexford      Kelly   Leonard   \n",
       "12 Wexford      Lloyd   David     \n",
       "13 Wexford      Maloney David     \n",
       "14 Wexford      Mythen  John      \n",
       "15 Wexford      Wadding Deirdre   \n",
       "16 Wexford      Wallace Mick      \n",
       "17 Wexford      Walsh   Ann       "
      ]
     },
     "metadata": {},
     "output_type": "display_data"
    }
   ],
   "source": [
    "# 1-a) SQL Query Style Execution: Get First&Surnames of Candidates in The Wexford Constituency 👍\n",
    "wexfordCandidates = sqldf('Select Constituency, Surname,\"First.Name\" from canddf where Constituency = \"Wexford\"')\n",
    "wexfordCandidates"
   ]
  },
  {
   "cell_type": "code",
   "execution_count": 169,
   "id": "armed-monthly",
   "metadata": {},
   "outputs": [
    {
     "name": "stdout",
     "output_type": "stream",
     "text": [
      "The Laois Constituency Had: 6 Candidates in the 2016 General Election. - canddf"
     ]
    }
   ],
   "source": [
    "# 1-b) Get The Number of Candidates for the Laois Constituency: 👍\n",
    "distinctLaoisCandidatesA = sqldf('Select DISTINCT \"First.Name\",\"Surname\" from canddf where Constituency = \"Laois\"')\n",
    "cat(\"The Laois Constituency Had:\", nrow(distinctLaoisCandidatesA), \"Candidates in the 2016 General Election. - canddf\")"
   ]
  },
  {
   "cell_type": "code",
   "execution_count": 170,
   "id": "mobile-aerospace",
   "metadata": {
    "scrolled": true
   },
   "outputs": [
    {
     "name": "stdout",
     "output_type": "stream",
     "text": [
      "In the 2016 General Election there were 40 Constituencies - canddf"
     ]
    }
   ],
   "source": [
    "# 1-c) Get Total Number of Constituencies\n",
    "countConstituenciesA = sqldf('Select DISTINCT Constituency from canddf ORDER BY Constituency ASC')\n",
    "cat(\"In the 2016 General Election there were\", nrow(countConstituenciesA), \"Constituencies - canddf\")"
   ]
  },
  {
   "cell_type": "markdown",
   "id": "adopted-hawaiian",
   "metadata": {},
   "source": [
    "---\n",
    "# Part Two - Constituency Data Observation"
   ]
  },
  {
   "cell_type": "code",
   "execution_count": 171,
   "id": "brutal-theory",
   "metadata": {},
   "outputs": [
    {
     "data": {
      "text/html": [
       "<table class=\"dataframe\">\n",
       "<caption>A data.frame: 6 × 15</caption>\n",
       "<thead>\n",
       "\t<tr><th></th><th scope=col>Constituency.Name</th><th scope=col>Constituency.Ainm</th><th scope=col>Count.Number</th><th scope=col>Date.Of.Election</th><th scope=col>Number.Of.Candidates</th><th scope=col>Number.of.Seats</th><th scope=col>Quota</th><th scope=col>Required.Save.Deposit</th><th scope=col>Seats.Filled</th><th scope=col>Seats.in.Constituency</th><th scope=col>Spoiled</th><th scope=col>Total.Electorate</th><th scope=col>Total.Poll</th><th scope=col>Valid.Poll</th><th scope=col>Constituency.Number</th></tr>\n",
       "\t<tr><th></th><th scope=col>&lt;fct&gt;</th><th scope=col>&lt;fct&gt;</th><th scope=col>&lt;int&gt;</th><th scope=col>&lt;fct&gt;</th><th scope=col>&lt;int&gt;</th><th scope=col>&lt;int&gt;</th><th scope=col>&lt;int&gt;</th><th scope=col>&lt;int&gt;</th><th scope=col>&lt;int&gt;</th><th scope=col>&lt;int&gt;</th><th scope=col>&lt;int&gt;</th><th scope=col>&lt;int&gt;</th><th scope=col>&lt;int&gt;</th><th scope=col>&lt;int&gt;</th><th scope=col>&lt;int&gt;</th></tr>\n",
       "</thead>\n",
       "<tbody>\n",
       "\t<tr><th scope=row>1</th><td>Carlow Kilkenny   </td><td>Ceatharlach-Cill Chainnigh</td><td>11</td><td>26/02/2016</td><td>15</td><td>5</td><td>11669</td><td>2918</td><td>5</td><td>5</td><td>505</td><td>107023</td><td>70514</td><td>70009</td><td>1</td></tr>\n",
       "\t<tr><th scope=row>2</th><td>Cavan Monaghan    </td><td>An Cabhán-Muineachán      </td><td>10</td><td>26/02/2016</td><td>15</td><td>4</td><td>11931</td><td>2983</td><td>4</td><td>4</td><td>598</td><td> 90618</td><td>60248</td><td>59650</td><td>2</td></tr>\n",
       "\t<tr><th scope=row>3</th><td>Clare             </td><td>An Clár                   </td><td>12</td><td>26/02/2016</td><td>16</td><td>4</td><td>11401</td><td>2851</td><td>4</td><td>4</td><td>407</td><td> 83660</td><td>57407</td><td>57000</td><td>3</td></tr>\n",
       "\t<tr><th scope=row>4</th><td>Cork East         </td><td>Corcaigh Thoir            </td><td>10</td><td>26/02/2016</td><td>15</td><td>4</td><td>10562</td><td>2641</td><td>4</td><td>4</td><td>445</td><td> 83236</td><td>53251</td><td>52806</td><td>4</td></tr>\n",
       "\t<tr><th scope=row>5</th><td>Cork North Central</td><td>Corcaigh Thuaidh-Lár      </td><td>11</td><td>26/02/2016</td><td>14</td><td>4</td><td>10235</td><td>2559</td><td>4</td><td>4</td><td>516</td><td> 81609</td><td>51690</td><td>51174</td><td>5</td></tr>\n",
       "\t<tr><th scope=row>6</th><td>Cork North West   </td><td>Corcaigh Thiar Thuaidh    </td><td> 9</td><td>26/02/2016</td><td>13</td><td>3</td><td>11740</td><td>2936</td><td>3</td><td>3</td><td>395</td><td> 67589</td><td>47353</td><td>46958</td><td>6</td></tr>\n",
       "</tbody>\n",
       "</table>\n"
      ],
      "text/latex": [
       "A data.frame: 6 × 15\n",
       "\\begin{tabular}{r|lllllllllllllll}\n",
       "  & Constituency.Name & Constituency.Ainm & Count.Number & Date.Of.Election & Number.Of.Candidates & Number.of.Seats & Quota & Required.Save.Deposit & Seats.Filled & Seats.in.Constituency & Spoiled & Total.Electorate & Total.Poll & Valid.Poll & Constituency.Number\\\\\n",
       "  & <fct> & <fct> & <int> & <fct> & <int> & <int> & <int> & <int> & <int> & <int> & <int> & <int> & <int> & <int> & <int>\\\\\n",
       "\\hline\n",
       "\t1 & Carlow Kilkenny    & Ceatharlach-Cill Chainnigh & 11 & 26/02/2016 & 15 & 5 & 11669 & 2918 & 5 & 5 & 505 & 107023 & 70514 & 70009 & 1\\\\\n",
       "\t2 & Cavan Monaghan     & An Cabhán-Muineachán       & 10 & 26/02/2016 & 15 & 4 & 11931 & 2983 & 4 & 4 & 598 &  90618 & 60248 & 59650 & 2\\\\\n",
       "\t3 & Clare              & An Clár                    & 12 & 26/02/2016 & 16 & 4 & 11401 & 2851 & 4 & 4 & 407 &  83660 & 57407 & 57000 & 3\\\\\n",
       "\t4 & Cork East          & Corcaigh Thoir             & 10 & 26/02/2016 & 15 & 4 & 10562 & 2641 & 4 & 4 & 445 &  83236 & 53251 & 52806 & 4\\\\\n",
       "\t5 & Cork North Central & Corcaigh Thuaidh-Lár       & 11 & 26/02/2016 & 14 & 4 & 10235 & 2559 & 4 & 4 & 516 &  81609 & 51690 & 51174 & 5\\\\\n",
       "\t6 & Cork North West    & Corcaigh Thiar Thuaidh     &  9 & 26/02/2016 & 13 & 3 & 11740 & 2936 & 3 & 3 & 395 &  67589 & 47353 & 46958 & 6\\\\\n",
       "\\end{tabular}\n"
      ],
      "text/markdown": [
       "\n",
       "A data.frame: 6 × 15\n",
       "\n",
       "| <!--/--> | Constituency.Name &lt;fct&gt; | Constituency.Ainm &lt;fct&gt; | Count.Number &lt;int&gt; | Date.Of.Election &lt;fct&gt; | Number.Of.Candidates &lt;int&gt; | Number.of.Seats &lt;int&gt; | Quota &lt;int&gt; | Required.Save.Deposit &lt;int&gt; | Seats.Filled &lt;int&gt; | Seats.in.Constituency &lt;int&gt; | Spoiled &lt;int&gt; | Total.Electorate &lt;int&gt; | Total.Poll &lt;int&gt; | Valid.Poll &lt;int&gt; | Constituency.Number &lt;int&gt; |\n",
       "|---|---|---|---|---|---|---|---|---|---|---|---|---|---|---|---|\n",
       "| 1 | Carlow Kilkenny    | Ceatharlach-Cill Chainnigh | 11 | 26/02/2016 | 15 | 5 | 11669 | 2918 | 5 | 5 | 505 | 107023 | 70514 | 70009 | 1 |\n",
       "| 2 | Cavan Monaghan     | An Cabhán-Muineachán       | 10 | 26/02/2016 | 15 | 4 | 11931 | 2983 | 4 | 4 | 598 |  90618 | 60248 | 59650 | 2 |\n",
       "| 3 | Clare              | An Clár                    | 12 | 26/02/2016 | 16 | 4 | 11401 | 2851 | 4 | 4 | 407 |  83660 | 57407 | 57000 | 3 |\n",
       "| 4 | Cork East          | Corcaigh Thoir             | 10 | 26/02/2016 | 15 | 4 | 10562 | 2641 | 4 | 4 | 445 |  83236 | 53251 | 52806 | 4 |\n",
       "| 5 | Cork North Central | Corcaigh Thuaidh-Lár       | 11 | 26/02/2016 | 14 | 4 | 10235 | 2559 | 4 | 4 | 516 |  81609 | 51690 | 51174 | 5 |\n",
       "| 6 | Cork North West    | Corcaigh Thiar Thuaidh     |  9 | 26/02/2016 | 13 | 3 | 11740 | 2936 | 3 | 3 | 395 |  67589 | 47353 | 46958 | 6 |\n",
       "\n"
      ],
      "text/plain": [
       "  Constituency.Name  Constituency.Ainm          Count.Number Date.Of.Election\n",
       "1 Carlow Kilkenny    Ceatharlach-Cill Chainnigh 11           26/02/2016      \n",
       "2 Cavan Monaghan     An Cabhán-Muineachán       10           26/02/2016      \n",
       "3 Clare              An Clár                    12           26/02/2016      \n",
       "4 Cork East          Corcaigh Thoir             10           26/02/2016      \n",
       "5 Cork North Central Corcaigh Thuaidh-Lár       11           26/02/2016      \n",
       "6 Cork North West    Corcaigh Thiar Thuaidh      9           26/02/2016      \n",
       "  Number.Of.Candidates Number.of.Seats Quota Required.Save.Deposit Seats.Filled\n",
       "1 15                   5               11669 2918                  5           \n",
       "2 15                   4               11931 2983                  4           \n",
       "3 16                   4               11401 2851                  4           \n",
       "4 15                   4               10562 2641                  4           \n",
       "5 14                   4               10235 2559                  4           \n",
       "6 13                   3               11740 2936                  3           \n",
       "  Seats.in.Constituency Spoiled Total.Electorate Total.Poll Valid.Poll\n",
       "1 5                     505     107023           70514      70009     \n",
       "2 4                     598      90618           60248      59650     \n",
       "3 4                     407      83660           57407      57000     \n",
       "4 4                     445      83236           53251      52806     \n",
       "5 4                     516      81609           51690      51174     \n",
       "6 3                     395      67589           47353      46958     \n",
       "  Constituency.Number\n",
       "1 1                  \n",
       "2 2                  \n",
       "3 3                  \n",
       "4 4                  \n",
       "5 5                  \n",
       "6 6                  "
      ]
     },
     "metadata": {},
     "output_type": "display_data"
    },
    {
     "data": {
      "text/html": [],
      "text/latex": [],
      "text/markdown": [],
      "text/plain": [
       "integer(0)"
      ]
     },
     "metadata": {},
     "output_type": "display_data"
    }
   ],
   "source": [
    "#Constituency Data Set CSV into constdf - constituency dataframe\n",
    "constdf <- read.csv(constituencyFilePath, sep = \",\", fileEncoding=\"latin1\")\n",
    "head(constdf)\n",
    "\n",
    "#Check for NA Values - None Returned\n",
    "which(is.na(constdf)) "
   ]
  },
  {
   "cell_type": "code",
   "execution_count": 172,
   "id": "synthetic-replacement",
   "metadata": {},
   "outputs": [
    {
     "name": "stdout",
     "output_type": "stream",
     "text": [
      "In the 2016 General Election there were 40 Constituencies - constdf"
     ]
    }
   ],
   "source": [
    "# 2-a) Get the number of constituencies in this dataset -> constituency dataset\n",
    "countConstituenciesB = sqldf('Select DISTINCT \"Constituency.Name\" from constdf ORDER BY \"Constituency.Name\" ASC')\n",
    "cat(\"In the 2016 General Election there were\", nrow(countConstituenciesB), \"Constituencies - constdf\")"
   ]
  },
  {
   "cell_type": "markdown",
   "id": "accessible-respect",
   "metadata": {},
   "source": [
    "### Observation - Hyphenantion Versus Whitespcae in Dataframes!\n",
    ">Fix this with a substitution of a \" \" for each \"-\" in the Canddf.\n"
   ]
  },
  {
   "cell_type": "code",
   "execution_count": 173,
   "id": "prompt-bulletin",
   "metadata": {},
   "outputs": [
    {
     "data": {
      "text/html": [
       "<style>\n",
       ".list-inline {list-style: none; margin:0; padding: 0}\n",
       ".list-inline>li {display: inline-block}\n",
       ".list-inline>li:not(:last-child)::after {content: \"\\00b7\"; padding: 0 .5ex}\n",
       "</style>\n",
       "<ol class=list-inline><li>Galway West</li><li>Louth</li><li><span style=white-space:pre-wrap>Cork  East</span></li><li>Waterford</li><li>Dublin Mid-West</li><li>Tipperary</li><li>Dublin Bay South</li><li>Dublin South-Central</li><li>Carlow-Kilkenny</li><li>Dún Laoghaire</li><li>Longford-Westmeath</li><li>Cork North-Central</li><li>Wicklow</li><li>Kildare North</li><li>Limerick City</li><li>Cork South-Central</li><li>Meath East</li><li>Offaly</li><li>Kerry</li><li>Sligo-Leitrim</li><li>Clare</li><li>Dublin South-West</li><li>Dublin Bay North</li><li>Wexford</li><li>Limerick County</li><li>Dublin Central</li><li>Dublin West</li><li>Meath West</li><li>Cavan-Monaghan</li><li>Mayo</li><li>Galway East</li><li>Dublin North-West</li><li>Dublin Fingal</li><li>Cork South-West</li><li>Roscommon-Galway</li><li>Cork North-West</li><li>Laois</li><li>Kildare South</li><li>Dublin Rathdown</li><li>Donegal</li></ol>\n",
       "\n",
       "<details>\n",
       "\t<summary style=display:list-item;cursor:pointer>\n",
       "\t\t<strong>Levels</strong>:\n",
       "\t</summary>\n",
       "\t<style>\n",
       "\t.list-inline {list-style: none; margin:0; padding: 0}\n",
       "\t.list-inline>li {display: inline-block}\n",
       "\t.list-inline>li:not(:last-child)::after {content: \"\\00b7\"; padding: 0 .5ex}\n",
       "\t</style>\n",
       "\t<ol class=list-inline><li>'Carlow-Kilkenny'</li><li>'Cavan-Monaghan'</li><li>'Clare'</li><li><span style=white-space:pre-wrap>'Cork  East'</span></li><li>'Cork North-Central'</li><li>'Cork North-West'</li><li>'Cork South-Central'</li><li>'Cork South-West'</li><li>'Donegal'</li><li>'Dublin Bay North'</li><li>'Dublin Bay South'</li><li>'Dublin Central'</li><li>'Dublin Fingal'</li><li>'Dublin Mid-West'</li><li>'Dublin North-West'</li><li>'Dublin Rathdown'</li><li>'Dublin South-Central'</li><li>'Dublin South-West'</li><li>'Dublin West'</li><li>'Dún Laoghaire'</li><li>'Galway East'</li><li>'Galway West'</li><li>'Kerry'</li><li>'Kildare North'</li><li>'Kildare South'</li><li>'Laois'</li><li>'Limerick City'</li><li>'Limerick County'</li><li>'Longford-Westmeath'</li><li>'Louth'</li><li>'Mayo'</li><li>'Meath East'</li><li>'Meath West'</li><li>'Offaly'</li><li>'Roscommon-Galway'</li><li>'Sligo-Leitrim'</li><li>'Tipperary'</li><li>'Waterford'</li><li>'Wexford'</li><li>'Wicklow'</li></ol>\n",
       "</details>"
      ],
      "text/latex": [
       "\\begin{enumerate*}\n",
       "\\item Galway West\n",
       "\\item Louth\n",
       "\\item Cork  East\n",
       "\\item Waterford\n",
       "\\item Dublin Mid-West\n",
       "\\item Tipperary\n",
       "\\item Dublin Bay South\n",
       "\\item Dublin South-Central\n",
       "\\item Carlow-Kilkenny\n",
       "\\item Dún Laoghaire\n",
       "\\item Longford-Westmeath\n",
       "\\item Cork North-Central\n",
       "\\item Wicklow\n",
       "\\item Kildare North\n",
       "\\item Limerick City\n",
       "\\item Cork South-Central\n",
       "\\item Meath East\n",
       "\\item Offaly\n",
       "\\item Kerry\n",
       "\\item Sligo-Leitrim\n",
       "\\item Clare\n",
       "\\item Dublin South-West\n",
       "\\item Dublin Bay North\n",
       "\\item Wexford\n",
       "\\item Limerick County\n",
       "\\item Dublin Central\n",
       "\\item Dublin West\n",
       "\\item Meath West\n",
       "\\item Cavan-Monaghan\n",
       "\\item Mayo\n",
       "\\item Galway East\n",
       "\\item Dublin North-West\n",
       "\\item Dublin Fingal\n",
       "\\item Cork South-West\n",
       "\\item Roscommon-Galway\n",
       "\\item Cork North-West\n",
       "\\item Laois\n",
       "\\item Kildare South\n",
       "\\item Dublin Rathdown\n",
       "\\item Donegal\n",
       "\\end{enumerate*}\n",
       "\n",
       "\\emph{Levels}: \\begin{enumerate*}\n",
       "\\item 'Carlow-Kilkenny'\n",
       "\\item 'Cavan-Monaghan'\n",
       "\\item 'Clare'\n",
       "\\item 'Cork  East'\n",
       "\\item 'Cork North-Central'\n",
       "\\item 'Cork North-West'\n",
       "\\item 'Cork South-Central'\n",
       "\\item 'Cork South-West'\n",
       "\\item 'Donegal'\n",
       "\\item 'Dublin Bay North'\n",
       "\\item 'Dublin Bay South'\n",
       "\\item 'Dublin Central'\n",
       "\\item 'Dublin Fingal'\n",
       "\\item 'Dublin Mid-West'\n",
       "\\item 'Dublin North-West'\n",
       "\\item 'Dublin Rathdown'\n",
       "\\item 'Dublin South-Central'\n",
       "\\item 'Dublin South-West'\n",
       "\\item 'Dublin West'\n",
       "\\item 'Dún Laoghaire'\n",
       "\\item 'Galway East'\n",
       "\\item 'Galway West'\n",
       "\\item 'Kerry'\n",
       "\\item 'Kildare North'\n",
       "\\item 'Kildare South'\n",
       "\\item 'Laois'\n",
       "\\item 'Limerick City'\n",
       "\\item 'Limerick County'\n",
       "\\item 'Longford-Westmeath'\n",
       "\\item 'Louth'\n",
       "\\item 'Mayo'\n",
       "\\item 'Meath East'\n",
       "\\item 'Meath West'\n",
       "\\item 'Offaly'\n",
       "\\item 'Roscommon-Galway'\n",
       "\\item 'Sligo-Leitrim'\n",
       "\\item 'Tipperary'\n",
       "\\item 'Waterford'\n",
       "\\item 'Wexford'\n",
       "\\item 'Wicklow'\n",
       "\\end{enumerate*}\n"
      ],
      "text/markdown": [
       "1. Galway West\n",
       "2. Louth\n",
       "3. <span style=white-space:pre-wrap>Cork  East</span>\n",
       "4. Waterford\n",
       "5. Dublin Mid-West\n",
       "6. Tipperary\n",
       "7. Dublin Bay South\n",
       "8. Dublin South-Central\n",
       "9. Carlow-Kilkenny\n",
       "10. Dún Laoghaire\n",
       "11. Longford-Westmeath\n",
       "12. Cork North-Central\n",
       "13. Wicklow\n",
       "14. Kildare North\n",
       "15. Limerick City\n",
       "16. Cork South-Central\n",
       "17. Meath East\n",
       "18. Offaly\n",
       "19. Kerry\n",
       "20. Sligo-Leitrim\n",
       "21. Clare\n",
       "22. Dublin South-West\n",
       "23. Dublin Bay North\n",
       "24. Wexford\n",
       "25. Limerick County\n",
       "26. Dublin Central\n",
       "27. Dublin West\n",
       "28. Meath West\n",
       "29. Cavan-Monaghan\n",
       "30. Mayo\n",
       "31. Galway East\n",
       "32. Dublin North-West\n",
       "33. Dublin Fingal\n",
       "34. Cork South-West\n",
       "35. Roscommon-Galway\n",
       "36. Cork North-West\n",
       "37. Laois\n",
       "38. Kildare South\n",
       "39. Dublin Rathdown\n",
       "40. Donegal\n",
       "\n",
       "\n",
       "\n",
       "**Levels**: 1. 'Carlow-Kilkenny'\n",
       "2. 'Cavan-Monaghan'\n",
       "3. 'Clare'\n",
       "4. <span style=white-space:pre-wrap>'Cork  East'</span>\n",
       "5. 'Cork North-Central'\n",
       "6. 'Cork North-West'\n",
       "7. 'Cork South-Central'\n",
       "8. 'Cork South-West'\n",
       "9. 'Donegal'\n",
       "10. 'Dublin Bay North'\n",
       "11. 'Dublin Bay South'\n",
       "12. 'Dublin Central'\n",
       "13. 'Dublin Fingal'\n",
       "14. 'Dublin Mid-West'\n",
       "15. 'Dublin North-West'\n",
       "16. 'Dublin Rathdown'\n",
       "17. 'Dublin South-Central'\n",
       "18. 'Dublin South-West'\n",
       "19. 'Dublin West'\n",
       "20. 'Dún Laoghaire'\n",
       "21. 'Galway East'\n",
       "22. 'Galway West'\n",
       "23. 'Kerry'\n",
       "24. 'Kildare North'\n",
       "25. 'Kildare South'\n",
       "26. 'Laois'\n",
       "27. 'Limerick City'\n",
       "28. 'Limerick County'\n",
       "29. 'Longford-Westmeath'\n",
       "30. 'Louth'\n",
       "31. 'Mayo'\n",
       "32. 'Meath East'\n",
       "33. 'Meath West'\n",
       "34. 'Offaly'\n",
       "35. 'Roscommon-Galway'\n",
       "36. 'Sligo-Leitrim'\n",
       "37. 'Tipperary'\n",
       "38. 'Waterford'\n",
       "39. 'Wexford'\n",
       "40. 'Wicklow'\n",
       "\n",
       "\n"
      ],
      "text/plain": [
       " [1] Galway West          Louth                Cork  East          \n",
       " [4] Waterford            Dublin Mid-West      Tipperary           \n",
       " [7] Dublin Bay South     Dublin South-Central Carlow-Kilkenny     \n",
       "[10] Dún Laoghaire        Longford-Westmeath   Cork North-Central  \n",
       "[13] Wicklow              Kildare North        Limerick City       \n",
       "[16] Cork South-Central   Meath East           Offaly              \n",
       "[19] Kerry                Sligo-Leitrim        Clare               \n",
       "[22] Dublin South-West    Dublin Bay North     Wexford             \n",
       "[25] Limerick County      Dublin Central       Dublin West         \n",
       "[28] Meath West           Cavan-Monaghan       Mayo                \n",
       "[31] Galway East          Dublin North-West    Dublin Fingal       \n",
       "[34] Cork South-West      Roscommon-Galway     Cork North-West     \n",
       "[37] Laois                Kildare South        Dublin Rathdown     \n",
       "[40] Donegal             \n",
       "40 Levels: Carlow-Kilkenny Cavan-Monaghan Clare ... Wicklow"
      ]
     },
     "metadata": {},
     "output_type": "display_data"
    }
   ],
   "source": [
    "# Output Shows many Hyphens used in place of whitespace:\n",
    "unique(canddf$Constituency)"
   ]
  },
  {
   "cell_type": "code",
   "execution_count": 174,
   "id": "backed-tourist",
   "metadata": {},
   "outputs": [
    {
     "data": {
      "text/html": [
       "<style>\n",
       ".list-inline {list-style: none; margin:0; padding: 0}\n",
       ".list-inline>li {display: inline-block}\n",
       ".list-inline>li:not(:last-child)::after {content: \"\\00b7\"; padding: 0 .5ex}\n",
       "</style>\n",
       "<ol class=list-inline><li>'Galway West'</li><li>'Louth'</li><li><span style=white-space:pre-wrap>'Cork  East'</span></li><li>'Waterford'</li><li>'Dublin Mid West'</li><li>'Tipperary'</li><li>'Dublin Bay South'</li><li>'Dublin South Central'</li><li>'Carlow Kilkenny'</li><li>'Dún Laoghaire'</li><li>'Longford Westmeath'</li><li>'Cork North Central'</li><li>'Wicklow'</li><li>'Kildare North'</li><li>'Limerick City'</li><li>'Cork South Central'</li><li>'Meath East'</li><li>'Offaly'</li><li>'Kerry'</li><li>'Sligo Leitrim'</li><li>'Clare'</li><li>'Dublin South West'</li><li>'Dublin Bay North'</li><li>'Wexford'</li><li>'Limerick County'</li><li>'Dublin Central'</li><li>'Dublin West'</li><li>'Meath West'</li><li>'Cavan Monaghan'</li><li>'Mayo'</li><li>'Galway East'</li><li>'Dublin North West'</li><li>'Dublin Fingal'</li><li>'Cork South West'</li><li>'Roscommon Galway'</li><li>'Cork North West'</li><li>'Laois'</li><li>'Kildare South'</li><li>'Dublin Rathdown'</li><li>'Donegal'</li></ol>\n"
      ],
      "text/latex": [
       "\\begin{enumerate*}\n",
       "\\item 'Galway West'\n",
       "\\item 'Louth'\n",
       "\\item 'Cork  East'\n",
       "\\item 'Waterford'\n",
       "\\item 'Dublin Mid West'\n",
       "\\item 'Tipperary'\n",
       "\\item 'Dublin Bay South'\n",
       "\\item 'Dublin South Central'\n",
       "\\item 'Carlow Kilkenny'\n",
       "\\item 'Dún Laoghaire'\n",
       "\\item 'Longford Westmeath'\n",
       "\\item 'Cork North Central'\n",
       "\\item 'Wicklow'\n",
       "\\item 'Kildare North'\n",
       "\\item 'Limerick City'\n",
       "\\item 'Cork South Central'\n",
       "\\item 'Meath East'\n",
       "\\item 'Offaly'\n",
       "\\item 'Kerry'\n",
       "\\item 'Sligo Leitrim'\n",
       "\\item 'Clare'\n",
       "\\item 'Dublin South West'\n",
       "\\item 'Dublin Bay North'\n",
       "\\item 'Wexford'\n",
       "\\item 'Limerick County'\n",
       "\\item 'Dublin Central'\n",
       "\\item 'Dublin West'\n",
       "\\item 'Meath West'\n",
       "\\item 'Cavan Monaghan'\n",
       "\\item 'Mayo'\n",
       "\\item 'Galway East'\n",
       "\\item 'Dublin North West'\n",
       "\\item 'Dublin Fingal'\n",
       "\\item 'Cork South West'\n",
       "\\item 'Roscommon Galway'\n",
       "\\item 'Cork North West'\n",
       "\\item 'Laois'\n",
       "\\item 'Kildare South'\n",
       "\\item 'Dublin Rathdown'\n",
       "\\item 'Donegal'\n",
       "\\end{enumerate*}\n"
      ],
      "text/markdown": [
       "1. 'Galway West'\n",
       "2. 'Louth'\n",
       "3. <span style=white-space:pre-wrap>'Cork  East'</span>\n",
       "4. 'Waterford'\n",
       "5. 'Dublin Mid West'\n",
       "6. 'Tipperary'\n",
       "7. 'Dublin Bay South'\n",
       "8. 'Dublin South Central'\n",
       "9. 'Carlow Kilkenny'\n",
       "10. 'Dún Laoghaire'\n",
       "11. 'Longford Westmeath'\n",
       "12. 'Cork North Central'\n",
       "13. 'Wicklow'\n",
       "14. 'Kildare North'\n",
       "15. 'Limerick City'\n",
       "16. 'Cork South Central'\n",
       "17. 'Meath East'\n",
       "18. 'Offaly'\n",
       "19. 'Kerry'\n",
       "20. 'Sligo Leitrim'\n",
       "21. 'Clare'\n",
       "22. 'Dublin South West'\n",
       "23. 'Dublin Bay North'\n",
       "24. 'Wexford'\n",
       "25. 'Limerick County'\n",
       "26. 'Dublin Central'\n",
       "27. 'Dublin West'\n",
       "28. 'Meath West'\n",
       "29. 'Cavan Monaghan'\n",
       "30. 'Mayo'\n",
       "31. 'Galway East'\n",
       "32. 'Dublin North West'\n",
       "33. 'Dublin Fingal'\n",
       "34. 'Cork South West'\n",
       "35. 'Roscommon Galway'\n",
       "36. 'Cork North West'\n",
       "37. 'Laois'\n",
       "38. 'Kildare South'\n",
       "39. 'Dublin Rathdown'\n",
       "40. 'Donegal'\n",
       "\n",
       "\n"
      ],
      "text/plain": [
       " [1] \"Galway West\"          \"Louth\"                \"Cork  East\"          \n",
       " [4] \"Waterford\"            \"Dublin Mid West\"      \"Tipperary\"           \n",
       " [7] \"Dublin Bay South\"     \"Dublin South Central\" \"Carlow Kilkenny\"     \n",
       "[10] \"Dún Laoghaire\"        \"Longford Westmeath\"   \"Cork North Central\"  \n",
       "[13] \"Wicklow\"              \"Kildare North\"        \"Limerick City\"       \n",
       "[16] \"Cork South Central\"   \"Meath East\"           \"Offaly\"              \n",
       "[19] \"Kerry\"                \"Sligo Leitrim\"        \"Clare\"               \n",
       "[22] \"Dublin South West\"    \"Dublin Bay North\"     \"Wexford\"             \n",
       "[25] \"Limerick County\"      \"Dublin Central\"       \"Dublin West\"         \n",
       "[28] \"Meath West\"           \"Cavan Monaghan\"       \"Mayo\"                \n",
       "[31] \"Galway East\"          \"Dublin North West\"    \"Dublin Fingal\"       \n",
       "[34] \"Cork South West\"      \"Roscommon Galway\"     \"Cork North West\"     \n",
       "[37] \"Laois\"                \"Kildare South\"        \"Dublin Rathdown\"     \n",
       "[40] \"Donegal\"             "
      ]
     },
     "metadata": {},
     "output_type": "display_data"
    }
   ],
   "source": [
    "# 2-b) Map Hyphens to Whitespace for Normalisation \n",
    "canddf$Constituency <- gsub('-', ' ', canddf$Constituency)\n",
    "unique(canddf$Constituency)"
   ]
  },
  {
   "cell_type": "code",
   "execution_count": 175,
   "id": "aquatic-tissue",
   "metadata": {},
   "outputs": [
    {
     "data": {
      "text/html": [
       "<style>\n",
       ".list-inline {list-style: none; margin:0; padding: 0}\n",
       ".list-inline>li {display: inline-block}\n",
       ".list-inline>li:not(:last-child)::after {content: \"\\00b7\"; padding: 0 .5ex}\n",
       "</style>\n",
       "<ol class=list-inline><li>'Constituency'</li><li>'Surname'</li><li>'First.Name'</li><li>'Gender'</li><li>'Party'</li><li>'Party.Abbreviation'</li><li>'Count.Number'</li><li>'Required.To.Reach.Quota'</li><li>'Required.To.Save.Deposit'</li><li>'Votes'</li><li>'Result'</li><li>'Candidate.Id'</li><li>'Constituency.Number'</li><li>'Constituency.Ainm'</li></ol>\n"
      ],
      "text/latex": [
       "\\begin{enumerate*}\n",
       "\\item 'Constituency'\n",
       "\\item 'Surname'\n",
       "\\item 'First.Name'\n",
       "\\item 'Gender'\n",
       "\\item 'Party'\n",
       "\\item 'Party.Abbreviation'\n",
       "\\item 'Count.Number'\n",
       "\\item 'Required.To.Reach.Quota'\n",
       "\\item 'Required.To.Save.Deposit'\n",
       "\\item 'Votes'\n",
       "\\item 'Result'\n",
       "\\item 'Candidate.Id'\n",
       "\\item 'Constituency.Number'\n",
       "\\item 'Constituency.Ainm'\n",
       "\\end{enumerate*}\n"
      ],
      "text/markdown": [
       "1. 'Constituency'\n",
       "2. 'Surname'\n",
       "3. 'First.Name'\n",
       "4. 'Gender'\n",
       "5. 'Party'\n",
       "6. 'Party.Abbreviation'\n",
       "7. 'Count.Number'\n",
       "8. 'Required.To.Reach.Quota'\n",
       "9. 'Required.To.Save.Deposit'\n",
       "10. 'Votes'\n",
       "11. 'Result'\n",
       "12. 'Candidate.Id'\n",
       "13. 'Constituency.Number'\n",
       "14. 'Constituency.Ainm'\n",
       "\n",
       "\n"
      ],
      "text/plain": [
       " [1] \"Constituency\"             \"Surname\"                 \n",
       " [3] \"First.Name\"               \"Gender\"                  \n",
       " [5] \"Party\"                    \"Party.Abbreviation\"      \n",
       " [7] \"Count.Number\"             \"Required.To.Reach.Quota\" \n",
       " [9] \"Required.To.Save.Deposit\" \"Votes\"                   \n",
       "[11] \"Result\"                   \"Candidate.Id\"            \n",
       "[13] \"Constituency.Number\"      \"Constituency.Ainm\"       "
      ]
     },
     "metadata": {},
     "output_type": "display_data"
    },
    {
     "data": {
      "text/html": [
       "<style>\n",
       ".list-inline {list-style: none; margin:0; padding: 0}\n",
       ".list-inline>li {display: inline-block}\n",
       ".list-inline>li:not(:last-child)::after {content: \"\\00b7\"; padding: 0 .5ex}\n",
       "</style>\n",
       "<ol class=list-inline><li>'Constituency.Name'</li><li>'Constituency.Ainm'</li><li>'Count.Number'</li><li>'Date.Of.Election'</li><li>'Number.Of.Candidates'</li><li>'Number.of.Seats'</li><li>'Quota'</li><li>'Required.Save.Deposit'</li><li>'Seats.Filled'</li><li>'Seats.in.Constituency'</li><li>'Spoiled'</li><li>'Total.Electorate'</li><li>'Total.Poll'</li><li>'Valid.Poll'</li><li>'Constituency.Number'</li></ol>\n"
      ],
      "text/latex": [
       "\\begin{enumerate*}\n",
       "\\item 'Constituency.Name'\n",
       "\\item 'Constituency.Ainm'\n",
       "\\item 'Count.Number'\n",
       "\\item 'Date.Of.Election'\n",
       "\\item 'Number.Of.Candidates'\n",
       "\\item 'Number.of.Seats'\n",
       "\\item 'Quota'\n",
       "\\item 'Required.Save.Deposit'\n",
       "\\item 'Seats.Filled'\n",
       "\\item 'Seats.in.Constituency'\n",
       "\\item 'Spoiled'\n",
       "\\item 'Total.Electorate'\n",
       "\\item 'Total.Poll'\n",
       "\\item 'Valid.Poll'\n",
       "\\item 'Constituency.Number'\n",
       "\\end{enumerate*}\n"
      ],
      "text/markdown": [
       "1. 'Constituency.Name'\n",
       "2. 'Constituency.Ainm'\n",
       "3. 'Count.Number'\n",
       "4. 'Date.Of.Election'\n",
       "5. 'Number.Of.Candidates'\n",
       "6. 'Number.of.Seats'\n",
       "7. 'Quota'\n",
       "8. 'Required.Save.Deposit'\n",
       "9. 'Seats.Filled'\n",
       "10. 'Seats.in.Constituency'\n",
       "11. 'Spoiled'\n",
       "12. 'Total.Electorate'\n",
       "13. 'Total.Poll'\n",
       "14. 'Valid.Poll'\n",
       "15. 'Constituency.Number'\n",
       "\n",
       "\n"
      ],
      "text/plain": [
       " [1] \"Constituency.Name\"     \"Constituency.Ainm\"     \"Count.Number\"         \n",
       " [4] \"Date.Of.Election\"      \"Number.Of.Candidates\"  \"Number.of.Seats\"      \n",
       " [7] \"Quota\"                 \"Required.Save.Deposit\" \"Seats.Filled\"         \n",
       "[10] \"Seats.in.Constituency\" \"Spoiled\"               \"Total.Electorate\"     \n",
       "[13] \"Total.Poll\"            \"Valid.Poll\"            \"Constituency.Number\"  "
      ]
     },
     "metadata": {},
     "output_type": "display_data"
    }
   ],
   "source": [
    "# Column Naming is not harmonised across Canddf and Constdf (canddf$Constituency != constdf$Constituency.Name)\n",
    "colnames(canddf)\n",
    "colnames(constdf)"
   ]
  },
  {
   "cell_type": "code",
   "execution_count": 176,
   "id": "suburban-appraisal",
   "metadata": {},
   "outputs": [
    {
     "data": {
      "text/html": [
       "<style>\n",
       ".list-inline {list-style: none; margin:0; padding: 0}\n",
       ".list-inline>li {display: inline-block}\n",
       ".list-inline>li:not(:last-child)::after {content: \"\\00b7\"; padding: 0 .5ex}\n",
       "</style>\n",
       "<ol class=list-inline><li>'Constituency.Name'</li><li>'Surname'</li><li>'First.Name'</li><li>'Gender'</li><li>'Party'</li><li>'Party.Abbreviation'</li><li>'Count.Number'</li><li>'Required.To.Reach.Quota'</li><li>'Required.To.Save.Deposit'</li><li>'Votes'</li><li>'Result'</li><li>'Candidate.Id'</li><li>'Constituency.Number'</li><li>'Constituency.Ainm'</li></ol>\n"
      ],
      "text/latex": [
       "\\begin{enumerate*}\n",
       "\\item 'Constituency.Name'\n",
       "\\item 'Surname'\n",
       "\\item 'First.Name'\n",
       "\\item 'Gender'\n",
       "\\item 'Party'\n",
       "\\item 'Party.Abbreviation'\n",
       "\\item 'Count.Number'\n",
       "\\item 'Required.To.Reach.Quota'\n",
       "\\item 'Required.To.Save.Deposit'\n",
       "\\item 'Votes'\n",
       "\\item 'Result'\n",
       "\\item 'Candidate.Id'\n",
       "\\item 'Constituency.Number'\n",
       "\\item 'Constituency.Ainm'\n",
       "\\end{enumerate*}\n"
      ],
      "text/markdown": [
       "1. 'Constituency.Name'\n",
       "2. 'Surname'\n",
       "3. 'First.Name'\n",
       "4. 'Gender'\n",
       "5. 'Party'\n",
       "6. 'Party.Abbreviation'\n",
       "7. 'Count.Number'\n",
       "8. 'Required.To.Reach.Quota'\n",
       "9. 'Required.To.Save.Deposit'\n",
       "10. 'Votes'\n",
       "11. 'Result'\n",
       "12. 'Candidate.Id'\n",
       "13. 'Constituency.Number'\n",
       "14. 'Constituency.Ainm'\n",
       "\n",
       "\n"
      ],
      "text/plain": [
       " [1] \"Constituency.Name\"        \"Surname\"                 \n",
       " [3] \"First.Name\"               \"Gender\"                  \n",
       " [5] \"Party\"                    \"Party.Abbreviation\"      \n",
       " [7] \"Count.Number\"             \"Required.To.Reach.Quota\" \n",
       " [9] \"Required.To.Save.Deposit\" \"Votes\"                   \n",
       "[11] \"Result\"                   \"Candidate.Id\"            \n",
       "[13] \"Constituency.Number\"      \"Constituency.Ainm\"       "
      ]
     },
     "metadata": {},
     "output_type": "display_data"
    },
    {
     "data": {
      "text/html": [
       "<style>\n",
       ".list-inline {list-style: none; margin:0; padding: 0}\n",
       ".list-inline>li {display: inline-block}\n",
       ".list-inline>li:not(:last-child)::after {content: \"\\00b7\"; padding: 0 .5ex}\n",
       "</style>\n",
       "<ol class=list-inline><li>'Constituency.Name'</li><li>'Constituency.Ainm'</li><li>'Count.Number'</li><li>'Date.Of.Election'</li><li>'Number.Of.Candidates'</li><li>'Number.of.Seats'</li><li>'Quota'</li><li>'Required.Save.Deposit'</li><li>'Seats.Filled'</li><li>'Seats.in.Constituency'</li><li>'Spoiled'</li><li>'Total.Electorate'</li><li>'Total.Poll'</li><li>'Valid.Poll'</li><li>'Constituency.Number'</li></ol>\n"
      ],
      "text/latex": [
       "\\begin{enumerate*}\n",
       "\\item 'Constituency.Name'\n",
       "\\item 'Constituency.Ainm'\n",
       "\\item 'Count.Number'\n",
       "\\item 'Date.Of.Election'\n",
       "\\item 'Number.Of.Candidates'\n",
       "\\item 'Number.of.Seats'\n",
       "\\item 'Quota'\n",
       "\\item 'Required.Save.Deposit'\n",
       "\\item 'Seats.Filled'\n",
       "\\item 'Seats.in.Constituency'\n",
       "\\item 'Spoiled'\n",
       "\\item 'Total.Electorate'\n",
       "\\item 'Total.Poll'\n",
       "\\item 'Valid.Poll'\n",
       "\\item 'Constituency.Number'\n",
       "\\end{enumerate*}\n"
      ],
      "text/markdown": [
       "1. 'Constituency.Name'\n",
       "2. 'Constituency.Ainm'\n",
       "3. 'Count.Number'\n",
       "4. 'Date.Of.Election'\n",
       "5. 'Number.Of.Candidates'\n",
       "6. 'Number.of.Seats'\n",
       "7. 'Quota'\n",
       "8. 'Required.Save.Deposit'\n",
       "9. 'Seats.Filled'\n",
       "10. 'Seats.in.Constituency'\n",
       "11. 'Spoiled'\n",
       "12. 'Total.Electorate'\n",
       "13. 'Total.Poll'\n",
       "14. 'Valid.Poll'\n",
       "15. 'Constituency.Number'\n",
       "\n",
       "\n"
      ],
      "text/plain": [
       " [1] \"Constituency.Name\"     \"Constituency.Ainm\"     \"Count.Number\"         \n",
       " [4] \"Date.Of.Election\"      \"Number.Of.Candidates\"  \"Number.of.Seats\"      \n",
       " [7] \"Quota\"                 \"Required.Save.Deposit\" \"Seats.Filled\"         \n",
       "[10] \"Seats.in.Constituency\" \"Spoiled\"               \"Total.Electorate\"     \n",
       "[13] \"Total.Poll\"            \"Valid.Poll\"            \"Constituency.Number\"  "
      ]
     },
     "metadata": {},
     "output_type": "display_data"
    }
   ],
   "source": [
    "# 2-b continued) Where canddf column name == Constituency replace with 'Constituency.Name'\n",
    "colnames(canddf)[colnames(canddf) == 'Constituency'] <- 'Constituency.Name'\n",
    "colnames(canddf)\n",
    "colnames(constdf)"
   ]
  },
  {
   "cell_type": "code",
   "execution_count": null,
   "id": "freelance-dance",
   "metadata": {},
   "outputs": [],
   "source": []
  },
  {
   "cell_type": "code",
   "execution_count": null,
   "id": "approximate-postage",
   "metadata": {},
   "outputs": [],
   "source": []
  },
  {
   "cell_type": "code",
   "execution_count": null,
   "id": "quantitative-aging",
   "metadata": {},
   "outputs": [],
   "source": []
  },
  {
   "cell_type": "code",
   "execution_count": null,
   "id": "integrated-fourth",
   "metadata": {},
   "outputs": [],
   "source": []
  },
  {
   "cell_type": "markdown",
   "id": "joint-translator",
   "metadata": {},
   "source": [
    "---\n",
    "# Part Three - Count Data"
   ]
  },
  {
   "cell_type": "code",
   "execution_count": 177,
   "id": "statewide-sarah",
   "metadata": {},
   "outputs": [
    {
     "data": {
      "text/html": [
       "<table class=\"dataframe\">\n",
       "<caption>A data.frame: 6 × 14</caption>\n",
       "<thead>\n",
       "\t<tr><th></th><th scope=col>Constituency.Name</th><th scope=col>Candidate.surname</th><th scope=col>Candidate.First.Name</th><th scope=col>Result</th><th scope=col>Count.Number</th><th scope=col>Non_Transferable</th><th scope=col>Occurred.On.Count</th><th scope=col>Required.To.Reach.Quota</th><th scope=col>Required.To.Save.Deposit</th><th scope=col>Transfers</th><th scope=col>Votes</th><th scope=col>Total.Votes</th><th scope=col>Constituency.Number</th><th scope=col>Candidate.Id</th></tr>\n",
       "\t<tr><th></th><th scope=col>&lt;fct&gt;</th><th scope=col>&lt;fct&gt;</th><th scope=col>&lt;fct&gt;</th><th scope=col>&lt;fct&gt;</th><th scope=col>&lt;int&gt;</th><th scope=col>&lt;int&gt;</th><th scope=col>&lt;int&gt;</th><th scope=col>&lt;int&gt;</th><th scope=col>&lt;int&gt;</th><th scope=col>&lt;int&gt;</th><th scope=col>&lt;int&gt;</th><th scope=col>&lt;int&gt;</th><th scope=col>&lt;int&gt;</th><th scope=col>&lt;int&gt;</th></tr>\n",
       "</thead>\n",
       "<tbody>\n",
       "\t<tr><th scope=row>1</th><td>Louth</td><td>Adams</td><td>Gerry</td><td>       </td><td>1</td><td>0</td><td>0</td><td>594</td><td>0</td><td>  0</td><td>10661</td><td>10661</td><td>31</td><td>160</td></tr>\n",
       "\t<tr><th scope=row>2</th><td>Louth</td><td>Adams</td><td>Gerry</td><td>       </td><td>2</td><td>0</td><td>0</td><td>481</td><td>0</td><td>113</td><td>10661</td><td>10774</td><td>31</td><td>160</td></tr>\n",
       "\t<tr><th scope=row>3</th><td>Louth</td><td>Adams</td><td>Gerry</td><td>       </td><td>3</td><td>0</td><td>0</td><td>429</td><td>0</td><td> 52</td><td>10661</td><td>10826</td><td>31</td><td>160</td></tr>\n",
       "\t<tr><th scope=row>4</th><td>Louth</td><td>Adams</td><td>Gerry</td><td>       </td><td>4</td><td>0</td><td>0</td><td>347</td><td>0</td><td> 82</td><td>10661</td><td>10908</td><td>31</td><td>160</td></tr>\n",
       "\t<tr><th scope=row>5</th><td>Louth</td><td>Adams</td><td>Gerry</td><td>       </td><td>5</td><td>0</td><td>0</td><td>159</td><td>0</td><td>188</td><td>10661</td><td>11096</td><td>31</td><td>160</td></tr>\n",
       "\t<tr><th scope=row>6</th><td>Louth</td><td>Adams</td><td>Gerry</td><td>Elected</td><td>7</td><td>0</td><td>6</td><td>  0</td><td>0</td><td>  0</td><td>10661</td><td>11278</td><td>31</td><td>160</td></tr>\n",
       "</tbody>\n",
       "</table>\n"
      ],
      "text/latex": [
       "A data.frame: 6 × 14\n",
       "\\begin{tabular}{r|llllllllllllll}\n",
       "  & Constituency.Name & Candidate.surname & Candidate.First.Name & Result & Count.Number & Non\\_Transferable & Occurred.On.Count & Required.To.Reach.Quota & Required.To.Save.Deposit & Transfers & Votes & Total.Votes & Constituency.Number & Candidate.Id\\\\\n",
       "  & <fct> & <fct> & <fct> & <fct> & <int> & <int> & <int> & <int> & <int> & <int> & <int> & <int> & <int> & <int>\\\\\n",
       "\\hline\n",
       "\t1 & Louth & Adams & Gerry &         & 1 & 0 & 0 & 594 & 0 &   0 & 10661 & 10661 & 31 & 160\\\\\n",
       "\t2 & Louth & Adams & Gerry &         & 2 & 0 & 0 & 481 & 0 & 113 & 10661 & 10774 & 31 & 160\\\\\n",
       "\t3 & Louth & Adams & Gerry &         & 3 & 0 & 0 & 429 & 0 &  52 & 10661 & 10826 & 31 & 160\\\\\n",
       "\t4 & Louth & Adams & Gerry &         & 4 & 0 & 0 & 347 & 0 &  82 & 10661 & 10908 & 31 & 160\\\\\n",
       "\t5 & Louth & Adams & Gerry &         & 5 & 0 & 0 & 159 & 0 & 188 & 10661 & 11096 & 31 & 160\\\\\n",
       "\t6 & Louth & Adams & Gerry & Elected & 7 & 0 & 6 &   0 & 0 &   0 & 10661 & 11278 & 31 & 160\\\\\n",
       "\\end{tabular}\n"
      ],
      "text/markdown": [
       "\n",
       "A data.frame: 6 × 14\n",
       "\n",
       "| <!--/--> | Constituency.Name &lt;fct&gt; | Candidate.surname &lt;fct&gt; | Candidate.First.Name &lt;fct&gt; | Result &lt;fct&gt; | Count.Number &lt;int&gt; | Non_Transferable &lt;int&gt; | Occurred.On.Count &lt;int&gt; | Required.To.Reach.Quota &lt;int&gt; | Required.To.Save.Deposit &lt;int&gt; | Transfers &lt;int&gt; | Votes &lt;int&gt; | Total.Votes &lt;int&gt; | Constituency.Number &lt;int&gt; | Candidate.Id &lt;int&gt; |\n",
       "|---|---|---|---|---|---|---|---|---|---|---|---|---|---|---|\n",
       "| 1 | Louth | Adams | Gerry | <!----> | 1 | 0 | 0 | 594 | 0 |   0 | 10661 | 10661 | 31 | 160 |\n",
       "| 2 | Louth | Adams | Gerry | <!----> | 2 | 0 | 0 | 481 | 0 | 113 | 10661 | 10774 | 31 | 160 |\n",
       "| 3 | Louth | Adams | Gerry | <!----> | 3 | 0 | 0 | 429 | 0 |  52 | 10661 | 10826 | 31 | 160 |\n",
       "| 4 | Louth | Adams | Gerry | <!----> | 4 | 0 | 0 | 347 | 0 |  82 | 10661 | 10908 | 31 | 160 |\n",
       "| 5 | Louth | Adams | Gerry | <!----> | 5 | 0 | 0 | 159 | 0 | 188 | 10661 | 11096 | 31 | 160 |\n",
       "| 6 | Louth | Adams | Gerry | Elected | 7 | 0 | 6 |   0 | 0 |   0 | 10661 | 11278 | 31 | 160 |\n",
       "\n"
      ],
      "text/plain": [
       "  Constituency.Name Candidate.surname Candidate.First.Name Result  Count.Number\n",
       "1 Louth             Adams             Gerry                        1           \n",
       "2 Louth             Adams             Gerry                        2           \n",
       "3 Louth             Adams             Gerry                        3           \n",
       "4 Louth             Adams             Gerry                        4           \n",
       "5 Louth             Adams             Gerry                        5           \n",
       "6 Louth             Adams             Gerry                Elected 7           \n",
       "  Non_Transferable Occurred.On.Count Required.To.Reach.Quota\n",
       "1 0                0                 594                    \n",
       "2 0                0                 481                    \n",
       "3 0                0                 429                    \n",
       "4 0                0                 347                    \n",
       "5 0                0                 159                    \n",
       "6 0                6                   0                    \n",
       "  Required.To.Save.Deposit Transfers Votes Total.Votes Constituency.Number\n",
       "1 0                          0       10661 10661       31                 \n",
       "2 0                        113       10661 10774       31                 \n",
       "3 0                         52       10661 10826       31                 \n",
       "4 0                         82       10661 10908       31                 \n",
       "5 0                        188       10661 11096       31                 \n",
       "6 0                          0       10661 11278       31                 \n",
       "  Candidate.Id\n",
       "1 160         \n",
       "2 160         \n",
       "3 160         \n",
       "4 160         \n",
       "5 160         \n",
       "6 160         "
      ]
     },
     "metadata": {},
     "output_type": "display_data"
    },
    {
     "data": {
      "text/html": [],
      "text/latex": [],
      "text/markdown": [],
      "text/plain": [
       "integer(0)"
      ]
     },
     "metadata": {},
     "output_type": "display_data"
    }
   ],
   "source": [
    "#Count Data Set CSV into countdf - election count dataframe\n",
    "countdf <- read.csv(electionCountFilePath, sep = \",\", fileEncoding=\"latin1\")\n",
    "head(countdf)\n",
    "\n",
    "#Check for NA Values - None Returned\n",
    "which(is.na(countdf)) "
   ]
  },
  {
   "cell_type": "code",
   "execution_count": 178,
   "id": "dynamic-latter",
   "metadata": {},
   "outputs": [
    {
     "name": "stdout",
     "output_type": "stream",
     "text": [
      "The Laois Constituency Had: 6 Candidates in the 2016 General Election. - countdf"
     ]
    }
   ],
   "source": [
    "# 3-a) How many Laois Candidates according to the countdf?\n",
    "distinctLaoisCandidatesB = sqldf('Select DISTINCT \"Candidate.First.Name\",\"Candidate.surname\" from countdf where \"Constituency.Name\" = \"Laois\"')\n",
    "cat(\"The Laois Constituency Had:\", nrow(distinctLaoisCandidatesB), \"Candidates in the 2016 General Election. - countdf\")"
   ]
  },
  {
   "cell_type": "code",
   "execution_count": null,
   "id": "durable-disclaimer",
   "metadata": {},
   "outputs": [],
   "source": []
  },
  {
   "cell_type": "code",
   "execution_count": null,
   "id": "seeing-apparel",
   "metadata": {},
   "outputs": [],
   "source": []
  },
  {
   "cell_type": "code",
   "execution_count": null,
   "id": "rough-kingston",
   "metadata": {},
   "outputs": [],
   "source": []
  }
 ],
 "metadata": {
  "kernelspec": {
   "display_name": "R",
   "language": "R",
   "name": "ir"
  },
  "language_info": {
   "codemirror_mode": "r",
   "file_extension": ".r",
   "mimetype": "text/x-r-source",
   "name": "R",
   "pygments_lexer": "r",
   "version": "3.6.2"
  }
 },
 "nbformat": 4,
 "nbformat_minor": 5
}
