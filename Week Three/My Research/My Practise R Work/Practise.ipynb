{
 "cells": [
  {
   "cell_type": "markdown",
   "metadata": {},
   "source": [
    "# Lab Week 5 & 6: R General Election Assignment\n",
    "### Stephen Alger\n",
    "### C16377163\n",
    "### February/ March 2020\n"
   ]
  },
  {
   "cell_type": "code",
   "execution_count": 239,
   "metadata": {},
   "outputs": [
    {
     "name": "stdout",
     "output_type": "stream",
     "text": [
      "\n",
      "The downloaded binary packages are in\n",
      "\t/var/folders/tj/n0crv2hj7zj5vxqbn5kjllf80000gn/T//RtmplAsF48/downloaded_packages\n"
     ]
    }
   ],
   "source": [
    "install.packages(\"dplyr\")"
   ]
  },
  {
   "cell_type": "code",
   "execution_count": 241,
   "metadata": {},
   "outputs": [],
   "source": [
    "library(dplyr)"
   ]
  },
  {
   "cell_type": "markdown",
   "metadata": {},
   "source": [
    "### Part 1: Load Files..."
   ]
  },
  {
   "cell_type": "code",
   "execution_count": 242,
   "metadata": {},
   "outputs": [
    {
     "name": "stdout",
     "output_type": "stream",
     "text": [
      "[1] \"Input CSV Files Read\"\n"
     ]
    }
   ],
   "source": [
    "# Set File Locations\n",
    "CandidateFilelocation = \"/Users/stephen2697/Desktop/DataVis-Lab5CSV/candidate-details.csv\"\n",
    "ConstituencyFilelocation = \"/Users/stephen2697/Desktop/DataVis-Lab5CSV/constituency-details.csv\"\n",
    "CountFilelocation = \"/Users/stephen2697/Desktop/DataVis-Lab5CSV/count-details.csv\"\n",
    "\n",
    "# Create the data frames.\n",
    "canddf <- read.csv(CandidateFilelocation, sep = \",\", fileEncoding=\"latin1\")\n",
    "constdf <- read.csv(ConstituencyFilelocation, sep = \",\", fileEncoding=\"latin1\")\n",
    "countdf <- read.csv(CountFilelocation, sep = \",\", fileEncoding=\"latin1\")\n",
    "\n",
    "print(\"Input CSV Files Read\")"
   ]
  },
  {
   "cell_type": "markdown",
   "metadata": {},
   "source": [
    "### Part 2: \n",
    "Using the candidate csv, load the data into a data frame called canddf (Please note, because of the accents (e.g. Eamon Ó Cuiv), you will need to use a latin1 file encoding). Check if you need to change anything else."
   ]
  },
  {
   "cell_type": "code",
   "execution_count": 243,
   "metadata": {},
   "outputs": [
    {
     "name": "stdout",
     "output_type": "stream",
     "text": [
      "    Constituency Surname First.Name\n",
      "32       Wexford  Browne      James\n",
      "44       Wexford   Byrne      Aoife\n",
      "47       Wexford   Byrne    Malcolm\n",
      "59       Wexford  Carthy        Ger\n",
      "115      Wexford  D'arcy    Michael\n",
      "144      Wexford   Dwyer       John\n",
      "180      Wexford    Foxe   Caroline\n",
      "234      Wexford   Hogan      Julie\n",
      "241      Wexford  Howlin    Brendan\n",
      "257      Wexford   Kehoe       Paul\n",
      "263      Wexford   Kelly    Leonard\n",
      "286      Wexford   Lloyd      David\n",
      "303      Wexford Maloney      David\n",
      "382      Wexford  Mythen       John\n",
      "535      Wexford Wadding    Deirdre\n",
      "538      Wexford Wallace       Mick\n",
      "539      Wexford   Walsh        Ann\n"
     ]
    },
    {
     "data": {
      "text/plain": [
       "             Constituency    Surname      First.Name\n",
       " Wexford           :17    Byrne  : 2   David   :2   \n",
       " Carlow-Kilkenny   : 0    Browne : 1   John    :2   \n",
       " Cavan-Monaghan    : 0    Carthy : 1   Ann     :1   \n",
       " Clare             : 0    D'arcy : 1   Aoife   :1   \n",
       " Cork  East        : 0    Dwyer  : 1   Brendan :1   \n",
       " Cork North-Central: 0    Foxe   : 1   Caroline:1   \n",
       " (Other)           : 0    (Other):10   (Other) :9   "
      ]
     },
     "metadata": {},
     "output_type": "display_data"
    }
   ],
   "source": [
    "#Part 2a: Display the Surname and First.Name of candidates from the Wexford constituency in canddf.\n",
    "#Note Result column has nan values\n",
    "#print(canddf)\n",
    "\n",
    "wexFirstSecondNames <- subset(canddf, select = c(\"Constituency\",\"Surname\", \"First.Name\"), Constituency == \"Wexford\")\n",
    "print(wexFirstSecondNames)\n",
    "summary(wexFirstSecondNames)"
   ]
  },
  {
   "cell_type": "code",
   "execution_count": 244,
   "metadata": {},
   "outputs": [
    {
     "name": "stdout",
     "output_type": "stream",
     "text": [
      "There are: 14 Laois Candidates in the canddf source\n",
      "NULL\n"
     ]
    }
   ],
   "source": [
    "#Part 2b: How many candidates are there in the Laois constituency in canddf?\n",
    "\n",
    "numberOfLaoisCandidatesCandDF <- subset(canddf, Constituency == \"Laois\")\n",
    "output <- cat(\"There are:\", length(numberOfLaoisCandidates), \"Laois Candidates in the canddf source\\n\")\n",
    "print(output)"
   ]
  },
  {
   "cell_type": "code",
   "execution_count": 245,
   "metadata": {},
   "outputs": [
    {
     "name": "stdout",
     "output_type": "stream",
     "text": [
      "There are: 40 Constituencies in the canddf source\n",
      "NULL\n"
     ]
    }
   ],
   "source": [
    "#Part 2c: How many constituencies are there in canddf?\n",
    "numberConstituenciesCandDF <- unique(canddf$Constituency)\n",
    "output <- cat(\"There are:\", length(numberConstituenciesCandDF), \"Constituencies in the canddf source\\n\")\n",
    "print(output)"
   ]
  },
  {
   "cell_type": "markdown",
   "metadata": {},
   "source": [
    "### Part 3: \n",
    "How many constituencies are there in this source?"
   ]
  },
  {
   "cell_type": "code",
   "execution_count": 246,
   "metadata": {},
   "outputs": [
    {
     "name": "stdout",
     "output_type": "stream",
     "text": [
      "There are: 40 Constituencies in the constdf source \n",
      "NULL\n"
     ]
    }
   ],
   "source": [
    "#print(constdf)\n",
    "numberConstituenciesConstDF <- unique(constdf$Constituency.Name)\n",
    "output <- cat(\"There are:\", length(numberConstituenciesConstDF), \"Constituencies in the constdf source\",\"\\n\")\n",
    "print(output)\n"
   ]
  },
  {
   "cell_type": "markdown",
   "metadata": {},
   "source": [
    "### Part 4:\n",
    "Assuming the constituency source is correct, look at the data and make a decision about any inconsistencies."
   ]
  },
  {
   "cell_type": "code",
   "execution_count": 247,
   "metadata": {},
   "outputs": [],
   "source": [
    "#Inconsistencies:\n",
    "#Remove Hypenation in CandDF\n",
    "canddf$Constituency <- mapply(gsub, pattern = \"-\", replacement = \" \", canddf$Constituency)"
   ]
  },
  {
   "cell_type": "code",
   "execution_count": 248,
   "metadata": {},
   "outputs": [
    {
     "name": "stdout",
     "output_type": "stream",
     "text": [
      " [1] \"Galway West\"          \"Louth\"                \"Cork  East\"          \n",
      " [4] \"Waterford\"            \"Dublin Mid West\"      \"Tipperary\"           \n",
      " [7] \"Dublin Bay South\"     \"Dublin South Central\" \"Carlow Kilkenny\"     \n",
      "[10] \"Dún Laoghaire\"        \"Longford Westmeath\"   \"Cork North Central\"  \n",
      "[13] \"Wicklow\"              \"Kildare North\"        \"Limerick City\"       \n",
      "[16] \"Cork South Central\"   \"Meath East\"           \"Offaly\"              \n",
      "[19] \"Kerry\"                \"Sligo Leitrim\"        \"Clare\"               \n",
      "[22] \"Dublin South West\"    \"Dublin Bay North\"     \"Wexford\"             \n",
      "[25] \"Limerick County\"      \"Dublin Central\"       \"Dublin West\"         \n",
      "[28] \"Meath West\"           \"Cavan Monaghan\"       \"Mayo\"                \n",
      "[31] \"Galway East\"          \"Dublin North West\"    \"Dublin Fingal\"       \n",
      "[34] \"Cork South West\"      \"Roscommon Galway\"     \"Cork North West\"     \n",
      "[37] \"Laois\"                \"Kildare South\"        \"Dublin Rathdown\"     \n",
      "[40] \"Donegal\"             \n",
      " [1] Carlow Kilkenny      Cavan Monaghan       Clare               \n",
      " [4] Cork East            Cork North Central   Cork North West     \n",
      " [7] Cork South Central   Cork South West      Donegal             \n",
      "[10] Dublin Bay North     Dublin Bay South     Dublin Central      \n",
      "[13] Dublin Fingal        Dublin Mid West      Dublin North West   \n",
      "[16] Dublin Rathdown      Dublin South Central Dublin South West   \n",
      "[19] Dublin West          Dún Laoghaire        Galway East         \n",
      "[22] Galway West          Kerry                Kildare North       \n",
      "[25] Kildare South        Laois                Limerick City       \n",
      "[28] Limerick County      Longford Westmeath   Louth               \n",
      "[31] Mayo                 Meath East           Meath West          \n",
      "[34] Offaly               Roscommon Galway     Sligo Leitrim       \n",
      "[37] Tipperary            Waterford            Wexford             \n",
      "[40] Wicklow             \n",
      "40 Levels: Carlow Kilkenny Cavan Monaghan Clare ... Wicklow\n"
     ]
    }
   ],
   "source": [
    "print(unique(canddf$Constituency))\n",
    "print(unique(constdf$Constituency.Name)) "
   ]
  },
  {
   "cell_type": "code",
   "execution_count": 249,
   "metadata": {},
   "outputs": [
    {
     "data": {
      "text/html": [
       "<style>\n",
       ".list-inline {list-style: none; margin:0; padding: 0}\n",
       ".list-inline>li {display: inline-block}\n",
       ".list-inline>li:not(:last-child)::after {content: \"\\00b7\"; padding: 0 .5ex}\n",
       "</style>\n",
       "<ol class=list-inline><li>'Constituency.Name'</li><li>'Surname'</li><li>'First.Name'</li><li>'Gender'</li><li>'Party'</li><li>'Party.Abbreviation'</li><li>'Count.Number'</li><li>'Required.To.Reach.Quota'</li><li>'Required.To.Save.Deposit'</li><li>'Votes'</li><li>'Result'</li><li>'Candidate.Id'</li><li>'Constituency.Number'</li><li>'Constituency.Ainm'</li></ol>\n"
      ],
      "text/latex": [
       "\\begin{enumerate*}\n",
       "\\item 'Constituency.Name'\n",
       "\\item 'Surname'\n",
       "\\item 'First.Name'\n",
       "\\item 'Gender'\n",
       "\\item 'Party'\n",
       "\\item 'Party.Abbreviation'\n",
       "\\item 'Count.Number'\n",
       "\\item 'Required.To.Reach.Quota'\n",
       "\\item 'Required.To.Save.Deposit'\n",
       "\\item 'Votes'\n",
       "\\item 'Result'\n",
       "\\item 'Candidate.Id'\n",
       "\\item 'Constituency.Number'\n",
       "\\item 'Constituency.Ainm'\n",
       "\\end{enumerate*}\n"
      ],
      "text/markdown": [
       "1. 'Constituency.Name'\n",
       "2. 'Surname'\n",
       "3. 'First.Name'\n",
       "4. 'Gender'\n",
       "5. 'Party'\n",
       "6. 'Party.Abbreviation'\n",
       "7. 'Count.Number'\n",
       "8. 'Required.To.Reach.Quota'\n",
       "9. 'Required.To.Save.Deposit'\n",
       "10. 'Votes'\n",
       "11. 'Result'\n",
       "12. 'Candidate.Id'\n",
       "13. 'Constituency.Number'\n",
       "14. 'Constituency.Ainm'\n",
       "\n",
       "\n"
      ],
      "text/plain": [
       " [1] \"Constituency.Name\"        \"Surname\"                 \n",
       " [3] \"First.Name\"               \"Gender\"                  \n",
       " [5] \"Party\"                    \"Party.Abbreviation\"      \n",
       " [7] \"Count.Number\"             \"Required.To.Reach.Quota\" \n",
       " [9] \"Required.To.Save.Deposit\" \"Votes\"                   \n",
       "[11] \"Result\"                   \"Candidate.Id\"            \n",
       "[13] \"Constituency.Number\"      \"Constituency.Ainm\"       "
      ]
     },
     "metadata": {},
     "output_type": "display_data"
    },
    {
     "data": {
      "text/html": [
       "<style>\n",
       ".list-inline {list-style: none; margin:0; padding: 0}\n",
       ".list-inline>li {display: inline-block}\n",
       ".list-inline>li:not(:last-child)::after {content: \"\\00b7\"; padding: 0 .5ex}\n",
       "</style>\n",
       "<ol class=list-inline><li>'Constituency.Name'</li><li>'Constituency.Ainm'</li><li>'Count.Number'</li><li>'Date.Of.Election'</li><li>'Number.Of.Candidates'</li><li>'Number.of.Seats'</li><li>'Quota'</li><li>'Required.Save.Deposit'</li><li>'Seats.Filled'</li><li>'Seats.in.Constituency'</li><li>'Spoiled'</li><li>'Total.Electorate'</li><li>'Total.Poll'</li><li>'Valid.Poll'</li><li>'Constituency.Number'</li></ol>\n"
      ],
      "text/latex": [
       "\\begin{enumerate*}\n",
       "\\item 'Constituency.Name'\n",
       "\\item 'Constituency.Ainm'\n",
       "\\item 'Count.Number'\n",
       "\\item 'Date.Of.Election'\n",
       "\\item 'Number.Of.Candidates'\n",
       "\\item 'Number.of.Seats'\n",
       "\\item 'Quota'\n",
       "\\item 'Required.Save.Deposit'\n",
       "\\item 'Seats.Filled'\n",
       "\\item 'Seats.in.Constituency'\n",
       "\\item 'Spoiled'\n",
       "\\item 'Total.Electorate'\n",
       "\\item 'Total.Poll'\n",
       "\\item 'Valid.Poll'\n",
       "\\item 'Constituency.Number'\n",
       "\\end{enumerate*}\n"
      ],
      "text/markdown": [
       "1. 'Constituency.Name'\n",
       "2. 'Constituency.Ainm'\n",
       "3. 'Count.Number'\n",
       "4. 'Date.Of.Election'\n",
       "5. 'Number.Of.Candidates'\n",
       "6. 'Number.of.Seats'\n",
       "7. 'Quota'\n",
       "8. 'Required.Save.Deposit'\n",
       "9. 'Seats.Filled'\n",
       "10. 'Seats.in.Constituency'\n",
       "11. 'Spoiled'\n",
       "12. 'Total.Electorate'\n",
       "13. 'Total.Poll'\n",
       "14. 'Valid.Poll'\n",
       "15. 'Constituency.Number'\n",
       "\n",
       "\n"
      ],
      "text/plain": [
       " [1] \"Constituency.Name\"     \"Constituency.Ainm\"     \"Count.Number\"         \n",
       " [4] \"Date.Of.Election\"      \"Number.Of.Candidates\"  \"Number.of.Seats\"      \n",
       " [7] \"Quota\"                 \"Required.Save.Deposit\" \"Seats.Filled\"         \n",
       "[10] \"Seats.in.Constituency\" \"Spoiled\"               \"Total.Electorate\"     \n",
       "[13] \"Total.Poll\"            \"Valid.Poll\"            \"Constituency.Number\"  "
      ]
     },
     "metadata": {},
     "output_type": "display_data"
    }
   ],
   "source": [
    "#Column Naming in ConstDF is different naming\n",
    "#CAND HEADINGS: Constituency\n",
    "#CONST HEADINGS: Constituency Name\n",
    "#Fix\n",
    "colnames(canddf)[colnames(canddf) == 'Constituency'] <- 'Constituency.Name'\n",
    "colnames(canddf)\n",
    "colnames(constdf)"
   ]
  },
  {
   "cell_type": "markdown",
   "metadata": {},
   "source": [
    "### Part 5:\n",
    "Using the count csv, load the data into a data frame called countdf.\n",
    "How many candidates are there in the Laois constituency according to countdf?"
   ]
  },
  {
   "cell_type": "code",
   "execution_count": 250,
   "metadata": {},
   "outputs": [
    {
     "name": "stdout",
     "output_type": "stream",
     "text": [
      "There are: 14 Laois Candidates in the countdf source\n",
      "NULL\n"
     ]
    }
   ],
   "source": [
    "numberOfLaoisCandidatesCountDF <- subset(countdf, Constituency.Name == \"Laois\")\n",
    "output <- cat(\"There are:\", length(numberOfLaoisCandidatesCountDF), \"Laois Candidates in the countdf source\\n\")\n",
    "print(output)"
   ]
  },
  {
   "cell_type": "markdown",
   "metadata": {},
   "source": [
    "### Part 6:\n",
    "Check the constituency data for consistency with the new count data. If you find inconsistencies, make a decision on how you will handle them. \n",
    "(Check countDF vs constDF in constituency data)."
   ]
  },
  {
   "cell_type": "code",
   "execution_count": 251,
   "metadata": {},
   "outputs": [
    {
     "name": "stdout",
     "output_type": "stream",
     "text": [
      "[1] \"Both have correct Column names\"\n"
     ]
    },
    {
     "data": {
      "text/html": [
       "<style>\n",
       ".list-inline {list-style: none; margin:0; padding: 0}\n",
       ".list-inline>li {display: inline-block}\n",
       ".list-inline>li:not(:last-child)::after {content: \"\\00b7\"; padding: 0 .5ex}\n",
       "</style>\n",
       "<ol class=list-inline><li>'Constituency.Name'</li><li>'Candidate.surname'</li><li>'Candidate.First.Name'</li><li>'Result'</li><li>'Count.Number'</li><li>'Non_Transferable'</li><li>'Occurred.On.Count'</li><li>'Required.To.Reach.Quota'</li><li>'Required.To.Save.Deposit'</li><li>'Transfers'</li><li>'Votes'</li><li>'Total.Votes'</li><li>'Constituency.Number'</li><li>'Candidate.Id'</li></ol>\n"
      ],
      "text/latex": [
       "\\begin{enumerate*}\n",
       "\\item 'Constituency.Name'\n",
       "\\item 'Candidate.surname'\n",
       "\\item 'Candidate.First.Name'\n",
       "\\item 'Result'\n",
       "\\item 'Count.Number'\n",
       "\\item 'Non\\_Transferable'\n",
       "\\item 'Occurred.On.Count'\n",
       "\\item 'Required.To.Reach.Quota'\n",
       "\\item 'Required.To.Save.Deposit'\n",
       "\\item 'Transfers'\n",
       "\\item 'Votes'\n",
       "\\item 'Total.Votes'\n",
       "\\item 'Constituency.Number'\n",
       "\\item 'Candidate.Id'\n",
       "\\end{enumerate*}\n"
      ],
      "text/markdown": [
       "1. 'Constituency.Name'\n",
       "2. 'Candidate.surname'\n",
       "3. 'Candidate.First.Name'\n",
       "4. 'Result'\n",
       "5. 'Count.Number'\n",
       "6. 'Non_Transferable'\n",
       "7. 'Occurred.On.Count'\n",
       "8. 'Required.To.Reach.Quota'\n",
       "9. 'Required.To.Save.Deposit'\n",
       "10. 'Transfers'\n",
       "11. 'Votes'\n",
       "12. 'Total.Votes'\n",
       "13. 'Constituency.Number'\n",
       "14. 'Candidate.Id'\n",
       "\n",
       "\n"
      ],
      "text/plain": [
       " [1] \"Constituency.Name\"        \"Candidate.surname\"       \n",
       " [3] \"Candidate.First.Name\"     \"Result\"                  \n",
       " [5] \"Count.Number\"             \"Non_Transferable\"        \n",
       " [7] \"Occurred.On.Count\"        \"Required.To.Reach.Quota\" \n",
       " [9] \"Required.To.Save.Deposit\" \"Transfers\"               \n",
       "[11] \"Votes\"                    \"Total.Votes\"             \n",
       "[13] \"Constituency.Number\"      \"Candidate.Id\"            "
      ]
     },
     "metadata": {},
     "output_type": "display_data"
    },
    {
     "data": {
      "text/html": [
       "<style>\n",
       ".list-inline {list-style: none; margin:0; padding: 0}\n",
       ".list-inline>li {display: inline-block}\n",
       ".list-inline>li:not(:last-child)::after {content: \"\\00b7\"; padding: 0 .5ex}\n",
       "</style>\n",
       "<ol class=list-inline><li>'Constituency.Name'</li><li>'Constituency.Ainm'</li><li>'Count.Number'</li><li>'Date.Of.Election'</li><li>'Number.Of.Candidates'</li><li>'Number.of.Seats'</li><li>'Quota'</li><li>'Required.Save.Deposit'</li><li>'Seats.Filled'</li><li>'Seats.in.Constituency'</li><li>'Spoiled'</li><li>'Total.Electorate'</li><li>'Total.Poll'</li><li>'Valid.Poll'</li><li>'Constituency.Number'</li></ol>\n"
      ],
      "text/latex": [
       "\\begin{enumerate*}\n",
       "\\item 'Constituency.Name'\n",
       "\\item 'Constituency.Ainm'\n",
       "\\item 'Count.Number'\n",
       "\\item 'Date.Of.Election'\n",
       "\\item 'Number.Of.Candidates'\n",
       "\\item 'Number.of.Seats'\n",
       "\\item 'Quota'\n",
       "\\item 'Required.Save.Deposit'\n",
       "\\item 'Seats.Filled'\n",
       "\\item 'Seats.in.Constituency'\n",
       "\\item 'Spoiled'\n",
       "\\item 'Total.Electorate'\n",
       "\\item 'Total.Poll'\n",
       "\\item 'Valid.Poll'\n",
       "\\item 'Constituency.Number'\n",
       "\\end{enumerate*}\n"
      ],
      "text/markdown": [
       "1. 'Constituency.Name'\n",
       "2. 'Constituency.Ainm'\n",
       "3. 'Count.Number'\n",
       "4. 'Date.Of.Election'\n",
       "5. 'Number.Of.Candidates'\n",
       "6. 'Number.of.Seats'\n",
       "7. 'Quota'\n",
       "8. 'Required.Save.Deposit'\n",
       "9. 'Seats.Filled'\n",
       "10. 'Seats.in.Constituency'\n",
       "11. 'Spoiled'\n",
       "12. 'Total.Electorate'\n",
       "13. 'Total.Poll'\n",
       "14. 'Valid.Poll'\n",
       "15. 'Constituency.Number'\n",
       "\n",
       "\n"
      ],
      "text/plain": [
       " [1] \"Constituency.Name\"     \"Constituency.Ainm\"     \"Count.Number\"         \n",
       " [4] \"Date.Of.Election\"      \"Number.Of.Candidates\"  \"Number.of.Seats\"      \n",
       " [7] \"Quota\"                 \"Required.Save.Deposit\" \"Seats.Filled\"         \n",
       "[10] \"Seats.in.Constituency\" \"Spoiled\"               \"Total.Electorate\"     \n",
       "[13] \"Total.Poll\"            \"Valid.Poll\"            \"Constituency.Number\"  "
      ]
     },
     "metadata": {},
     "output_type": "display_data"
    },
    {
     "data": {
      "text/html": [
       "<style>\n",
       ".dl-inline {width: auto; margin:0; padding: 0}\n",
       ".dl-inline>dt, .dl-inline>dd {float: none; width: auto; display: inline-block}\n",
       ".dl-inline>dt::after {content: \":\\0020\"; padding-right: .5ex}\n",
       ".dl-inline>dt:not(:first-of-type) {padding-left: .5ex}\n",
       "</style><dl class=dl-inline><dt>Carlow Kilkenny</dt><dd>1</dd><dt>Cavan Monaghan</dt><dd>1</dd><dt>Clare</dt><dd>1</dd><dt>Cork East</dt><dd>1</dd><dt>Cork North Central</dt><dd>1</dd><dt>Cork North West</dt><dd>1</dd><dt>Cork South Central</dt><dd>1</dd><dt>Cork South West</dt><dd>1</dd><dt>Donegal</dt><dd>1</dd><dt>Dublin Bay North</dt><dd>1</dd><dt>Dublin Bay South</dt><dd>1</dd><dt>Dublin Central</dt><dd>1</dd><dt>Dublin Fingal</dt><dd>1</dd><dt>Dublin Mid West</dt><dd>1</dd><dt>Dublin North West</dt><dd>1</dd><dt>Dublin Rathdown</dt><dd>1</dd><dt>Dublin South Central</dt><dd>1</dd><dt>Dublin South West</dt><dd>1</dd><dt>Dublin West</dt><dd>1</dd><dt>Dún Laoghaire</dt><dd>1</dd><dt>Galway East</dt><dd>1</dd><dt>Galway West</dt><dd>1</dd><dt>Kerry</dt><dd>1</dd><dt>Kildare North</dt><dd>1</dd><dt>Kildare South</dt><dd>1</dd><dt>Laois</dt><dd>1</dd><dt>Limerick City</dt><dd>1</dd><dt>Limerick County</dt><dd>1</dd><dt>Longford Westmeath</dt><dd>1</dd><dt>Louth</dt><dd>1</dd><dt>Mayo</dt><dd>1</dd><dt>Meath East</dt><dd>1</dd><dt>Meath West</dt><dd>1</dd><dt>Offaly</dt><dd>1</dd><dt>Roscommon Galway</dt><dd>1</dd><dt>Sligo Leitrim</dt><dd>1</dd><dt>Tipperary</dt><dd>1</dd><dt>Waterford</dt><dd>1</dd><dt>Wexford</dt><dd>1</dd><dt>Wicklow</dt><dd>1</dd></dl>\n"
      ],
      "text/latex": [
       "\\begin{description*}\n",
       "\\item[Carlow Kilkenny] 1\n",
       "\\item[Cavan Monaghan] 1\n",
       "\\item[Clare] 1\n",
       "\\item[Cork East] 1\n",
       "\\item[Cork North Central] 1\n",
       "\\item[Cork North West] 1\n",
       "\\item[Cork South Central] 1\n",
       "\\item[Cork South West] 1\n",
       "\\item[Donegal] 1\n",
       "\\item[Dublin Bay North] 1\n",
       "\\item[Dublin Bay South] 1\n",
       "\\item[Dublin Central] 1\n",
       "\\item[Dublin Fingal] 1\n",
       "\\item[Dublin Mid West] 1\n",
       "\\item[Dublin North West] 1\n",
       "\\item[Dublin Rathdown] 1\n",
       "\\item[Dublin South Central] 1\n",
       "\\item[Dublin South West] 1\n",
       "\\item[Dublin West] 1\n",
       "\\item[Dún Laoghaire] 1\n",
       "\\item[Galway East] 1\n",
       "\\item[Galway West] 1\n",
       "\\item[Kerry] 1\n",
       "\\item[Kildare North] 1\n",
       "\\item[Kildare South] 1\n",
       "\\item[Laois] 1\n",
       "\\item[Limerick City] 1\n",
       "\\item[Limerick County] 1\n",
       "\\item[Longford Westmeath] 1\n",
       "\\item[Louth] 1\n",
       "\\item[Mayo] 1\n",
       "\\item[Meath East] 1\n",
       "\\item[Meath West] 1\n",
       "\\item[Offaly] 1\n",
       "\\item[Roscommon Galway] 1\n",
       "\\item[Sligo Leitrim] 1\n",
       "\\item[Tipperary] 1\n",
       "\\item[Waterford] 1\n",
       "\\item[Wexford] 1\n",
       "\\item[Wicklow] 1\n",
       "\\end{description*}\n"
      ],
      "text/markdown": [
       "Carlow Kilkenny\n",
       ":   1Cavan Monaghan\n",
       ":   1Clare\n",
       ":   1Cork East\n",
       ":   1Cork North Central\n",
       ":   1Cork North West\n",
       ":   1Cork South Central\n",
       ":   1Cork South West\n",
       ":   1Donegal\n",
       ":   1Dublin Bay North\n",
       ":   1Dublin Bay South\n",
       ":   1Dublin Central\n",
       ":   1Dublin Fingal\n",
       ":   1Dublin Mid West\n",
       ":   1Dublin North West\n",
       ":   1Dublin Rathdown\n",
       ":   1Dublin South Central\n",
       ":   1Dublin South West\n",
       ":   1Dublin West\n",
       ":   1Dún Laoghaire\n",
       ":   1Galway East\n",
       ":   1Galway West\n",
       ":   1Kerry\n",
       ":   1Kildare North\n",
       ":   1Kildare South\n",
       ":   1Laois\n",
       ":   1Limerick City\n",
       ":   1Limerick County\n",
       ":   1Longford Westmeath\n",
       ":   1Louth\n",
       ":   1Mayo\n",
       ":   1Meath East\n",
       ":   1Meath West\n",
       ":   1Offaly\n",
       ":   1Roscommon Galway\n",
       ":   1Sligo Leitrim\n",
       ":   1Tipperary\n",
       ":   1Waterford\n",
       ":   1Wexford\n",
       ":   1Wicklow\n",
       ":   1\n",
       "\n"
      ],
      "text/plain": [
       "     Carlow Kilkenny       Cavan Monaghan                Clare \n",
       "                   1                    1                    1 \n",
       "           Cork East   Cork North Central      Cork North West \n",
       "                   1                    1                    1 \n",
       "  Cork South Central      Cork South West              Donegal \n",
       "                   1                    1                    1 \n",
       "    Dublin Bay North     Dublin Bay South       Dublin Central \n",
       "                   1                    1                    1 \n",
       "       Dublin Fingal      Dublin Mid West    Dublin North West \n",
       "                   1                    1                    1 \n",
       "     Dublin Rathdown Dublin South Central    Dublin South West \n",
       "                   1                    1                    1 \n",
       "         Dublin West        Dún Laoghaire          Galway East \n",
       "                   1                    1                    1 \n",
       "         Galway West                Kerry        Kildare North \n",
       "                   1                    1                    1 \n",
       "       Kildare South                Laois        Limerick City \n",
       "                   1                    1                    1 \n",
       "     Limerick County   Longford Westmeath                Louth \n",
       "                   1                    1                    1 \n",
       "                Mayo           Meath East           Meath West \n",
       "                   1                    1                    1 \n",
       "              Offaly     Roscommon Galway        Sligo Leitrim \n",
       "                   1                    1                    1 \n",
       "           Tipperary            Waterford              Wexford \n",
       "                   1                    1                    1 \n",
       "             Wicklow \n",
       "                   1 "
      ]
     },
     "metadata": {},
     "output_type": "display_data"
    },
    {
     "data": {
      "text/html": [
       "<style>\n",
       ".dl-inline {width: auto; margin:0; padding: 0}\n",
       ".dl-inline>dt, .dl-inline>dd {float: none; width: auto; display: inline-block}\n",
       ".dl-inline>dt::after {content: \":\\0020\"; padding-right: .5ex}\n",
       ".dl-inline>dt:not(:first-of-type) {padding-left: .5ex}\n",
       "</style><dl class=dl-inline><dt>Carlow Kilkenny</dt><dd>165</dd><dt>Cavan Monaghan</dt><dd>150</dd><dt>Clare</dt><dd>192</dd><dt>Cork East</dt><dd>150</dd><dt>Cork North Central</dt><dd>154</dd><dt>Cork North West</dt><dd>117</dd><dt>Cork South Central</dt><dd>165</dd><dt>Cork South West</dt><dd>55</dd><dt>Donegal</dt><dd>208</dd><dt>Dublin Bay North</dt><dd>300</dd><dt>Dublin Bay South</dt><dd>112</dd><dt>Dublin Central</dt><dd>165</dd><dt>Dublin Fingal</dt><dd>150</dd><dt>Dublin Mid West</dt><dd>180</dd><dt>Dublin North West</dt><dd>99</dd><dt>Dublin Rathdown</dt><dd>54</dd><dt>Dublin South Central</dt><dd>143</dd><dt>Dublin South West</dt><dd>336</dd><dt>Dublin West</dt><dd>55</dd><dt>Dún Laoghaire</dt><dd>77</dd><dt>Galway East</dt><dd>70</dd><dt>Galway West</dt><dd>280</dd><dt>Kerry</dt><dd>176</dd><dt>Kildare North</dt><dd>126</dd><dt>Kildare South</dt><dd>54</dd><dt>Laois</dt><dd>18</dd><dt>Limerick City</dt><dd>66</dd><dt>Limerick County</dt><dd>60</dd><dt>Longford Westmeath</dt><dd>270</dd><dt>Louth</dt><dd>176</dd><dt>Mayo</dt><dd>160</dd><dt>Meath East</dt><dd>108</dd><dt>Meath West</dt><dd>54</dd><dt>Offaly</dt><dd>77</dd><dt>Roscommon Galway</dt><dd>96</dd><dt>Sligo Leitrim</dt><dd>270</dd><dt>Tipperary</dt><dd>91</dd><dt>Waterford</dt><dd>108</dd><dt>Wexford</dt><dd>238</dd><dt>Wicklow</dt><dd>160</dd></dl>\n"
      ],
      "text/latex": [
       "\\begin{description*}\n",
       "\\item[Carlow Kilkenny] 165\n",
       "\\item[Cavan Monaghan] 150\n",
       "\\item[Clare] 192\n",
       "\\item[Cork East] 150\n",
       "\\item[Cork North Central] 154\n",
       "\\item[Cork North West] 117\n",
       "\\item[Cork South Central] 165\n",
       "\\item[Cork South West] 55\n",
       "\\item[Donegal] 208\n",
       "\\item[Dublin Bay North] 300\n",
       "\\item[Dublin Bay South] 112\n",
       "\\item[Dublin Central] 165\n",
       "\\item[Dublin Fingal] 150\n",
       "\\item[Dublin Mid West] 180\n",
       "\\item[Dublin North West] 99\n",
       "\\item[Dublin Rathdown] 54\n",
       "\\item[Dublin South Central] 143\n",
       "\\item[Dublin South West] 336\n",
       "\\item[Dublin West] 55\n",
       "\\item[Dún Laoghaire] 77\n",
       "\\item[Galway East] 70\n",
       "\\item[Galway West] 280\n",
       "\\item[Kerry] 176\n",
       "\\item[Kildare North] 126\n",
       "\\item[Kildare South] 54\n",
       "\\item[Laois] 18\n",
       "\\item[Limerick City] 66\n",
       "\\item[Limerick County] 60\n",
       "\\item[Longford Westmeath] 270\n",
       "\\item[Louth] 176\n",
       "\\item[Mayo] 160\n",
       "\\item[Meath East] 108\n",
       "\\item[Meath West] 54\n",
       "\\item[Offaly] 77\n",
       "\\item[Roscommon Galway] 96\n",
       "\\item[Sligo Leitrim] 270\n",
       "\\item[Tipperary] 91\n",
       "\\item[Waterford] 108\n",
       "\\item[Wexford] 238\n",
       "\\item[Wicklow] 160\n",
       "\\end{description*}\n"
      ],
      "text/markdown": [
       "Carlow Kilkenny\n",
       ":   165Cavan Monaghan\n",
       ":   150Clare\n",
       ":   192Cork East\n",
       ":   150Cork North Central\n",
       ":   154Cork North West\n",
       ":   117Cork South Central\n",
       ":   165Cork South West\n",
       ":   55Donegal\n",
       ":   208Dublin Bay North\n",
       ":   300Dublin Bay South\n",
       ":   112Dublin Central\n",
       ":   165Dublin Fingal\n",
       ":   150Dublin Mid West\n",
       ":   180Dublin North West\n",
       ":   99Dublin Rathdown\n",
       ":   54Dublin South Central\n",
       ":   143Dublin South West\n",
       ":   336Dublin West\n",
       ":   55Dún Laoghaire\n",
       ":   77Galway East\n",
       ":   70Galway West\n",
       ":   280Kerry\n",
       ":   176Kildare North\n",
       ":   126Kildare South\n",
       ":   54Laois\n",
       ":   18Limerick City\n",
       ":   66Limerick County\n",
       ":   60Longford Westmeath\n",
       ":   270Louth\n",
       ":   176Mayo\n",
       ":   160Meath East\n",
       ":   108Meath West\n",
       ":   54Offaly\n",
       ":   77Roscommon Galway\n",
       ":   96Sligo Leitrim\n",
       ":   270Tipperary\n",
       ":   91Waterford\n",
       ":   108Wexford\n",
       ":   238Wicklow\n",
       ":   160\n",
       "\n"
      ],
      "text/plain": [
       "     Carlow Kilkenny       Cavan Monaghan                Clare \n",
       "                 165                  150                  192 \n",
       "           Cork East   Cork North Central      Cork North West \n",
       "                 150                  154                  117 \n",
       "  Cork South Central      Cork South West              Donegal \n",
       "                 165                   55                  208 \n",
       "    Dublin Bay North     Dublin Bay South       Dublin Central \n",
       "                 300                  112                  165 \n",
       "       Dublin Fingal      Dublin Mid West    Dublin North West \n",
       "                 150                  180                   99 \n",
       "     Dublin Rathdown Dublin South Central    Dublin South West \n",
       "                  54                  143                  336 \n",
       "         Dublin West        Dún Laoghaire          Galway East \n",
       "                  55                   77                   70 \n",
       "         Galway West                Kerry        Kildare North \n",
       "                 280                  176                  126 \n",
       "       Kildare South                Laois        Limerick City \n",
       "                  54                   18                   66 \n",
       "     Limerick County   Longford Westmeath                Louth \n",
       "                  60                  270                  176 \n",
       "                Mayo           Meath East           Meath West \n",
       "                 160                  108                   54 \n",
       "              Offaly     Roscommon Galway        Sligo Leitrim \n",
       "                  77                   96                  270 \n",
       "           Tipperary            Waterford              Wexford \n",
       "                  91                  108                  238 \n",
       "             Wicklow \n",
       "                 160 "
      ]
     },
     "metadata": {},
     "output_type": "display_data"
    },
    {
     "name": "stdout",
     "output_type": "stream",
     "text": [
      "[1] \"Both Have correct constituency counts\"\n"
     ]
    },
    {
     "data": {
      "text/html": [
       "40"
      ],
      "text/latex": [
       "40"
      ],
      "text/markdown": [
       "40"
      ],
      "text/plain": [
       "[1] 40"
      ]
     },
     "metadata": {},
     "output_type": "display_data"
    },
    {
     "data": {
      "text/html": [
       "40"
      ],
      "text/latex": [
       "40"
      ],
      "text/markdown": [
       "40"
      ],
      "text/plain": [
       "[1] 40"
      ]
     },
     "metadata": {},
     "output_type": "display_data"
    },
    {
     "name": "stdout",
     "output_type": "stream",
     "text": [
      "[1] \"Check Sample of both\"\n"
     ]
    },
    {
     "data": {
      "text/html": [
       "<table>\n",
       "<caption>A data.frame: 6 × 15</caption>\n",
       "<thead>\n",
       "\t<tr><th></th><th scope=col>Constituency.Name</th><th scope=col>Constituency.Ainm</th><th scope=col>Count.Number</th><th scope=col>Date.Of.Election</th><th scope=col>Number.Of.Candidates</th><th scope=col>Number.of.Seats</th><th scope=col>Quota</th><th scope=col>Required.Save.Deposit</th><th scope=col>Seats.Filled</th><th scope=col>Seats.in.Constituency</th><th scope=col>Spoiled</th><th scope=col>Total.Electorate</th><th scope=col>Total.Poll</th><th scope=col>Valid.Poll</th><th scope=col>Constituency.Number</th></tr>\n",
       "\t<tr><th></th><th scope=col>&lt;fct&gt;</th><th scope=col>&lt;fct&gt;</th><th scope=col>&lt;int&gt;</th><th scope=col>&lt;fct&gt;</th><th scope=col>&lt;int&gt;</th><th scope=col>&lt;int&gt;</th><th scope=col>&lt;int&gt;</th><th scope=col>&lt;int&gt;</th><th scope=col>&lt;int&gt;</th><th scope=col>&lt;int&gt;</th><th scope=col>&lt;int&gt;</th><th scope=col>&lt;int&gt;</th><th scope=col>&lt;int&gt;</th><th scope=col>&lt;int&gt;</th><th scope=col>&lt;int&gt;</th></tr>\n",
       "</thead>\n",
       "<tbody>\n",
       "\t<tr><th scope=row>1</th><td>Carlow Kilkenny   </td><td>Ceatharlach-Cill Chainnigh</td><td>11</td><td>26/02/2016</td><td>15</td><td>5</td><td>11669</td><td>2918</td><td>5</td><td>5</td><td>505</td><td>107023</td><td>70514</td><td>70009</td><td>1</td></tr>\n",
       "\t<tr><th scope=row>2</th><td>Cavan Monaghan    </td><td>An Cabhán-Muineachán      </td><td>10</td><td>26/02/2016</td><td>15</td><td>4</td><td>11931</td><td>2983</td><td>4</td><td>4</td><td>598</td><td> 90618</td><td>60248</td><td>59650</td><td>2</td></tr>\n",
       "\t<tr><th scope=row>3</th><td>Clare             </td><td>An Clár                   </td><td>12</td><td>26/02/2016</td><td>16</td><td>4</td><td>11401</td><td>2851</td><td>4</td><td>4</td><td>407</td><td> 83660</td><td>57407</td><td>57000</td><td>3</td></tr>\n",
       "\t<tr><th scope=row>4</th><td>Cork East         </td><td>Corcaigh Thoir            </td><td>10</td><td>26/02/2016</td><td>15</td><td>4</td><td>10562</td><td>2641</td><td>4</td><td>4</td><td>445</td><td> 83236</td><td>53251</td><td>52806</td><td>4</td></tr>\n",
       "\t<tr><th scope=row>5</th><td>Cork North Central</td><td>Corcaigh Thuaidh-Lár      </td><td>11</td><td>26/02/2016</td><td>14</td><td>4</td><td>10235</td><td>2559</td><td>4</td><td>4</td><td>516</td><td> 81609</td><td>51690</td><td>51174</td><td>5</td></tr>\n",
       "\t<tr><th scope=row>6</th><td>Cork North West   </td><td>Corcaigh Thiar Thuaidh    </td><td> 9</td><td>26/02/2016</td><td>13</td><td>3</td><td>11740</td><td>2936</td><td>3</td><td>3</td><td>395</td><td> 67589</td><td>47353</td><td>46958</td><td>6</td></tr>\n",
       "</tbody>\n",
       "</table>\n"
      ],
      "text/latex": [
       "A data.frame: 6 × 15\n",
       "\\begin{tabular}{r|lllllllllllllll}\n",
       "  & Constituency.Name & Constituency.Ainm & Count.Number & Date.Of.Election & Number.Of.Candidates & Number.of.Seats & Quota & Required.Save.Deposit & Seats.Filled & Seats.in.Constituency & Spoiled & Total.Electorate & Total.Poll & Valid.Poll & Constituency.Number\\\\\n",
       "  & <fct> & <fct> & <int> & <fct> & <int> & <int> & <int> & <int> & <int> & <int> & <int> & <int> & <int> & <int> & <int>\\\\\n",
       "\\hline\n",
       "\t1 & Carlow Kilkenny    & Ceatharlach-Cill Chainnigh & 11 & 26/02/2016 & 15 & 5 & 11669 & 2918 & 5 & 5 & 505 & 107023 & 70514 & 70009 & 1\\\\\n",
       "\t2 & Cavan Monaghan     & An Cabhán-Muineachán       & 10 & 26/02/2016 & 15 & 4 & 11931 & 2983 & 4 & 4 & 598 &  90618 & 60248 & 59650 & 2\\\\\n",
       "\t3 & Clare              & An Clár                    & 12 & 26/02/2016 & 16 & 4 & 11401 & 2851 & 4 & 4 & 407 &  83660 & 57407 & 57000 & 3\\\\\n",
       "\t4 & Cork East          & Corcaigh Thoir             & 10 & 26/02/2016 & 15 & 4 & 10562 & 2641 & 4 & 4 & 445 &  83236 & 53251 & 52806 & 4\\\\\n",
       "\t5 & Cork North Central & Corcaigh Thuaidh-Lár       & 11 & 26/02/2016 & 14 & 4 & 10235 & 2559 & 4 & 4 & 516 &  81609 & 51690 & 51174 & 5\\\\\n",
       "\t6 & Cork North West    & Corcaigh Thiar Thuaidh     &  9 & 26/02/2016 & 13 & 3 & 11740 & 2936 & 3 & 3 & 395 &  67589 & 47353 & 46958 & 6\\\\\n",
       "\\end{tabular}\n"
      ],
      "text/markdown": [
       "\n",
       "A data.frame: 6 × 15\n",
       "\n",
       "| <!--/--> | Constituency.Name &lt;fct&gt; | Constituency.Ainm &lt;fct&gt; | Count.Number &lt;int&gt; | Date.Of.Election &lt;fct&gt; | Number.Of.Candidates &lt;int&gt; | Number.of.Seats &lt;int&gt; | Quota &lt;int&gt; | Required.Save.Deposit &lt;int&gt; | Seats.Filled &lt;int&gt; | Seats.in.Constituency &lt;int&gt; | Spoiled &lt;int&gt; | Total.Electorate &lt;int&gt; | Total.Poll &lt;int&gt; | Valid.Poll &lt;int&gt; | Constituency.Number &lt;int&gt; |\n",
       "|---|---|---|---|---|---|---|---|---|---|---|---|---|---|---|---|\n",
       "| 1 | Carlow Kilkenny    | Ceatharlach-Cill Chainnigh | 11 | 26/02/2016 | 15 | 5 | 11669 | 2918 | 5 | 5 | 505 | 107023 | 70514 | 70009 | 1 |\n",
       "| 2 | Cavan Monaghan     | An Cabhán-Muineachán       | 10 | 26/02/2016 | 15 | 4 | 11931 | 2983 | 4 | 4 | 598 |  90618 | 60248 | 59650 | 2 |\n",
       "| 3 | Clare              | An Clár                    | 12 | 26/02/2016 | 16 | 4 | 11401 | 2851 | 4 | 4 | 407 |  83660 | 57407 | 57000 | 3 |\n",
       "| 4 | Cork East          | Corcaigh Thoir             | 10 | 26/02/2016 | 15 | 4 | 10562 | 2641 | 4 | 4 | 445 |  83236 | 53251 | 52806 | 4 |\n",
       "| 5 | Cork North Central | Corcaigh Thuaidh-Lár       | 11 | 26/02/2016 | 14 | 4 | 10235 | 2559 | 4 | 4 | 516 |  81609 | 51690 | 51174 | 5 |\n",
       "| 6 | Cork North West    | Corcaigh Thiar Thuaidh     |  9 | 26/02/2016 | 13 | 3 | 11740 | 2936 | 3 | 3 | 395 |  67589 | 47353 | 46958 | 6 |\n",
       "\n"
      ],
      "text/plain": [
       "  Constituency.Name  Constituency.Ainm          Count.Number Date.Of.Election\n",
       "1 Carlow Kilkenny    Ceatharlach-Cill Chainnigh 11           26/02/2016      \n",
       "2 Cavan Monaghan     An Cabhán-Muineachán       10           26/02/2016      \n",
       "3 Clare              An Clár                    12           26/02/2016      \n",
       "4 Cork East          Corcaigh Thoir             10           26/02/2016      \n",
       "5 Cork North Central Corcaigh Thuaidh-Lár       11           26/02/2016      \n",
       "6 Cork North West    Corcaigh Thiar Thuaidh      9           26/02/2016      \n",
       "  Number.Of.Candidates Number.of.Seats Quota Required.Save.Deposit Seats.Filled\n",
       "1 15                   5               11669 2918                  5           \n",
       "2 15                   4               11931 2983                  4           \n",
       "3 16                   4               11401 2851                  4           \n",
       "4 15                   4               10562 2641                  4           \n",
       "5 14                   4               10235 2559                  4           \n",
       "6 13                   3               11740 2936                  3           \n",
       "  Seats.in.Constituency Spoiled Total.Electorate Total.Poll Valid.Poll\n",
       "1 5                     505     107023           70514      70009     \n",
       "2 4                     598      90618           60248      59650     \n",
       "3 4                     407      83660           57407      57000     \n",
       "4 4                     445      83236           53251      52806     \n",
       "5 4                     516      81609           51690      51174     \n",
       "6 3                     395      67589           47353      46958     \n",
       "  Constituency.Number\n",
       "1 1                  \n",
       "2 2                  \n",
       "3 3                  \n",
       "4 4                  \n",
       "5 5                  \n",
       "6 6                  "
      ]
     },
     "metadata": {},
     "output_type": "display_data"
    },
    {
     "data": {
      "text/html": [
       "<table>\n",
       "<caption>A data.frame: 6 × 14</caption>\n",
       "<thead>\n",
       "\t<tr><th></th><th scope=col>Constituency.Name</th><th scope=col>Candidate.surname</th><th scope=col>Candidate.First.Name</th><th scope=col>Result</th><th scope=col>Count.Number</th><th scope=col>Non_Transferable</th><th scope=col>Occurred.On.Count</th><th scope=col>Required.To.Reach.Quota</th><th scope=col>Required.To.Save.Deposit</th><th scope=col>Transfers</th><th scope=col>Votes</th><th scope=col>Total.Votes</th><th scope=col>Constituency.Number</th><th scope=col>Candidate.Id</th></tr>\n",
       "\t<tr><th></th><th scope=col>&lt;fct&gt;</th><th scope=col>&lt;fct&gt;</th><th scope=col>&lt;fct&gt;</th><th scope=col>&lt;fct&gt;</th><th scope=col>&lt;int&gt;</th><th scope=col>&lt;int&gt;</th><th scope=col>&lt;int&gt;</th><th scope=col>&lt;int&gt;</th><th scope=col>&lt;int&gt;</th><th scope=col>&lt;int&gt;</th><th scope=col>&lt;int&gt;</th><th scope=col>&lt;int&gt;</th><th scope=col>&lt;int&gt;</th><th scope=col>&lt;int&gt;</th></tr>\n",
       "</thead>\n",
       "<tbody>\n",
       "\t<tr><th scope=row>1</th><td>Louth</td><td>Adams</td><td>Gerry</td><td>       </td><td>1</td><td>0</td><td>0</td><td>594</td><td>0</td><td>  0</td><td>10661</td><td>10661</td><td>31</td><td>160</td></tr>\n",
       "\t<tr><th scope=row>2</th><td>Louth</td><td>Adams</td><td>Gerry</td><td>       </td><td>2</td><td>0</td><td>0</td><td>481</td><td>0</td><td>113</td><td>10661</td><td>10774</td><td>31</td><td>160</td></tr>\n",
       "\t<tr><th scope=row>3</th><td>Louth</td><td>Adams</td><td>Gerry</td><td>       </td><td>3</td><td>0</td><td>0</td><td>429</td><td>0</td><td> 52</td><td>10661</td><td>10826</td><td>31</td><td>160</td></tr>\n",
       "\t<tr><th scope=row>4</th><td>Louth</td><td>Adams</td><td>Gerry</td><td>       </td><td>4</td><td>0</td><td>0</td><td>347</td><td>0</td><td> 82</td><td>10661</td><td>10908</td><td>31</td><td>160</td></tr>\n",
       "\t<tr><th scope=row>5</th><td>Louth</td><td>Adams</td><td>Gerry</td><td>       </td><td>5</td><td>0</td><td>0</td><td>159</td><td>0</td><td>188</td><td>10661</td><td>11096</td><td>31</td><td>160</td></tr>\n",
       "\t<tr><th scope=row>6</th><td>Louth</td><td>Adams</td><td>Gerry</td><td>Elected</td><td>7</td><td>0</td><td>6</td><td>  0</td><td>0</td><td>  0</td><td>10661</td><td>11278</td><td>31</td><td>160</td></tr>\n",
       "</tbody>\n",
       "</table>\n"
      ],
      "text/latex": [
       "A data.frame: 6 × 14\n",
       "\\begin{tabular}{r|llllllllllllll}\n",
       "  & Constituency.Name & Candidate.surname & Candidate.First.Name & Result & Count.Number & Non\\_Transferable & Occurred.On.Count & Required.To.Reach.Quota & Required.To.Save.Deposit & Transfers & Votes & Total.Votes & Constituency.Number & Candidate.Id\\\\\n",
       "  & <fct> & <fct> & <fct> & <fct> & <int> & <int> & <int> & <int> & <int> & <int> & <int> & <int> & <int> & <int>\\\\\n",
       "\\hline\n",
       "\t1 & Louth & Adams & Gerry &         & 1 & 0 & 0 & 594 & 0 &   0 & 10661 & 10661 & 31 & 160\\\\\n",
       "\t2 & Louth & Adams & Gerry &         & 2 & 0 & 0 & 481 & 0 & 113 & 10661 & 10774 & 31 & 160\\\\\n",
       "\t3 & Louth & Adams & Gerry &         & 3 & 0 & 0 & 429 & 0 &  52 & 10661 & 10826 & 31 & 160\\\\\n",
       "\t4 & Louth & Adams & Gerry &         & 4 & 0 & 0 & 347 & 0 &  82 & 10661 & 10908 & 31 & 160\\\\\n",
       "\t5 & Louth & Adams & Gerry &         & 5 & 0 & 0 & 159 & 0 & 188 & 10661 & 11096 & 31 & 160\\\\\n",
       "\t6 & Louth & Adams & Gerry & Elected & 7 & 0 & 6 &   0 & 0 &   0 & 10661 & 11278 & 31 & 160\\\\\n",
       "\\end{tabular}\n"
      ],
      "text/markdown": [
       "\n",
       "A data.frame: 6 × 14\n",
       "\n",
       "| <!--/--> | Constituency.Name &lt;fct&gt; | Candidate.surname &lt;fct&gt; | Candidate.First.Name &lt;fct&gt; | Result &lt;fct&gt; | Count.Number &lt;int&gt; | Non_Transferable &lt;int&gt; | Occurred.On.Count &lt;int&gt; | Required.To.Reach.Quota &lt;int&gt; | Required.To.Save.Deposit &lt;int&gt; | Transfers &lt;int&gt; | Votes &lt;int&gt; | Total.Votes &lt;int&gt; | Constituency.Number &lt;int&gt; | Candidate.Id &lt;int&gt; |\n",
       "|---|---|---|---|---|---|---|---|---|---|---|---|---|---|---|\n",
       "| 1 | Louth | Adams | Gerry | <!----> | 1 | 0 | 0 | 594 | 0 |   0 | 10661 | 10661 | 31 | 160 |\n",
       "| 2 | Louth | Adams | Gerry | <!----> | 2 | 0 | 0 | 481 | 0 | 113 | 10661 | 10774 | 31 | 160 |\n",
       "| 3 | Louth | Adams | Gerry | <!----> | 3 | 0 | 0 | 429 | 0 |  52 | 10661 | 10826 | 31 | 160 |\n",
       "| 4 | Louth | Adams | Gerry | <!----> | 4 | 0 | 0 | 347 | 0 |  82 | 10661 | 10908 | 31 | 160 |\n",
       "| 5 | Louth | Adams | Gerry | <!----> | 5 | 0 | 0 | 159 | 0 | 188 | 10661 | 11096 | 31 | 160 |\n",
       "| 6 | Louth | Adams | Gerry | Elected | 7 | 0 | 6 |   0 | 0 |   0 | 10661 | 11278 | 31 | 160 |\n",
       "\n"
      ],
      "text/plain": [
       "  Constituency.Name Candidate.surname Candidate.First.Name Result  Count.Number\n",
       "1 Louth             Adams             Gerry                        1           \n",
       "2 Louth             Adams             Gerry                        2           \n",
       "3 Louth             Adams             Gerry                        3           \n",
       "4 Louth             Adams             Gerry                        4           \n",
       "5 Louth             Adams             Gerry                        5           \n",
       "6 Louth             Adams             Gerry                Elected 7           \n",
       "  Non_Transferable Occurred.On.Count Required.To.Reach.Quota\n",
       "1 0                0                 594                    \n",
       "2 0                0                 481                    \n",
       "3 0                0                 429                    \n",
       "4 0                0                 347                    \n",
       "5 0                0                 159                    \n",
       "6 0                6                   0                    \n",
       "  Required.To.Save.Deposit Transfers Votes Total.Votes Constituency.Number\n",
       "1 0                          0       10661 10661       31                 \n",
       "2 0                        113       10661 10774       31                 \n",
       "3 0                         52       10661 10826       31                 \n",
       "4 0                         82       10661 10908       31                 \n",
       "5 0                        188       10661 11096       31                 \n",
       "6 0                          0       10661 11278       31                 \n",
       "  Candidate.Id\n",
       "1 160         \n",
       "2 160         \n",
       "3 160         \n",
       "4 160         \n",
       "5 160         \n",
       "6 160         "
      ]
     },
     "metadata": {},
     "output_type": "display_data"
    },
    {
     "name": "stdout",
     "output_type": "stream",
     "text": [
      "[1] \"Correct Corresponding Constituency Numbers\"\n",
      "   Constituency.Name Constituency.Number\n",
      "30             Louth                  31\n",
      "     Constituency.Name Constituency.Number\n",
      "1                Louth                  31\n",
      "2                Louth                  31\n",
      "3                Louth                  31\n",
      "4                Louth                  31\n",
      "5                Louth                  31\n",
      "6                Louth                  31\n",
      "7                Louth                  31\n",
      "8                Louth                  31\n",
      "9                Louth                  31\n",
      "10               Louth                  31\n",
      "11               Louth                  31\n",
      "192              Louth                  31\n",
      "193              Louth                  31\n",
      "194              Louth                  31\n",
      "195              Louth                  31\n",
      "196              Louth                  31\n",
      "197              Louth                  31\n",
      "198              Louth                  31\n",
      "199              Louth                  31\n",
      "200              Louth                  31\n",
      "201              Louth                  31\n",
      "202              Louth                  31\n",
      "235              Louth                  31\n",
      "236              Louth                  31\n",
      "237              Louth                  31\n",
      "238              Louth                  31\n",
      "239              Louth                  31\n",
      "240              Louth                  31\n",
      "241              Louth                  31\n",
      "242              Louth                  31\n",
      "243              Louth                  31\n",
      "244              Louth                  31\n",
      "245              Louth                  31\n",
      "530              Louth                  31\n",
      "531              Louth                  31\n",
      "532              Louth                  31\n",
      "533              Louth                  31\n",
      "534              Louth                  31\n",
      "535              Louth                  31\n",
      "536              Louth                  31\n",
      "537              Louth                  31\n",
      "538              Louth                  31\n",
      "539              Louth                  31\n",
      "540              Louth                  31\n",
      "719              Louth                  31\n",
      "720              Louth                  31\n",
      "721              Louth                  31\n",
      "722              Louth                  31\n",
      "723              Louth                  31\n",
      "724              Louth                  31\n",
      "725              Louth                  31\n",
      "726              Louth                  31\n",
      "727              Louth                  31\n",
      "728              Louth                  31\n",
      "729              Louth                  31\n",
      "843              Louth                  31\n",
      "844              Louth                  31\n",
      "845              Louth                  31\n",
      "846              Louth                  31\n",
      "847              Louth                  31\n",
      "848              Louth                  31\n",
      "849              Louth                  31\n",
      "850              Louth                  31\n",
      "851              Louth                  31\n",
      "852              Louth                  31\n",
      "853              Louth                  31\n",
      "1172             Louth                  31\n",
      "1173             Louth                  31\n",
      "1174             Louth                  31\n",
      "1175             Louth                  31\n",
      "1176             Louth                  31\n",
      "1177             Louth                  31\n",
      "1178             Louth                  31\n",
      "1179             Louth                  31\n",
      "1180             Louth                  31\n",
      "1181             Louth                  31\n",
      "1182             Louth                  31\n",
      "1713             Louth                  31\n",
      "1714             Louth                  31\n",
      "1715             Louth                  31\n",
      "1716             Louth                  31\n",
      "1717             Louth                  31\n",
      "1718             Louth                  31\n",
      "1719             Louth                  31\n",
      "1720             Louth                  31\n",
      "1721             Louth                  31\n",
      "1722             Louth                  31\n",
      "1723             Louth                  31\n",
      "2009             Louth                  31\n",
      "2010             Louth                  31\n",
      "2011             Louth                  31\n",
      "2012             Louth                  31\n",
      "2013             Louth                  31\n",
      "2014             Louth                  31\n",
      "2015             Louth                  31\n",
      "2016             Louth                  31\n",
      "2017             Louth                  31\n",
      "2018             Louth                  31\n",
      "2019             Louth                  31\n",
      "3671             Louth                  31\n",
      "3672             Louth                  31\n",
      "3673             Louth                  31\n",
      "3674             Louth                  31\n",
      "3675             Louth                  31\n",
      "3676             Louth                  31\n",
      "3677             Louth                  31\n",
      "3678             Louth                  31\n",
      "3679             Louth                  31\n",
      "3680             Louth                  31\n",
      "3681             Louth                  31\n",
      "3788             Louth                  31\n",
      "3789             Louth                  31\n",
      "3790             Louth                  31\n",
      "3791             Louth                  31\n",
      "3792             Louth                  31\n",
      "3793             Louth                  31\n",
      "3794             Louth                  31\n",
      "3795             Louth                  31\n",
      "3796             Louth                  31\n",
      "3797             Louth                  31\n",
      "3798             Louth                  31\n",
      "3946             Louth                  31\n",
      "3947             Louth                  31\n",
      "3948             Louth                  31\n",
      "3949             Louth                  31\n",
      "3950             Louth                  31\n",
      "3951             Louth                  31\n",
      "3952             Louth                  31\n",
      "3953             Louth                  31\n",
      "3954             Louth                  31\n",
      "3955             Louth                  31\n",
      "3956             Louth                  31\n",
      "4456             Louth                  31\n",
      "4457             Louth                  31\n",
      "4458             Louth                  31\n",
      "4459             Louth                  31\n",
      "4460             Louth                  31\n",
      "4461             Louth                  31\n",
      "4462             Louth                  31\n",
      "4463             Louth                  31\n",
      "4464             Louth                  31\n",
      "4465             Louth                  31\n",
      "4466             Louth                  31\n",
      "4467             Louth                  31\n",
      "4468             Louth                  31\n",
      "4469             Louth                  31\n",
      "4470             Louth                  31\n",
      "4471             Louth                  31\n",
      "4472             Louth                  31\n",
      "4473             Louth                  31\n",
      "4474             Louth                  31\n",
      "4475             Louth                  31\n",
      "4476             Louth                  31\n",
      "4477             Louth                  31\n",
      "5607             Louth                  31\n",
      "5608             Louth                  31\n",
      "5609             Louth                  31\n",
      "5610             Louth                  31\n",
      "5611             Louth                  31\n",
      "5612             Louth                  31\n",
      "5613             Louth                  31\n",
      "5614             Louth                  31\n",
      "5615             Louth                  31\n",
      "5616             Louth                  31\n",
      "5617             Louth                  31\n",
      "5650             Louth                  31\n",
      "5651             Louth                  31\n",
      "5652             Louth                  31\n",
      "5653             Louth                  31\n",
      "5654             Louth                  31\n",
      "5655             Louth                  31\n",
      "5656             Louth                  31\n",
      "5657             Louth                  31\n",
      "5658             Louth                  31\n",
      "5659             Louth                  31\n",
      "5660             Louth                  31\n"
     ]
    }
   ],
   "source": [
    "#Cant find an issue\n",
    "\n",
    "print(\"Both have correct Column names\")\n",
    "colnames(countdf)\n",
    "colnames(constdf)\n",
    "\n",
    "summary(constdf$Constituency.Name)\n",
    "summary(countdf$Constituency.Name)\n",
    "\n",
    "print(\"Both Have correct constituency counts\")\n",
    "length(unique(constdf$Constituency.Name))\n",
    "length(unique(countdf$Constituency.Name))\n",
    "\n",
    "print(\"Check Sample of both\")\n",
    "head(constdf)\n",
    "head(countdf)\n",
    "\n",
    "print(\"Correct Corresponding Constituency Numbers\")\n",
    "checkSample1 <- subset(constdf, select = c(\"Constituency.Name\", \"Constituency.Number\"), Constituency.Name == \"Louth\")\n",
    "checkSample2 <- subset(countdf, select = c(\"Constituency.Name\", \"Constituency.Number\"), Constituency.Name == \"Louth\")\n",
    "print(checkSample1)\n",
    "print(checkSample2)"
   ]
  },
  {
   "cell_type": "code",
   "execution_count": null,
   "metadata": {},
   "outputs": [],
   "source": [
    "\n",
    "\n"
   ]
  },
  {
   "cell_type": "markdown",
   "metadata": {},
   "source": [
    "### Part 7:\n",
    "Check the candidate data for consistency with the count data."
   ]
  },
  {
   "cell_type": "code",
   "execution_count": 252,
   "metadata": {},
   "outputs": [
    {
     "data": {
      "text/html": [
       "<style>\n",
       ".list-inline {list-style: none; margin:0; padding: 0}\n",
       ".list-inline>li {display: inline-block}\n",
       ".list-inline>li:not(:last-child)::after {content: \"\\00b7\"; padding: 0 .5ex}\n",
       "</style>\n",
       "<ol class=list-inline><li>'Constituency.Name'</li><li>'Surname'</li><li>'First.Name'</li><li>'Gender'</li><li>'Party'</li><li>'Party.Abbreviation'</li><li>'Count.Number'</li><li>'Required.To.Reach.Quota'</li><li>'Required.To.Save.Deposit'</li><li>'Votes'</li><li>'Result'</li><li>'Candidate.Id'</li><li>'Constituency.Number'</li><li>'Constituency.Ainm'</li></ol>\n"
      ],
      "text/latex": [
       "\\begin{enumerate*}\n",
       "\\item 'Constituency.Name'\n",
       "\\item 'Surname'\n",
       "\\item 'First.Name'\n",
       "\\item 'Gender'\n",
       "\\item 'Party'\n",
       "\\item 'Party.Abbreviation'\n",
       "\\item 'Count.Number'\n",
       "\\item 'Required.To.Reach.Quota'\n",
       "\\item 'Required.To.Save.Deposit'\n",
       "\\item 'Votes'\n",
       "\\item 'Result'\n",
       "\\item 'Candidate.Id'\n",
       "\\item 'Constituency.Number'\n",
       "\\item 'Constituency.Ainm'\n",
       "\\end{enumerate*}\n"
      ],
      "text/markdown": [
       "1. 'Constituency.Name'\n",
       "2. 'Surname'\n",
       "3. 'First.Name'\n",
       "4. 'Gender'\n",
       "5. 'Party'\n",
       "6. 'Party.Abbreviation'\n",
       "7. 'Count.Number'\n",
       "8. 'Required.To.Reach.Quota'\n",
       "9. 'Required.To.Save.Deposit'\n",
       "10. 'Votes'\n",
       "11. 'Result'\n",
       "12. 'Candidate.Id'\n",
       "13. 'Constituency.Number'\n",
       "14. 'Constituency.Ainm'\n",
       "\n",
       "\n"
      ],
      "text/plain": [
       " [1] \"Constituency.Name\"        \"Surname\"                 \n",
       " [3] \"First.Name\"               \"Gender\"                  \n",
       " [5] \"Party\"                    \"Party.Abbreviation\"      \n",
       " [7] \"Count.Number\"             \"Required.To.Reach.Quota\" \n",
       " [9] \"Required.To.Save.Deposit\" \"Votes\"                   \n",
       "[11] \"Result\"                   \"Candidate.Id\"            \n",
       "[13] \"Constituency.Number\"      \"Constituency.Ainm\"       "
      ]
     },
     "metadata": {},
     "output_type": "display_data"
    },
    {
     "data": {
      "text/html": [
       "<style>\n",
       ".list-inline {list-style: none; margin:0; padding: 0}\n",
       ".list-inline>li {display: inline-block}\n",
       ".list-inline>li:not(:last-child)::after {content: \"\\00b7\"; padding: 0 .5ex}\n",
       "</style>\n",
       "<ol class=list-inline><li>'Constituency.Name'</li><li>'Surname'</li><li>'First.Name'</li><li>'Result'</li><li>'Count.Number'</li><li>'Non_Transferable'</li><li>'Occurred.On.Count'</li><li>'Required.To.Reach.Quota'</li><li>'Required.To.Save.Deposit'</li><li>'Transfers'</li><li>'Votes'</li><li>'Total.Votes'</li><li>'Constituency.Number'</li><li>'Candidate.Id'</li></ol>\n"
      ],
      "text/latex": [
       "\\begin{enumerate*}\n",
       "\\item 'Constituency.Name'\n",
       "\\item 'Surname'\n",
       "\\item 'First.Name'\n",
       "\\item 'Result'\n",
       "\\item 'Count.Number'\n",
       "\\item 'Non\\_Transferable'\n",
       "\\item 'Occurred.On.Count'\n",
       "\\item 'Required.To.Reach.Quota'\n",
       "\\item 'Required.To.Save.Deposit'\n",
       "\\item 'Transfers'\n",
       "\\item 'Votes'\n",
       "\\item 'Total.Votes'\n",
       "\\item 'Constituency.Number'\n",
       "\\item 'Candidate.Id'\n",
       "\\end{enumerate*}\n"
      ],
      "text/markdown": [
       "1. 'Constituency.Name'\n",
       "2. 'Surname'\n",
       "3. 'First.Name'\n",
       "4. 'Result'\n",
       "5. 'Count.Number'\n",
       "6. 'Non_Transferable'\n",
       "7. 'Occurred.On.Count'\n",
       "8. 'Required.To.Reach.Quota'\n",
       "9. 'Required.To.Save.Deposit'\n",
       "10. 'Transfers'\n",
       "11. 'Votes'\n",
       "12. 'Total.Votes'\n",
       "13. 'Constituency.Number'\n",
       "14. 'Candidate.Id'\n",
       "\n",
       "\n"
      ],
      "text/plain": [
       " [1] \"Constituency.Name\"        \"Surname\"                 \n",
       " [3] \"First.Name\"               \"Result\"                  \n",
       " [5] \"Count.Number\"             \"Non_Transferable\"        \n",
       " [7] \"Occurred.On.Count\"        \"Required.To.Reach.Quota\" \n",
       " [9] \"Required.To.Save.Deposit\" \"Transfers\"               \n",
       "[11] \"Votes\"                    \"Total.Votes\"             \n",
       "[13] \"Constituency.Number\"      \"Candidate.Id\"            "
      ]
     },
     "metadata": {},
     "output_type": "display_data"
    }
   ],
   "source": [
    "#Column Heading Mismatch Fix\n",
    "#What is should look like:\n",
    "colnames(canddf)\n",
    "\n",
    "#Fix\n",
    "colnames(countdf)[colnames(countdf) == 'Candidate.surname'] <- 'Surname'\n",
    "colnames(countdf)[colnames(countdf) == 'Candidate.First.Name'] <- 'First.Name'\n",
    "\n",
    "#Check\n",
    "colnames(countdf)\n"
   ]
  },
  {
   "cell_type": "code",
   "execution_count": 253,
   "metadata": {},
   "outputs": [
    {
     "data": {
      "text/html": [
       "<table>\n",
       "<caption>A data.frame: 6 × 14</caption>\n",
       "<thead>\n",
       "\t<tr><th></th><th scope=col>Constituency.Name</th><th scope=col>Surname</th><th scope=col>First.Name</th><th scope=col>Result</th><th scope=col>Count.Number</th><th scope=col>Non_Transferable</th><th scope=col>Occurred.On.Count</th><th scope=col>Required.To.Reach.Quota</th><th scope=col>Required.To.Save.Deposit</th><th scope=col>Transfers</th><th scope=col>Votes</th><th scope=col>Total.Votes</th><th scope=col>Constituency.Number</th><th scope=col>Candidate.Id</th></tr>\n",
       "\t<tr><th></th><th scope=col>&lt;fct&gt;</th><th scope=col>&lt;fct&gt;</th><th scope=col>&lt;fct&gt;</th><th scope=col>&lt;fct&gt;</th><th scope=col>&lt;int&gt;</th><th scope=col>&lt;int&gt;</th><th scope=col>&lt;int&gt;</th><th scope=col>&lt;int&gt;</th><th scope=col>&lt;int&gt;</th><th scope=col>&lt;int&gt;</th><th scope=col>&lt;int&gt;</th><th scope=col>&lt;int&gt;</th><th scope=col>&lt;int&gt;</th><th scope=col>&lt;int&gt;</th></tr>\n",
       "</thead>\n",
       "<tbody>\n",
       "\t<tr><th scope=row>1</th><td>Louth</td><td>Adams</td><td>Gerry</td><td>       </td><td>1</td><td>0</td><td>0</td><td>594</td><td>0</td><td>  0</td><td>10661</td><td>10661</td><td>31</td><td>160</td></tr>\n",
       "\t<tr><th scope=row>2</th><td>Louth</td><td>Adams</td><td>Gerry</td><td>       </td><td>2</td><td>0</td><td>0</td><td>481</td><td>0</td><td>113</td><td>10661</td><td>10774</td><td>31</td><td>160</td></tr>\n",
       "\t<tr><th scope=row>3</th><td>Louth</td><td>Adams</td><td>Gerry</td><td>       </td><td>3</td><td>0</td><td>0</td><td>429</td><td>0</td><td> 52</td><td>10661</td><td>10826</td><td>31</td><td>160</td></tr>\n",
       "\t<tr><th scope=row>4</th><td>Louth</td><td>Adams</td><td>Gerry</td><td>       </td><td>4</td><td>0</td><td>0</td><td>347</td><td>0</td><td> 82</td><td>10661</td><td>10908</td><td>31</td><td>160</td></tr>\n",
       "\t<tr><th scope=row>5</th><td>Louth</td><td>Adams</td><td>Gerry</td><td>       </td><td>5</td><td>0</td><td>0</td><td>159</td><td>0</td><td>188</td><td>10661</td><td>11096</td><td>31</td><td>160</td></tr>\n",
       "\t<tr><th scope=row>6</th><td>Louth</td><td>Adams</td><td>Gerry</td><td>Elected</td><td>7</td><td>0</td><td>6</td><td>  0</td><td>0</td><td>  0</td><td>10661</td><td>11278</td><td>31</td><td>160</td></tr>\n",
       "</tbody>\n",
       "</table>\n"
      ],
      "text/latex": [
       "A data.frame: 6 × 14\n",
       "\\begin{tabular}{r|llllllllllllll}\n",
       "  & Constituency.Name & Surname & First.Name & Result & Count.Number & Non\\_Transferable & Occurred.On.Count & Required.To.Reach.Quota & Required.To.Save.Deposit & Transfers & Votes & Total.Votes & Constituency.Number & Candidate.Id\\\\\n",
       "  & <fct> & <fct> & <fct> & <fct> & <int> & <int> & <int> & <int> & <int> & <int> & <int> & <int> & <int> & <int>\\\\\n",
       "\\hline\n",
       "\t1 & Louth & Adams & Gerry &         & 1 & 0 & 0 & 594 & 0 &   0 & 10661 & 10661 & 31 & 160\\\\\n",
       "\t2 & Louth & Adams & Gerry &         & 2 & 0 & 0 & 481 & 0 & 113 & 10661 & 10774 & 31 & 160\\\\\n",
       "\t3 & Louth & Adams & Gerry &         & 3 & 0 & 0 & 429 & 0 &  52 & 10661 & 10826 & 31 & 160\\\\\n",
       "\t4 & Louth & Adams & Gerry &         & 4 & 0 & 0 & 347 & 0 &  82 & 10661 & 10908 & 31 & 160\\\\\n",
       "\t5 & Louth & Adams & Gerry &         & 5 & 0 & 0 & 159 & 0 & 188 & 10661 & 11096 & 31 & 160\\\\\n",
       "\t6 & Louth & Adams & Gerry & Elected & 7 & 0 & 6 &   0 & 0 &   0 & 10661 & 11278 & 31 & 160\\\\\n",
       "\\end{tabular}\n"
      ],
      "text/markdown": [
       "\n",
       "A data.frame: 6 × 14\n",
       "\n",
       "| <!--/--> | Constituency.Name &lt;fct&gt; | Surname &lt;fct&gt; | First.Name &lt;fct&gt; | Result &lt;fct&gt; | Count.Number &lt;int&gt; | Non_Transferable &lt;int&gt; | Occurred.On.Count &lt;int&gt; | Required.To.Reach.Quota &lt;int&gt; | Required.To.Save.Deposit &lt;int&gt; | Transfers &lt;int&gt; | Votes &lt;int&gt; | Total.Votes &lt;int&gt; | Constituency.Number &lt;int&gt; | Candidate.Id &lt;int&gt; |\n",
       "|---|---|---|---|---|---|---|---|---|---|---|---|---|---|---|\n",
       "| 1 | Louth | Adams | Gerry | <!----> | 1 | 0 | 0 | 594 | 0 |   0 | 10661 | 10661 | 31 | 160 |\n",
       "| 2 | Louth | Adams | Gerry | <!----> | 2 | 0 | 0 | 481 | 0 | 113 | 10661 | 10774 | 31 | 160 |\n",
       "| 3 | Louth | Adams | Gerry | <!----> | 3 | 0 | 0 | 429 | 0 |  52 | 10661 | 10826 | 31 | 160 |\n",
       "| 4 | Louth | Adams | Gerry | <!----> | 4 | 0 | 0 | 347 | 0 |  82 | 10661 | 10908 | 31 | 160 |\n",
       "| 5 | Louth | Adams | Gerry | <!----> | 5 | 0 | 0 | 159 | 0 | 188 | 10661 | 11096 | 31 | 160 |\n",
       "| 6 | Louth | Adams | Gerry | Elected | 7 | 0 | 6 |   0 | 0 |   0 | 10661 | 11278 | 31 | 160 |\n",
       "\n"
      ],
      "text/plain": [
       "  Constituency.Name Surname First.Name Result  Count.Number Non_Transferable\n",
       "1 Louth             Adams   Gerry              1            0               \n",
       "2 Louth             Adams   Gerry              2            0               \n",
       "3 Louth             Adams   Gerry              3            0               \n",
       "4 Louth             Adams   Gerry              4            0               \n",
       "5 Louth             Adams   Gerry              5            0               \n",
       "6 Louth             Adams   Gerry      Elected 7            0               \n",
       "  Occurred.On.Count Required.To.Reach.Quota Required.To.Save.Deposit Transfers\n",
       "1 0                 594                     0                          0      \n",
       "2 0                 481                     0                        113      \n",
       "3 0                 429                     0                         52      \n",
       "4 0                 347                     0                         82      \n",
       "5 0                 159                     0                        188      \n",
       "6 6                   0                     0                          0      \n",
       "  Votes Total.Votes Constituency.Number Candidate.Id\n",
       "1 10661 10661       31                  160         \n",
       "2 10661 10774       31                  160         \n",
       "3 10661 10826       31                  160         \n",
       "4 10661 10908       31                  160         \n",
       "5 10661 11096       31                  160         \n",
       "6 10661 11278       31                  160         "
      ]
     },
     "metadata": {},
     "output_type": "display_data"
    },
    {
     "data": {
      "text/html": [
       "<table>\n",
       "<caption>A data.frame: 6 × 14</caption>\n",
       "<thead>\n",
       "\t<tr><th></th><th scope=col>Constituency.Name</th><th scope=col>Surname</th><th scope=col>First.Name</th><th scope=col>Gender</th><th scope=col>Party</th><th scope=col>Party.Abbreviation</th><th scope=col>Count.Number</th><th scope=col>Required.To.Reach.Quota</th><th scope=col>Required.To.Save.Deposit</th><th scope=col>Votes</th><th scope=col>Result</th><th scope=col>Candidate.Id</th><th scope=col>Constituency.Number</th><th scope=col>Constituency.Ainm</th></tr>\n",
       "\t<tr><th></th><th scope=col>&lt;chr&gt;</th><th scope=col>&lt;fct&gt;</th><th scope=col>&lt;fct&gt;</th><th scope=col>&lt;fct&gt;</th><th scope=col>&lt;fct&gt;</th><th scope=col>&lt;fct&gt;</th><th scope=col>&lt;int&gt;</th><th scope=col>&lt;int&gt;</th><th scope=col>&lt;int&gt;</th><th scope=col>&lt;int&gt;</th><th scope=col>&lt;fct&gt;</th><th scope=col>&lt;int&gt;</th><th scope=col>&lt;int&gt;</th><th scope=col>&lt;fct&gt;</th></tr>\n",
       "</thead>\n",
       "<tbody>\n",
       "\t<tr><th scope=row>1</th><td>Galway West    </td><td> Ó Cuív </td><td>Éamon          </td><td>M</td><td>Fianna Fáil</td><td>F.F.  </td><td>14</td><td>   0</td><td>   0</td><td> 9539</td><td>Elected </td><td>165</td><td> 23</td><td>Gaillimh Thiar              </td></tr>\n",
       "\t<tr><th scope=row>2</th><td>Louth          </td><td>Adams   </td><td>Gerry          </td><td>M</td><td>Sinn Féin  </td><td>S.F.  </td><td>11</td><td>   0</td><td>   0</td><td>10661</td><td>Elected </td><td>160</td><td> 31</td><td>Lú                          </td></tr>\n",
       "\t<tr><th scope=row>3</th><td>Cork  East     </td><td>Ahern   </td><td>Barbara        </td><td>F</td><td>Fianna Fáil</td><td>F.F.  </td><td>10</td><td>3781</td><td>   0</td><td> 4594</td><td>        </td><td>169</td><td>  4</td><td>Corcaigh Thoir              </td></tr>\n",
       "\t<tr><th scope=row>4</th><td>Waterford      </td><td>Ahmed   </td><td>Sheik Mohiuddin</td><td>M</td><td>Non-Party  </td><td>NON-P.</td><td> 9</td><td>   0</td><td>2443</td><td>  140</td><td>Excluded</td><td>160</td><td> 38</td><td>Port  Lairge                </td></tr>\n",
       "\t<tr><th scope=row>5</th><td>Dublin Mid West</td><td>Akpoveta</td><td>Patrick        </td><td>M</td><td>Non-Party  </td><td>NON-P.</td><td>12</td><td>   0</td><td>1813</td><td>  288</td><td>Excluded</td><td>187</td><td>643</td><td>Baile Átha Cliath Thiar-Meán</td></tr>\n",
       "\t<tr><th scope=row>6</th><td>Tipperary      </td><td>Ambrose </td><td>Siobhán        </td><td>F</td><td>Fianna Fáil</td><td>F.F.  </td><td> 7</td><td>   0</td><td>   0</td><td> 4472</td><td>Excluded</td><td>160</td><td> 36</td><td>Tiobraid Árann              </td></tr>\n",
       "</tbody>\n",
       "</table>\n"
      ],
      "text/latex": [
       "A data.frame: 6 × 14\n",
       "\\begin{tabular}{r|llllllllllllll}\n",
       "  & Constituency.Name & Surname & First.Name & Gender & Party & Party.Abbreviation & Count.Number & Required.To.Reach.Quota & Required.To.Save.Deposit & Votes & Result & Candidate.Id & Constituency.Number & Constituency.Ainm\\\\\n",
       "  & <chr> & <fct> & <fct> & <fct> & <fct> & <fct> & <int> & <int> & <int> & <int> & <fct> & <int> & <int> & <fct>\\\\\n",
       "\\hline\n",
       "\t1 & Galway West     &  Ó Cuív  & Éamon           & M & Fianna Fáil & F.F.   & 14 &    0 &    0 &  9539 & Elected  & 165 &  23 & Gaillimh Thiar              \\\\\n",
       "\t2 & Louth           & Adams    & Gerry           & M & Sinn Féin   & S.F.   & 11 &    0 &    0 & 10661 & Elected  & 160 &  31 & Lú                          \\\\\n",
       "\t3 & Cork  East      & Ahern    & Barbara         & F & Fianna Fáil & F.F.   & 10 & 3781 &    0 &  4594 &          & 169 &   4 & Corcaigh Thoir              \\\\\n",
       "\t4 & Waterford       & Ahmed    & Sheik Mohiuddin & M & Non-Party   & NON-P. &  9 &    0 & 2443 &   140 & Excluded & 160 &  38 & Port  Lairge                \\\\\n",
       "\t5 & Dublin Mid West & Akpoveta & Patrick         & M & Non-Party   & NON-P. & 12 &    0 & 1813 &   288 & Excluded & 187 & 643 & Baile Átha Cliath Thiar-Meán\\\\\n",
       "\t6 & Tipperary       & Ambrose  & Siobhán         & F & Fianna Fáil & F.F.   &  7 &    0 &    0 &  4472 & Excluded & 160 &  36 & Tiobraid Árann              \\\\\n",
       "\\end{tabular}\n"
      ],
      "text/markdown": [
       "\n",
       "A data.frame: 6 × 14\n",
       "\n",
       "| <!--/--> | Constituency.Name &lt;chr&gt; | Surname &lt;fct&gt; | First.Name &lt;fct&gt; | Gender &lt;fct&gt; | Party &lt;fct&gt; | Party.Abbreviation &lt;fct&gt; | Count.Number &lt;int&gt; | Required.To.Reach.Quota &lt;int&gt; | Required.To.Save.Deposit &lt;int&gt; | Votes &lt;int&gt; | Result &lt;fct&gt; | Candidate.Id &lt;int&gt; | Constituency.Number &lt;int&gt; | Constituency.Ainm &lt;fct&gt; |\n",
       "|---|---|---|---|---|---|---|---|---|---|---|---|---|---|---|\n",
       "| 1 | Galway West     |  Ó Cuív  | Éamon           | M | Fianna Fáil | F.F.   | 14 |    0 |    0 |  9539 | Elected  | 165 |  23 | Gaillimh Thiar               |\n",
       "| 2 | Louth           | Adams    | Gerry           | M | Sinn Féin   | S.F.   | 11 |    0 |    0 | 10661 | Elected  | 160 |  31 | Lú                           |\n",
       "| 3 | Cork  East      | Ahern    | Barbara         | F | Fianna Fáil | F.F.   | 10 | 3781 |    0 |  4594 | <!----> | 169 |   4 | Corcaigh Thoir               |\n",
       "| 4 | Waterford       | Ahmed    | Sheik Mohiuddin | M | Non-Party   | NON-P. |  9 |    0 | 2443 |   140 | Excluded | 160 |  38 | Port  Lairge                 |\n",
       "| 5 | Dublin Mid West | Akpoveta | Patrick         | M | Non-Party   | NON-P. | 12 |    0 | 1813 |   288 | Excluded | 187 | 643 | Baile Átha Cliath Thiar-Meán |\n",
       "| 6 | Tipperary       | Ambrose  | Siobhán         | F | Fianna Fáil | F.F.   |  7 |    0 |    0 |  4472 | Excluded | 160 |  36 | Tiobraid Árann               |\n",
       "\n"
      ],
      "text/plain": [
       "  Constituency.Name Surname  First.Name      Gender Party      \n",
       "1 Galway West        Ó Cuív  Éamon           M      Fianna Fáil\n",
       "2 Louth             Adams    Gerry           M      Sinn Féin  \n",
       "3 Cork  East        Ahern    Barbara         F      Fianna Fáil\n",
       "4 Waterford         Ahmed    Sheik Mohiuddin M      Non-Party  \n",
       "5 Dublin Mid West   Akpoveta Patrick         M      Non-Party  \n",
       "6 Tipperary         Ambrose  Siobhán         F      Fianna Fáil\n",
       "  Party.Abbreviation Count.Number Required.To.Reach.Quota\n",
       "1 F.F.               14              0                   \n",
       "2 S.F.               11              0                   \n",
       "3 F.F.               10           3781                   \n",
       "4 NON-P.              9              0                   \n",
       "5 NON-P.             12              0                   \n",
       "6 F.F.                7              0                   \n",
       "  Required.To.Save.Deposit Votes Result   Candidate.Id Constituency.Number\n",
       "1    0                      9539 Elected  165           23                \n",
       "2    0                     10661 Elected  160           31                \n",
       "3    0                      4594          169            4                \n",
       "4 2443                       140 Excluded 160           38                \n",
       "5 1813                       288 Excluded 187          643                \n",
       "6    0                      4472 Excluded 160           36                \n",
       "  Constituency.Ainm           \n",
       "1 Gaillimh Thiar              \n",
       "2 Lú                          \n",
       "3 Corcaigh Thoir              \n",
       "4 Port  Lairge                \n",
       "5 Baile Átha Cliath Thiar-Meán\n",
       "6 Tiobraid Árann              "
      ]
     },
     "metadata": {},
     "output_type": "display_data"
    }
   ],
   "source": [
    "#Check Content\n",
    "#Seems okay\n",
    "head(countdf)\n",
    "head(canddf)"
   ]
  },
  {
   "cell_type": "markdown",
   "metadata": {},
   "source": [
    "# Week 6\n",
    "### Merginging Data Fun!"
   ]
  },
  {
   "cell_type": "markdown",
   "metadata": {},
   "source": [
    "### Part 8. \n",
    "Merge the data sources as you see fit, to end up with a new data frame df, \n",
    "\n",
    "with columns:Candidate.First.Name, Candidate.surname, Constituency.Name, Constituency.Number, Count.Number, Gender, Number.Of.Candidates, Number.of.Seats, Party.Abbreviation, Party, Quota, Result, Seats.in.Constituency, Total.Votes, Votes"
   ]
  },
  {
   "cell_type": "code",
   "execution_count": null,
   "metadata": {},
   "outputs": [],
   "source": []
  },
  {
   "cell_type": "code",
   "execution_count": 273,
   "metadata": {
    "scrolled": false
   },
   "outputs": [
    {
     "data": {
      "text/html": [
       "<style>\n",
       ".list-inline {list-style: none; margin:0; padding: 0}\n",
       ".list-inline>li {display: inline-block}\n",
       ".list-inline>li:not(:last-child)::after {content: \"\\00b7\"; padding: 0 .5ex}\n",
       "</style>\n",
       "<ol class=list-inline><li>'Constituency.Name'</li><li>'Surname'</li><li>'First.Name'</li><li>'Count.Number'</li><li>'Constituency.Number'</li><li>'Constituency.Ainm'</li><li>'Required.To.Reach.Quota'</li><li>'Required.To.Save.Deposit'</li><li>'Votes'</li><li>'Result'</li><li>'Candidate.Id'</li><li>'Gender'</li><li>'Party'</li><li>'Party.Abbreviation'</li><li>'Date.Of.Election'</li><li>'Number.Of.Candidates'</li><li>'Number.of.Seats'</li><li>'Quota'</li><li>'Required.Save.Deposit'</li><li>'Seats.Filled'</li><li>'Seats.in.Constituency'</li><li>'Spoiled'</li><li>'Total.Electorate'</li><li>'Total.Poll'</li><li>'Valid.Poll'</li><li>'Non_Transferable'</li><li>'Occurred.On.Count'</li><li>'Transfers'</li><li>'Total.Votes'</li></ol>\n"
      ],
      "text/latex": [
       "\\begin{enumerate*}\n",
       "\\item 'Constituency.Name'\n",
       "\\item 'Surname'\n",
       "\\item 'First.Name'\n",
       "\\item 'Count.Number'\n",
       "\\item 'Constituency.Number'\n",
       "\\item 'Constituency.Ainm'\n",
       "\\item 'Required.To.Reach.Quota'\n",
       "\\item 'Required.To.Save.Deposit'\n",
       "\\item 'Votes'\n",
       "\\item 'Result'\n",
       "\\item 'Candidate.Id'\n",
       "\\item 'Gender'\n",
       "\\item 'Party'\n",
       "\\item 'Party.Abbreviation'\n",
       "\\item 'Date.Of.Election'\n",
       "\\item 'Number.Of.Candidates'\n",
       "\\item 'Number.of.Seats'\n",
       "\\item 'Quota'\n",
       "\\item 'Required.Save.Deposit'\n",
       "\\item 'Seats.Filled'\n",
       "\\item 'Seats.in.Constituency'\n",
       "\\item 'Spoiled'\n",
       "\\item 'Total.Electorate'\n",
       "\\item 'Total.Poll'\n",
       "\\item 'Valid.Poll'\n",
       "\\item 'Non\\_Transferable'\n",
       "\\item 'Occurred.On.Count'\n",
       "\\item 'Transfers'\n",
       "\\item 'Total.Votes'\n",
       "\\end{enumerate*}\n"
      ],
      "text/markdown": [
       "1. 'Constituency.Name'\n",
       "2. 'Surname'\n",
       "3. 'First.Name'\n",
       "4. 'Count.Number'\n",
       "5. 'Constituency.Number'\n",
       "6. 'Constituency.Ainm'\n",
       "7. 'Required.To.Reach.Quota'\n",
       "8. 'Required.To.Save.Deposit'\n",
       "9. 'Votes'\n",
       "10. 'Result'\n",
       "11. 'Candidate.Id'\n",
       "12. 'Gender'\n",
       "13. 'Party'\n",
       "14. 'Party.Abbreviation'\n",
       "15. 'Date.Of.Election'\n",
       "16. 'Number.Of.Candidates'\n",
       "17. 'Number.of.Seats'\n",
       "18. 'Quota'\n",
       "19. 'Required.Save.Deposit'\n",
       "20. 'Seats.Filled'\n",
       "21. 'Seats.in.Constituency'\n",
       "22. 'Spoiled'\n",
       "23. 'Total.Electorate'\n",
       "24. 'Total.Poll'\n",
       "25. 'Valid.Poll'\n",
       "26. 'Non_Transferable'\n",
       "27. 'Occurred.On.Count'\n",
       "28. 'Transfers'\n",
       "29. 'Total.Votes'\n",
       "\n",
       "\n"
      ],
      "text/plain": [
       " [1] \"Constituency.Name\"        \"Surname\"                 \n",
       " [3] \"First.Name\"               \"Count.Number\"            \n",
       " [5] \"Constituency.Number\"      \"Constituency.Ainm\"       \n",
       " [7] \"Required.To.Reach.Quota\"  \"Required.To.Save.Deposit\"\n",
       " [9] \"Votes\"                    \"Result\"                  \n",
       "[11] \"Candidate.Id\"             \"Gender\"                  \n",
       "[13] \"Party\"                    \"Party.Abbreviation\"      \n",
       "[15] \"Date.Of.Election\"         \"Number.Of.Candidates\"    \n",
       "[17] \"Number.of.Seats\"          \"Quota\"                   \n",
       "[19] \"Required.Save.Deposit\"    \"Seats.Filled\"            \n",
       "[21] \"Seats.in.Constituency\"    \"Spoiled\"                 \n",
       "[23] \"Total.Electorate\"         \"Total.Poll\"              \n",
       "[25] \"Valid.Poll\"               \"Non_Transferable\"        \n",
       "[27] \"Occurred.On.Count\"        \"Transfers\"               \n",
       "[29] \"Total.Votes\"             "
      ]
     },
     "metadata": {},
     "output_type": "display_data"
    },
    {
     "data": {
      "text/html": [
       "<style>\n",
       ".list-inline {list-style: none; margin:0; padding: 0}\n",
       ".list-inline>li {display: inline-block}\n",
       ".list-inline>li:not(:last-child)::after {content: \"\\00b7\"; padding: 0 .5ex}\n",
       "</style>\n",
       "<ol class=list-inline><li>'Constituency.Name'</li><li>'Candidate.surname'</li><li>'Candidate.First.Name'</li><li>'Count.Number'</li><li>'Constituency.Number'</li><li>'Constituency.Ainm'</li><li>'Required.To.Reach.Quota'</li><li>'Required.To.Save.Deposit'</li><li>'Votes'</li><li>'Result'</li><li>'Candidate.Id'</li><li>'Gender'</li><li>'Party'</li><li>'Party.Abbreviation'</li><li>'Date.Of.Election'</li><li>'Number.Of.Candidates'</li><li>'Number.of.Seats'</li><li>'Quota'</li><li>'Required.Save.Deposit'</li><li>'Seats.Filled'</li><li>'Seats.in.Constituency'</li><li>'Spoiled'</li><li>'Total.Electorate'</li><li>'Total.Poll'</li><li>'Valid.Poll'</li><li>'Non_Transferable'</li><li>'Occurred.On.Count'</li><li>'Transfers'</li><li>'Total.Votes'</li></ol>\n"
      ],
      "text/latex": [
       "\\begin{enumerate*}\n",
       "\\item 'Constituency.Name'\n",
       "\\item 'Candidate.surname'\n",
       "\\item 'Candidate.First.Name'\n",
       "\\item 'Count.Number'\n",
       "\\item 'Constituency.Number'\n",
       "\\item 'Constituency.Ainm'\n",
       "\\item 'Required.To.Reach.Quota'\n",
       "\\item 'Required.To.Save.Deposit'\n",
       "\\item 'Votes'\n",
       "\\item 'Result'\n",
       "\\item 'Candidate.Id'\n",
       "\\item 'Gender'\n",
       "\\item 'Party'\n",
       "\\item 'Party.Abbreviation'\n",
       "\\item 'Date.Of.Election'\n",
       "\\item 'Number.Of.Candidates'\n",
       "\\item 'Number.of.Seats'\n",
       "\\item 'Quota'\n",
       "\\item 'Required.Save.Deposit'\n",
       "\\item 'Seats.Filled'\n",
       "\\item 'Seats.in.Constituency'\n",
       "\\item 'Spoiled'\n",
       "\\item 'Total.Electorate'\n",
       "\\item 'Total.Poll'\n",
       "\\item 'Valid.Poll'\n",
       "\\item 'Non\\_Transferable'\n",
       "\\item 'Occurred.On.Count'\n",
       "\\item 'Transfers'\n",
       "\\item 'Total.Votes'\n",
       "\\end{enumerate*}\n"
      ],
      "text/markdown": [
       "1. 'Constituency.Name'\n",
       "2. 'Candidate.surname'\n",
       "3. 'Candidate.First.Name'\n",
       "4. 'Count.Number'\n",
       "5. 'Constituency.Number'\n",
       "6. 'Constituency.Ainm'\n",
       "7. 'Required.To.Reach.Quota'\n",
       "8. 'Required.To.Save.Deposit'\n",
       "9. 'Votes'\n",
       "10. 'Result'\n",
       "11. 'Candidate.Id'\n",
       "12. 'Gender'\n",
       "13. 'Party'\n",
       "14. 'Party.Abbreviation'\n",
       "15. 'Date.Of.Election'\n",
       "16. 'Number.Of.Candidates'\n",
       "17. 'Number.of.Seats'\n",
       "18. 'Quota'\n",
       "19. 'Required.Save.Deposit'\n",
       "20. 'Seats.Filled'\n",
       "21. 'Seats.in.Constituency'\n",
       "22. 'Spoiled'\n",
       "23. 'Total.Electorate'\n",
       "24. 'Total.Poll'\n",
       "25. 'Valid.Poll'\n",
       "26. 'Non_Transferable'\n",
       "27. 'Occurred.On.Count'\n",
       "28. 'Transfers'\n",
       "29. 'Total.Votes'\n",
       "\n",
       "\n"
      ],
      "text/plain": [
       " [1] \"Constituency.Name\"        \"Candidate.surname\"       \n",
       " [3] \"Candidate.First.Name\"     \"Count.Number\"            \n",
       " [5] \"Constituency.Number\"      \"Constituency.Ainm\"       \n",
       " [7] \"Required.To.Reach.Quota\"  \"Required.To.Save.Deposit\"\n",
       " [9] \"Votes\"                    \"Result\"                  \n",
       "[11] \"Candidate.Id\"             \"Gender\"                  \n",
       "[13] \"Party\"                    \"Party.Abbreviation\"      \n",
       "[15] \"Date.Of.Election\"         \"Number.Of.Candidates\"    \n",
       "[17] \"Number.of.Seats\"          \"Quota\"                   \n",
       "[19] \"Required.Save.Deposit\"    \"Seats.Filled\"            \n",
       "[21] \"Seats.in.Constituency\"    \"Spoiled\"                 \n",
       "[23] \"Total.Electorate\"         \"Total.Poll\"              \n",
       "[25] \"Valid.Poll\"               \"Non_Transferable\"        \n",
       "[27] \"Occurred.On.Count\"        \"Transfers\"               \n",
       "[29] \"Total.Votes\"             "
      ]
     },
     "metadata": {},
     "output_type": "display_data"
    }
   ],
   "source": [
    "#colnames(canddf)\n",
    "#colnames(constdf)\n",
    "\n",
    "\n",
    "mergedDF <- merge(constdf, countdf, by=c(\"Constituency.Name\", \"Count.Number\", \"Constituency.Number\"))\n",
    "#head(mergeddf) \n",
    "mergedDF <- merge(canddf, mergedDF, by=c(\"Constituency.Name\", \"Surname\", \"First.Name\", \"Count.Number\", \"Constituency.Number\", \"Constituency.Ainm\" , \"Required.To.Reach.Quota\", \"Required.To.Save.Deposit\", \"Votes\", \"Result\", \"Candidate.Id\"))\n",
    "#head(mergeddf) \n",
    "\n",
    "colnames(mergedDF)\n",
    "\n",
    "#Rename As In lab\n",
    "colnames(mergedDF)[colnames(mergedDF) == 'Surname'] <- 'Candidate.surname'\n",
    "colnames(mergedDF)[colnames(mergedDF) == 'First.Name'] <- 'Candidate.First.Name'\n",
    "colnames(mergedDF)\n",
    "\n",
    "#Drop unneccesary content\n",
    "mergedDF <- subset(mergedDF, select = c(\"Candidate.First.Name\", \"Candidate.surname\", \"Constituency.Name\", \"Constituency.Number\", \"Count.Number\", \"Gender\", \"Number.Of.Candidates\", \"Number.of.Seats\", \"Party.Abbreviation\", \"Party\", \"Quota\", \"Result\", \"Seats.in.Constituency\", \"Total.Votes\", \"Votes\"))"
   ]
  },
  {
   "cell_type": "markdown",
   "metadata": {},
   "source": [
    "### Part 9. \n",
    "Write a function that takes a parameter of the constituency name and returns a dataframe with the candidate’s first and surnames, the constituency name, gender, party and party abbreviation for all elected candidates in that constituency."
   ]
  },
  {
   "cell_type": "code",
   "execution_count": 301,
   "metadata": {},
   "outputs": [],
   "source": [
    "getEelectedCandidates <- function(constName){\n",
    "    \n",
    "    electedCandidate <- filter(mergedDF, Constituency.Name == constName)\n",
    "    electedCandidate <- filter(electedCandidate, Result == \"Elected\")\n",
    "    \n",
    "    electedCandidate <- subset(electedCandidate, select = c(\"Candidate.First.Name\", \"Candidate.surname\", \"Constituency.Name\", \"Gender\", \"Party\", \"Party.Abbreviation\"))\n",
    "    \n",
    "    return(electedCandidate)\n",
    "}"
   ]
  },
  {
   "cell_type": "code",
   "execution_count": null,
   "metadata": {},
   "outputs": [],
   "source": [
    "\n"
   ]
  },
  {
   "cell_type": "code",
   "execution_count": null,
   "metadata": {},
   "outputs": [],
   "source": []
  },
  {
   "cell_type": "markdown",
   "metadata": {},
   "source": [
    "### Part 10a.\n",
    "Using df, create plots to show the solutions to the following:\n",
    "In a constituency (pick one), show the spread of elected candidates across\n",
    "the parties.\n",
    "\n"
   ]
  },
  {
   "cell_type": "code",
   "execution_count": 302,
   "metadata": {},
   "outputs": [
    {
     "name": "stdout",
     "output_type": "stream",
     "text": [
      "  Candidate.First.Name Candidate.surname Constituency.Name Gender       Party\n",
      "1                Gerry             Adams             Louth      M   Sinn Féin\n",
      "2               Declan        Breathnach             Louth      M Fianna Fáil\n",
      "3                Peter       Fitzpatrick             Louth      M   Fine Gael\n",
      "4               Imelda           Munster             Louth      F   Sinn Féin\n",
      "5               Fergus            O'Dowd             Louth      M   Fine Gael\n",
      "  Party.Abbreviation\n",
      "1               S.F.\n",
      "2               F.F.\n",
      "3               F.G.\n",
      "4               S.F.\n",
      "5               F.G.\n"
     ]
    },
    {
     "data": {
      "image/png": "[encoded data removed]",
      "text/plain": [
       "plot without title"
      ]
     },
     "metadata": {
      "image/png": {
       "height": 960,
       "width": 960
      }
     },
     "output_type": "display_data"
    }
   ],
   "source": [
    "louthElectedCandidates <- getEelectedCandidates(\"Louth\")\n",
    "print(louthElectedCandidates)\n",
    "options(repr.plot.width=16, repr.plot.height=16)\n",
    "plot(louthElectedCandidates$Party.Abbreviation)"
   ]
  },
  {
   "cell_type": "markdown",
   "metadata": {},
   "source": [
    "### Part 10B: \n",
    "Treating the top 5 parties as individual parties and the remaining parties as ‘other’, repeat the exercise from part a."
   ]
  },
  {
   "cell_type": "code",
   "execution_count": null,
   "metadata": {},
   "outputs": [],
   "source": [
    "#Not great solution."
   ]
  },
  {
   "cell_type": "code",
   "execution_count": 303,
   "metadata": {},
   "outputs": [],
   "source": [
    "#louthElectedCandidatesTop5 <- louthElectedCandidates[rev(order(louthElectedCandidates$Party)),\"Party.Abbreviation\"][1:2]"
   ]
  },
  {
   "cell_type": "code",
   "execution_count": 309,
   "metadata": {},
   "outputs": [
    {
     "name": "stdout",
     "output_type": "stream",
     "text": [
      "  Candidate.First.Name Candidate.surname Constituency.Name Gender       Party\n",
      "1                Gerry             Adams             Louth      M   Sinn Féin\n",
      "2               Declan        Breathnach             Louth      M Fianna Fáil\n",
      "3                Peter       Fitzpatrick             Louth      M   Fine Gael\n",
      "4               Imelda           Munster             Louth      F   Sinn Féin\n",
      "5               Fergus            O'Dowd             Louth      M   Fine Gael\n",
      "  Party.Abbreviation\n",
      "1               S.F.\n",
      "2               F.F.\n",
      "3               F.G.\n",
      "4               S.F.\n",
      "5               F.G.\n",
      "  Candidate.First.Name Candidate.surname Constituency.Name Gender       Party\n",
      "1                Gerry             Adams             Louth      M   Sinn Féin\n",
      "2               Declan        Breathnach             Louth      M Fianna Fáil\n",
      "3                Peter       Fitzpatrick             Louth      M   Fine Gael\n",
      "4               Imelda           Munster             Louth      F   Sinn Féin\n",
      "5               Fergus            O'Dowd             Louth      M   Fine Gael\n",
      "  Party.Abbreviation\n",
      "1               Main\n",
      "2               Main\n",
      "3               Main\n",
      "4               Main\n",
      "5               Main\n"
     ]
    }
   ],
   "source": [
    "\n",
    "    top5 = louthElectedCandidates\n",
    "    print(top5)\n",
    "    top5$Party.Abbreviation <- mapply(gsub, pattern = \"AAA-PBP\", replacement = \"Main\", top5$Party.Abbreviation)\n",
    "    top5$Party.Abbreviation <- mapply(gsub, pattern = \"F.F.\", replacement = \"Main\", top5$Party.Abbreviation)\n",
    "    \n",
    "\n",
    "    \n",
    "    top5$Party.Abbreviation <- mapply(gsub, pattern = \"F.G.\", replacement = \"Main\", top5$Party.Abbreviation)\n",
    "    top5$Party.Abbreviation <- mapply(gsub, pattern = \"NON-P\", replacement = \"Main\", top5$Party.Abbreviation)\n",
    "    top5$Party.Abbreviation <- mapply(gsub, pattern = \"S.F.\", replacement = \"Main\", top5$Party.Abbreviation)\n",
    "    \n",
    "    top5$Party.Abbreviation <- mapply(gsub, pattern = \"C.D.\", replacement = \"Other\", top5$Party.Abbreviation)\n",
    "    top5$Party.Abbreviation <- mapply(gsub, pattern = \"C.P.I\", replacement = \"Other\", top5$Party.Abbreviation)\n",
    "    top5$Party.Abbreviation <- mapply(gsub, pattern = \"D.D.I\", replacement = \"Other\", top5$Party.Abbreviation)\n",
    "    top5$Party.Abbreviation <- mapply(gsub, pattern = \"G.P.\", replacement = \"Other\", top5$Party.Abbreviation)\n",
    "    top5$Party.Abbreviation <- mapply(gsub, pattern = \"I.4.C.\", replacement = \"Other\", top5$Party.Abbreviation)\n",
    "    top5$Party.Abbreviation <- mapply(gsub, pattern = \"I.D.P.\", replacement = \"Other\", top5$Party.Abbreviation)\n",
    "    top5$Party.Abbreviation <- mapply(gsub, pattern = \"F.N.\", replacement = \"Other\", top5$Party.Abbreviation)\n",
    "    top5$Party.Abbreviation <- mapply(gsub, pattern = \"LAB.\", replacement = \"Other\", top5$Party.Abbreviation)\n",
    "    top5$Party.Abbreviation <- mapply(gsub, pattern = \"R.I.\", replacement = \"Other\", top5$Party.Abbreviation)\n",
    "    top5$Party.Abbreviation <- mapply(gsub, pattern = \"S.D.\", replacement = \"Other\", top5$Party.Abbreviation)\n",
    "    top5$Party.Abbreviation <- mapply(gsub, pattern = \"W.D.\", replacement = \"Other\", top5$Party.Abbreviation)\n",
    "    print(top5)\n",
    "#test <- getTop5EelectedCandidates()\n",
    "#plot(test$Party.Abbreviation)"
   ]
  },
  {
   "cell_type": "code",
   "execution_count": null,
   "metadata": {},
   "outputs": [],
   "source": []
  },
  {
   "cell_type": "markdown",
   "metadata": {},
   "source": [
    "### Part 10C:\n",
    "Across all constituencies, show the number of candidates from each party that was elected."
   ]
  },
  {
   "cell_type": "code",
   "execution_count": 296,
   "metadata": {},
   "outputs": [
    {
     "data": {
      "image/png": "[encoded data removed]",
      "text/plain": [
       "plot without title"
      ]
     },
     "metadata": {
      "image/png": {
       "height": 960,
       "width": 960
      }
     },
     "output_type": "display_data"
    }
   ],
   "source": [
    "electedCandidateAll <- filter(mergedDF, Result == \"Elected\")\n",
    "    \n",
    "electedCandidateAll <- subset(electedCandidateAll, select = c(\"Candidate.First.Name\", \"Candidate.surname\", \"Constituency.Name\", \"Gender\", \"Party\", \"Party.Abbreviation\"))\n",
    "options(repr.plot.width=16, repr.plot.height=16)\n",
    "plot(electedCandidateAll$Party.Abbreviation)    "
   ]
  },
  {
   "cell_type": "code",
   "execution_count": null,
   "metadata": {},
   "outputs": [],
   "source": []
  }
 ],
 "metadata": {
  "kernelspec": {
   "display_name": "R",
   "language": "R",
   "name": "ir"
  },
  "language_info": {
   "codemirror_mode": "r",
   "file_extension": ".r",
   "mimetype": "text/x-r-source",
   "name": "R",
   "pygments_lexer": "r",
   "version": "3.6.2"
  }
 },
 "nbformat": 4,
 "nbformat_minor": 2
}
